{
  "nbformat": 4,
  "nbformat_minor": 0,
  "metadata": {
    "colab": {
      "name": "Portfolio_supervised machine learning",
      "provenance": [],
      "collapsed_sections": []
    },
    "kernelspec": {
      "name": "python3",
      "display_name": "Python 3"
    }
  },
  "cells": [
    {
      "cell_type": "markdown",
      "metadata": {
        "id": "anz-HSBYDseu"
      },
      "source": [
        "---\n",
        "\n",
        "## Supervised machine learning with penguins\n",
        "\n",
        "This assignment uses the same data as for \"unsupervised machine learning with penguins\". \n",
        "\n",
        "If you created solutions for \"unsupervised machine learning with penguins\", jump to assignment 3.\n",
        "\n",
        "### The assignment\n",
        "\n",
        "1. Inspect the data with some of the standard functions you learned so far (desc, info etc.). What do we have here?\n",
        "2. Likewise, use some standard visualizations (eg. from seaborn) to express some properties of the data\n",
        "3. Apply stanbdard preprocessing (eg. missing values, scaling, outliers, one-hot-encoding)\n",
        "4. Split the data in a train & test sample\n",
        "5. Fit a classification model (target outcome = 'species') on the training data, and evaluate its performance on the test data.\n",
        "   * Use first a logistic regression to do so.\n",
        "   * Then, use 2-3 more complex model classes of your choice."
      ]
    },
    {
      "cell_type": "code",
      "metadata": {
        "id": "6MEA42f8Dseu"
      },
      "source": [
        "# standard packaging\n",
        "\n",
        "import pandas as pd\n",
        "import seaborn as sns\n",
        "sns.set(color_codes=True, rc={'figure.figsize':(10,8)})\n",
        "\n",
        "from IPython.display import HTML #Youtube embed"
      ],
      "execution_count": null,
      "outputs": []
    },
    {
      "cell_type": "code",
      "metadata": {
        "id": "5U1yenZcDseu"
      },
      "source": [
        "# load the dataset from GitHub - original source\n",
        "\n",
        "penguins = pd.read_csv(\"https://github.com/allisonhorst/palmerpenguins/raw/5b5891f01b52ae26ad8cb9755ec93672f49328a8/data/penguins_size.csv\")"
      ],
      "execution_count": null,
      "outputs": []
    },
    {
      "cell_type": "code",
      "metadata": {
        "colab": {
          "base_uri": "https://localhost:8080/"
        },
        "id": "1Fqxwa8aBudG",
        "outputId": "eaba2f35-1db6-4531-a959-2393d64c5724"
      },
      "source": [
        "penguins.info()"
      ],
      "execution_count": null,
      "outputs": [
        {
          "output_type": "stream",
          "text": [
            "<class 'pandas.core.frame.DataFrame'>\n",
            "RangeIndex: 344 entries, 0 to 343\n",
            "Data columns (total 7 columns):\n",
            " #   Column             Non-Null Count  Dtype  \n",
            "---  ------             --------------  -----  \n",
            " 0   species_short      344 non-null    object \n",
            " 1   island             344 non-null    object \n",
            " 2   culmen_length_mm   342 non-null    float64\n",
            " 3   culmen_depth_mm    342 non-null    float64\n",
            " 4   flipper_length_mm  342 non-null    float64\n",
            " 5   body_mass_g        342 non-null    float64\n",
            " 6   sex                334 non-null    object \n",
            "dtypes: float64(4), object(3)\n",
            "memory usage: 18.9+ KB\n"
          ],
          "name": "stdout"
        }
      ]
    },
    {
      "cell_type": "code",
      "metadata": {
        "colab": {
          "base_uri": "https://localhost:8080/",
          "height": 191
        },
        "id": "b1KUnaFADQr7",
        "outputId": "54ea97a2-8092-4387-a2c7-6b495995fdca"
      },
      "source": [
        "penguins.head()"
      ],
      "execution_count": null,
      "outputs": [
        {
          "output_type": "execute_result",
          "data": {
            "text/html": [
              "<div>\n",
              "<style scoped>\n",
              "    .dataframe tbody tr th:only-of-type {\n",
              "        vertical-align: middle;\n",
              "    }\n",
              "\n",
              "    .dataframe tbody tr th {\n",
              "        vertical-align: top;\n",
              "    }\n",
              "\n",
              "    .dataframe thead th {\n",
              "        text-align: right;\n",
              "    }\n",
              "</style>\n",
              "<table border=\"1\" class=\"dataframe\">\n",
              "  <thead>\n",
              "    <tr style=\"text-align: right;\">\n",
              "      <th></th>\n",
              "      <th>species_short</th>\n",
              "      <th>island</th>\n",
              "      <th>culmen_length_mm</th>\n",
              "      <th>culmen_depth_mm</th>\n",
              "      <th>flipper_length_mm</th>\n",
              "      <th>body_mass_g</th>\n",
              "      <th>sex</th>\n",
              "    </tr>\n",
              "  </thead>\n",
              "  <tbody>\n",
              "    <tr>\n",
              "      <th>0</th>\n",
              "      <td>Adelie</td>\n",
              "      <td>Torgersen</td>\n",
              "      <td>39.1</td>\n",
              "      <td>18.7</td>\n",
              "      <td>181.0</td>\n",
              "      <td>3750.0</td>\n",
              "      <td>MALE</td>\n",
              "    </tr>\n",
              "    <tr>\n",
              "      <th>1</th>\n",
              "      <td>Adelie</td>\n",
              "      <td>Torgersen</td>\n",
              "      <td>39.5</td>\n",
              "      <td>17.4</td>\n",
              "      <td>186.0</td>\n",
              "      <td>3800.0</td>\n",
              "      <td>FEMALE</td>\n",
              "    </tr>\n",
              "    <tr>\n",
              "      <th>2</th>\n",
              "      <td>Adelie</td>\n",
              "      <td>Torgersen</td>\n",
              "      <td>40.3</td>\n",
              "      <td>18.0</td>\n",
              "      <td>195.0</td>\n",
              "      <td>3250.0</td>\n",
              "      <td>FEMALE</td>\n",
              "    </tr>\n",
              "    <tr>\n",
              "      <th>3</th>\n",
              "      <td>Adelie</td>\n",
              "      <td>Torgersen</td>\n",
              "      <td>NaN</td>\n",
              "      <td>NaN</td>\n",
              "      <td>NaN</td>\n",
              "      <td>NaN</td>\n",
              "      <td>NaN</td>\n",
              "    </tr>\n",
              "    <tr>\n",
              "      <th>4</th>\n",
              "      <td>Adelie</td>\n",
              "      <td>Torgersen</td>\n",
              "      <td>36.7</td>\n",
              "      <td>19.3</td>\n",
              "      <td>193.0</td>\n",
              "      <td>3450.0</td>\n",
              "      <td>FEMALE</td>\n",
              "    </tr>\n",
              "  </tbody>\n",
              "</table>\n",
              "</div>"
            ],
            "text/plain": [
              "  species_short     island  ...  body_mass_g     sex\n",
              "0        Adelie  Torgersen  ...       3750.0    MALE\n",
              "1        Adelie  Torgersen  ...       3800.0  FEMALE\n",
              "2        Adelie  Torgersen  ...       3250.0  FEMALE\n",
              "3        Adelie  Torgersen  ...          NaN     NaN\n",
              "4        Adelie  Torgersen  ...       3450.0  FEMALE\n",
              "\n",
              "[5 rows x 7 columns]"
            ]
          },
          "metadata": {
            "tags": []
          },
          "execution_count": 47
        }
      ]
    },
    {
      "cell_type": "code",
      "metadata": {
        "id": "3IkJsWALEmAY"
      },
      "source": [
        "penguins1 = penguins.dropna()"
      ],
      "execution_count": null,
      "outputs": []
    },
    {
      "cell_type": "code",
      "metadata": {
        "colab": {
          "base_uri": "https://localhost:8080/",
          "height": 191
        },
        "id": "M1xY2vGKEvi7",
        "outputId": "d5f04e97-6a5d-42dd-fc7f-a00509b52152"
      },
      "source": [
        "penguins1.head()"
      ],
      "execution_count": null,
      "outputs": [
        {
          "output_type": "execute_result",
          "data": {
            "text/html": [
              "<div>\n",
              "<style scoped>\n",
              "    .dataframe tbody tr th:only-of-type {\n",
              "        vertical-align: middle;\n",
              "    }\n",
              "\n",
              "    .dataframe tbody tr th {\n",
              "        vertical-align: top;\n",
              "    }\n",
              "\n",
              "    .dataframe thead th {\n",
              "        text-align: right;\n",
              "    }\n",
              "</style>\n",
              "<table border=\"1\" class=\"dataframe\">\n",
              "  <thead>\n",
              "    <tr style=\"text-align: right;\">\n",
              "      <th></th>\n",
              "      <th>species_short</th>\n",
              "      <th>island</th>\n",
              "      <th>culmen_length_mm</th>\n",
              "      <th>culmen_depth_mm</th>\n",
              "      <th>flipper_length_mm</th>\n",
              "      <th>body_mass_g</th>\n",
              "      <th>sex</th>\n",
              "    </tr>\n",
              "  </thead>\n",
              "  <tbody>\n",
              "    <tr>\n",
              "      <th>0</th>\n",
              "      <td>Adelie</td>\n",
              "      <td>Torgersen</td>\n",
              "      <td>39.1</td>\n",
              "      <td>18.7</td>\n",
              "      <td>181.0</td>\n",
              "      <td>3750.0</td>\n",
              "      <td>MALE</td>\n",
              "    </tr>\n",
              "    <tr>\n",
              "      <th>1</th>\n",
              "      <td>Adelie</td>\n",
              "      <td>Torgersen</td>\n",
              "      <td>39.5</td>\n",
              "      <td>17.4</td>\n",
              "      <td>186.0</td>\n",
              "      <td>3800.0</td>\n",
              "      <td>FEMALE</td>\n",
              "    </tr>\n",
              "    <tr>\n",
              "      <th>2</th>\n",
              "      <td>Adelie</td>\n",
              "      <td>Torgersen</td>\n",
              "      <td>40.3</td>\n",
              "      <td>18.0</td>\n",
              "      <td>195.0</td>\n",
              "      <td>3250.0</td>\n",
              "      <td>FEMALE</td>\n",
              "    </tr>\n",
              "    <tr>\n",
              "      <th>4</th>\n",
              "      <td>Adelie</td>\n",
              "      <td>Torgersen</td>\n",
              "      <td>36.7</td>\n",
              "      <td>19.3</td>\n",
              "      <td>193.0</td>\n",
              "      <td>3450.0</td>\n",
              "      <td>FEMALE</td>\n",
              "    </tr>\n",
              "    <tr>\n",
              "      <th>5</th>\n",
              "      <td>Adelie</td>\n",
              "      <td>Torgersen</td>\n",
              "      <td>39.3</td>\n",
              "      <td>20.6</td>\n",
              "      <td>190.0</td>\n",
              "      <td>3650.0</td>\n",
              "      <td>MALE</td>\n",
              "    </tr>\n",
              "  </tbody>\n",
              "</table>\n",
              "</div>"
            ],
            "text/plain": [
              "  species_short     island  ...  body_mass_g     sex\n",
              "0        Adelie  Torgersen  ...       3750.0    MALE\n",
              "1        Adelie  Torgersen  ...       3800.0  FEMALE\n",
              "2        Adelie  Torgersen  ...       3250.0  FEMALE\n",
              "4        Adelie  Torgersen  ...       3450.0  FEMALE\n",
              "5        Adelie  Torgersen  ...       3650.0    MALE\n",
              "\n",
              "[5 rows x 7 columns]"
            ]
          },
          "metadata": {
            "tags": []
          },
          "execution_count": 49
        }
      ]
    },
    {
      "cell_type": "code",
      "metadata": {
        "id": "RNWXd185B09f"
      },
      "source": [
        "X = penguins1.loc[:, 'culmen_length_mm':'body_mass_g']"
      ],
      "execution_count": null,
      "outputs": []
    },
    {
      "cell_type": "code",
      "metadata": {
        "id": "bEOTH6I6CRcz"
      },
      "source": [
        "y = penguins1.species_short"
      ],
      "execution_count": null,
      "outputs": []
    },
    {
      "cell_type": "code",
      "metadata": {
        "id": "Adr4Am4aCfgR"
      },
      "source": [
        "from sklearn.preprocessing import LabelEncoder\r\n",
        "encoder = LabelEncoder()"
      ],
      "execution_count": null,
      "outputs": []
    },
    {
      "cell_type": "code",
      "metadata": {
        "id": "9BHK-4rFCkJN"
      },
      "source": [
        "y_enc = encoder.fit_transform(y)"
      ],
      "execution_count": null,
      "outputs": []
    },
    {
      "cell_type": "code",
      "metadata": {
        "id": "NkE7m2dZCnHZ"
      },
      "source": [
        "from sklearn.preprocessing import StandardScaler\r\n",
        "scaler = StandardScaler()"
      ],
      "execution_count": null,
      "outputs": []
    },
    {
      "cell_type": "code",
      "metadata": {
        "id": "h6QfXZ9qCqOZ"
      },
      "source": [
        "X_scaled = scaler.fit_transform(X)"
      ],
      "execution_count": null,
      "outputs": []
    },
    {
      "cell_type": "code",
      "metadata": {
        "id": "DHWBixL6DoOr"
      },
      "source": [
        "from sklearn.model_selection import train_test_split\r\n",
        "X_train, X_test, y_train, y_test = train_test_split(X_scaled, y_enc, test_size = 0.2, random_state = 123)  #changed this random state from 42 to 123 since the prediction was 100%"
      ],
      "execution_count": null,
      "outputs": []
    },
    {
      "cell_type": "markdown",
      "metadata": {
        "id": "mVMRINVqEJTu"
      },
      "source": [
        "# Logistic Regression\r\n"
      ]
    },
    {
      "cell_type": "code",
      "metadata": {
        "id": "HMrHDuXgD5a5"
      },
      "source": [
        "from sklearn.model_selection import cross_val_score\r\n",
        "\r\n",
        "from sklearn.metrics import classification_report"
      ],
      "execution_count": null,
      "outputs": []
    },
    {
      "cell_type": "code",
      "metadata": {
        "colab": {
          "base_uri": "https://localhost:8080/"
        },
        "id": "iup5c_H4EFrG",
        "outputId": "53f5a4a6-9b2a-4f91-a8b2-c8f263021c3a"
      },
      "source": [
        "from sklearn.linear_model import LogisticRegression\r\n",
        "model = LogisticRegression(max_iter=2000)\r\n",
        "\r\n",
        "scores = cross_val_score(model, X_train, y_train)\r\n",
        "print(scores)"
      ],
      "execution_count": null,
      "outputs": [
        {
          "output_type": "stream",
          "text": [
            "[0.98148148 1.         1.         0.98113208 0.98113208]\n"
          ],
          "name": "stdout"
        }
      ]
    },
    {
      "cell_type": "code",
      "metadata": {
        "colab": {
          "base_uri": "https://localhost:8080/"
        },
        "id": "f3kXmYs7EOtB",
        "outputId": "3eaa2d38-49fd-4add-e7c2-248d71c47419"
      },
      "source": [
        "model.fit(X_train, y_train)\r\n",
        "\r\n",
        "print(model.score(X_test, y_test))"
      ],
      "execution_count": null,
      "outputs": [
        {
          "output_type": "stream",
          "text": [
            "0.9552238805970149\n"
          ],
          "name": "stdout"
        }
      ]
    },
    {
      "cell_type": "code",
      "metadata": {
        "colab": {
          "base_uri": "https://localhost:8080/"
        },
        "id": "AM0nkShoGxGZ",
        "outputId": "199f0b73-6ac3-4578-9cf7-035dce4afdcd"
      },
      "source": [
        "target_names = encoder.inverse_transform(list(set(y_test))) \r\n",
        "\r\n",
        "y_pred = model.predict(X_test) \r\n",
        "\r\n",
        "print(classification_report(y_test, y_pred, target_names = target_names)) "
      ],
      "execution_count": null,
      "outputs": [
        {
          "output_type": "stream",
          "text": [
            "              precision    recall  f1-score   support\n",
            "\n",
            "      Adelie       0.90      1.00      0.95        28\n",
            "   Chinstrap       1.00      0.85      0.92        20\n",
            "      Gentoo       1.00      1.00      1.00        19\n",
            "\n",
            "    accuracy                           0.96        67\n",
            "   macro avg       0.97      0.95      0.96        67\n",
            "weighted avg       0.96      0.96      0.95        67\n",
            "\n"
          ],
          "name": "stdout"
        }
      ]
    },
    {
      "cell_type": "code",
      "metadata": {
        "colab": {
          "base_uri": "https://localhost:8080/"
        },
        "id": "MeSBnS0nLp7h",
        "outputId": "b6b2b1c0-f240-4015-c664-8e48b8a4e5d5"
      },
      "source": [
        "!pip uninstall -qq mlxtend -y"
      ],
      "execution_count": null,
      "outputs": [
        {
          "output_type": "stream",
          "text": [
            "\u001b[33mWARNING: Skipping mlxtend as it is not installed.\u001b[0m\n"
          ],
          "name": "stdout"
        }
      ]
    },
    {
      "cell_type": "code",
      "metadata": {
        "colab": {
          "base_uri": "https://localhost:8080/"
        },
        "id": "WuaE9it0L6U_",
        "outputId": "04d440f5-3508-4d47-ba46-5d6f79b3c44c"
      },
      "source": [
        "!pip install -qq -U mlxtend"
      ],
      "execution_count": null,
      "outputs": [
        {
          "output_type": "stream",
          "text": [
            "\u001b[?25l\r\u001b[K     |▎                               | 10kB 19.4MB/s eta 0:00:01\r\u001b[K     |▌                               | 20kB 25.1MB/s eta 0:00:01\r\u001b[K     |▊                               | 30kB 11.2MB/s eta 0:00:01\r\u001b[K     |█                               | 40kB 8.9MB/s eta 0:00:01\r\u001b[K     |█▏                              | 51kB 4.3MB/s eta 0:00:01\r\u001b[K     |█▌                              | 61kB 4.7MB/s eta 0:00:01\r\u001b[K     |█▊                              | 71kB 5.0MB/s eta 0:00:01\r\u001b[K     |██                              | 81kB 5.3MB/s eta 0:00:01\r\u001b[K     |██▏                             | 92kB 5.6MB/s eta 0:00:01\r\u001b[K     |██▍                             | 102kB 5.9MB/s eta 0:00:01\r\u001b[K     |██▊                             | 112kB 5.9MB/s eta 0:00:01\r\u001b[K     |███                             | 122kB 5.9MB/s eta 0:00:01\r\u001b[K     |███▏                            | 133kB 5.9MB/s eta 0:00:01\r\u001b[K     |███▍                            | 143kB 5.9MB/s eta 0:00:01\r\u001b[K     |███▋                            | 153kB 5.9MB/s eta 0:00:01\r\u001b[K     |████                            | 163kB 5.9MB/s eta 0:00:01\r\u001b[K     |████▏                           | 174kB 5.9MB/s eta 0:00:01\r\u001b[K     |████▍                           | 184kB 5.9MB/s eta 0:00:01\r\u001b[K     |████▋                           | 194kB 5.9MB/s eta 0:00:01\r\u001b[K     |████▉                           | 204kB 5.9MB/s eta 0:00:01\r\u001b[K     |█████▏                          | 215kB 5.9MB/s eta 0:00:01\r\u001b[K     |█████▍                          | 225kB 5.9MB/s eta 0:00:01\r\u001b[K     |█████▋                          | 235kB 5.9MB/s eta 0:00:01\r\u001b[K     |█████▉                          | 245kB 5.9MB/s eta 0:00:01\r\u001b[K     |██████                          | 256kB 5.9MB/s eta 0:00:01\r\u001b[K     |██████▎                         | 266kB 5.9MB/s eta 0:00:01\r\u001b[K     |██████▋                         | 276kB 5.9MB/s eta 0:00:01\r\u001b[K     |██████▉                         | 286kB 5.9MB/s eta 0:00:01\r\u001b[K     |███████                         | 296kB 5.9MB/s eta 0:00:01\r\u001b[K     |███████▎                        | 307kB 5.9MB/s eta 0:00:01\r\u001b[K     |███████▌                        | 317kB 5.9MB/s eta 0:00:01\r\u001b[K     |███████▉                        | 327kB 5.9MB/s eta 0:00:01\r\u001b[K     |████████                        | 337kB 5.9MB/s eta 0:00:01\r\u001b[K     |████████▎                       | 348kB 5.9MB/s eta 0:00:01\r\u001b[K     |████████▌                       | 358kB 5.9MB/s eta 0:00:01\r\u001b[K     |████████▊                       | 368kB 5.9MB/s eta 0:00:01\r\u001b[K     |█████████                       | 378kB 5.9MB/s eta 0:00:01\r\u001b[K     |█████████▎                      | 389kB 5.9MB/s eta 0:00:01\r\u001b[K     |█████████▌                      | 399kB 5.9MB/s eta 0:00:01\r\u001b[K     |█████████▊                      | 409kB 5.9MB/s eta 0:00:01\r\u001b[K     |██████████                      | 419kB 5.9MB/s eta 0:00:01\r\u001b[K     |██████████▎                     | 430kB 5.9MB/s eta 0:00:01\r\u001b[K     |██████████▌                     | 440kB 5.9MB/s eta 0:00:01\r\u001b[K     |██████████▊                     | 450kB 5.9MB/s eta 0:00:01\r\u001b[K     |███████████                     | 460kB 5.9MB/s eta 0:00:01\r\u001b[K     |███████████▏                    | 471kB 5.9MB/s eta 0:00:01\r\u001b[K     |███████████▌                    | 481kB 5.9MB/s eta 0:00:01\r\u001b[K     |███████████▊                    | 491kB 5.9MB/s eta 0:00:01\r\u001b[K     |████████████                    | 501kB 5.9MB/s eta 0:00:01\r\u001b[K     |████████████▏                   | 512kB 5.9MB/s eta 0:00:01\r\u001b[K     |████████████▍                   | 522kB 5.9MB/s eta 0:00:01\r\u001b[K     |████████████▋                   | 532kB 5.9MB/s eta 0:00:01\r\u001b[K     |█████████████                   | 542kB 5.9MB/s eta 0:00:01\r\u001b[K     |█████████████▏                  | 552kB 5.9MB/s eta 0:00:01\r\u001b[K     |█████████████▍                  | 563kB 5.9MB/s eta 0:00:01\r\u001b[K     |█████████████▋                  | 573kB 5.9MB/s eta 0:00:01\r\u001b[K     |█████████████▉                  | 583kB 5.9MB/s eta 0:00:01\r\u001b[K     |██████████████▏                 | 593kB 5.9MB/s eta 0:00:01\r\u001b[K     |██████████████▍                 | 604kB 5.9MB/s eta 0:00:01\r\u001b[K     |██████████████▋                 | 614kB 5.9MB/s eta 0:00:01\r\u001b[K     |██████████████▉                 | 624kB 5.9MB/s eta 0:00:01\r\u001b[K     |███████████████                 | 634kB 5.9MB/s eta 0:00:01\r\u001b[K     |███████████████▍                | 645kB 5.9MB/s eta 0:00:01\r\u001b[K     |███████████████▋                | 655kB 5.9MB/s eta 0:00:01\r\u001b[K     |███████████████▉                | 665kB 5.9MB/s eta 0:00:01\r\u001b[K     |████████████████                | 675kB 5.9MB/s eta 0:00:01\r\u001b[K     |████████████████▎               | 686kB 5.9MB/s eta 0:00:01\r\u001b[K     |████████████████▋               | 696kB 5.9MB/s eta 0:00:01\r\u001b[K     |████████████████▉               | 706kB 5.9MB/s eta 0:00:01\r\u001b[K     |█████████████████               | 716kB 5.9MB/s eta 0:00:01\r\u001b[K     |█████████████████▎              | 727kB 5.9MB/s eta 0:00:01\r\u001b[K     |█████████████████▌              | 737kB 5.9MB/s eta 0:00:01\r\u001b[K     |█████████████████▊              | 747kB 5.9MB/s eta 0:00:01\r\u001b[K     |██████████████████              | 757kB 5.9MB/s eta 0:00:01\r\u001b[K     |██████████████████▎             | 768kB 5.9MB/s eta 0:00:01\r\u001b[K     |██████████████████▌             | 778kB 5.9MB/s eta 0:00:01\r\u001b[K     |██████████████████▊             | 788kB 5.9MB/s eta 0:00:01\r\u001b[K     |███████████████████             | 798kB 5.9MB/s eta 0:00:01\r\u001b[K     |███████████████████▎            | 808kB 5.9MB/s eta 0:00:01\r\u001b[K     |███████████████████▌            | 819kB 5.9MB/s eta 0:00:01\r\u001b[K     |███████████████████▊            | 829kB 5.9MB/s eta 0:00:01\r\u001b[K     |████████████████████            | 839kB 5.9MB/s eta 0:00:01\r\u001b[K     |████████████████████▏           | 849kB 5.9MB/s eta 0:00:01\r\u001b[K     |████████████████████▌           | 860kB 5.9MB/s eta 0:00:01\r\u001b[K     |████████████████████▊           | 870kB 5.9MB/s eta 0:00:01\r\u001b[K     |█████████████████████           | 880kB 5.9MB/s eta 0:00:01\r\u001b[K     |█████████████████████▏          | 890kB 5.9MB/s eta 0:00:01\r\u001b[K     |█████████████████████▍          | 901kB 5.9MB/s eta 0:00:01\r\u001b[K     |█████████████████████▊          | 911kB 5.9MB/s eta 0:00:01\r\u001b[K     |██████████████████████          | 921kB 5.9MB/s eta 0:00:01\r\u001b[K     |██████████████████████▏         | 931kB 5.9MB/s eta 0:00:01\r\u001b[K     |██████████████████████▍         | 942kB 5.9MB/s eta 0:00:01\r\u001b[K     |██████████████████████▋         | 952kB 5.9MB/s eta 0:00:01\r\u001b[K     |███████████████████████         | 962kB 5.9MB/s eta 0:00:01\r\u001b[K     |███████████████████████▏        | 972kB 5.9MB/s eta 0:00:01\r\u001b[K     |███████████████████████▍        | 983kB 5.9MB/s eta 0:00:01\r\u001b[K     |███████████████████████▋        | 993kB 5.9MB/s eta 0:00:01\r\u001b[K     |███████████████████████▉        | 1.0MB 5.9MB/s eta 0:00:01\r\u001b[K     |████████████████████████        | 1.0MB 5.9MB/s eta 0:00:01\r\u001b[K     |████████████████████████▍       | 1.0MB 5.9MB/s eta 0:00:01\r\u001b[K     |████████████████████████▋       | 1.0MB 5.9MB/s eta 0:00:01\r\u001b[K     |████████████████████████▉       | 1.0MB 5.9MB/s eta 0:00:01\r\u001b[K     |█████████████████████████       | 1.1MB 5.9MB/s eta 0:00:01\r\u001b[K     |█████████████████████████▎      | 1.1MB 5.9MB/s eta 0:00:01\r\u001b[K     |█████████████████████████▋      | 1.1MB 5.9MB/s eta 0:00:01\r\u001b[K     |█████████████████████████▉      | 1.1MB 5.9MB/s eta 0:00:01\r\u001b[K     |██████████████████████████      | 1.1MB 5.9MB/s eta 0:00:01\r\u001b[K     |██████████████████████████▎     | 1.1MB 5.9MB/s eta 0:00:01\r\u001b[K     |██████████████████████████▌     | 1.1MB 5.9MB/s eta 0:00:01\r\u001b[K     |██████████████████████████▉     | 1.1MB 5.9MB/s eta 0:00:01\r\u001b[K     |███████████████████████████     | 1.1MB 5.9MB/s eta 0:00:01\r\u001b[K     |███████████████████████████▎    | 1.1MB 5.9MB/s eta 0:00:01\r\u001b[K     |███████████████████████████▌    | 1.2MB 5.9MB/s eta 0:00:01\r\u001b[K     |███████████████████████████▊    | 1.2MB 5.9MB/s eta 0:00:01\r\u001b[K     |████████████████████████████    | 1.2MB 5.9MB/s eta 0:00:01\r\u001b[K     |████████████████████████████▎   | 1.2MB 5.9MB/s eta 0:00:01\r\u001b[K     |████████████████████████████▌   | 1.2MB 5.9MB/s eta 0:00:01\r\u001b[K     |████████████████████████████▊   | 1.2MB 5.9MB/s eta 0:00:01\r\u001b[K     |█████████████████████████████   | 1.2MB 5.9MB/s eta 0:00:01\r\u001b[K     |█████████████████████████████▏  | 1.2MB 5.9MB/s eta 0:00:01\r\u001b[K     |█████████████████████████████▌  | 1.2MB 5.9MB/s eta 0:00:01\r\u001b[K     |█████████████████████████████▊  | 1.2MB 5.9MB/s eta 0:00:01\r\u001b[K     |██████████████████████████████  | 1.3MB 5.9MB/s eta 0:00:01\r\u001b[K     |██████████████████████████████▏ | 1.3MB 5.9MB/s eta 0:00:01\r\u001b[K     |██████████████████████████████▍ | 1.3MB 5.9MB/s eta 0:00:01\r\u001b[K     |██████████████████████████████▊ | 1.3MB 5.9MB/s eta 0:00:01\r\u001b[K     |███████████████████████████████ | 1.3MB 5.9MB/s eta 0:00:01\r\u001b[K     |███████████████████████████████▏| 1.3MB 5.9MB/s eta 0:00:01\r\u001b[K     |███████████████████████████████▍| 1.3MB 5.9MB/s eta 0:00:01\r\u001b[K     |███████████████████████████████▋| 1.3MB 5.9MB/s eta 0:00:01\r\u001b[K     |████████████████████████████████| 1.3MB 5.9MB/s eta 0:00:01\r\u001b[K     |████████████████████████████████| 1.4MB 5.9MB/s \n",
            "\u001b[?25h"
          ],
          "name": "stdout"
        }
      ]
    },
    {
      "cell_type": "code",
      "metadata": {
        "id": "WPBIXJKELznL"
      },
      "source": [
        "from mlxtend.plotting import plot_confusion_matrix\r\n",
        "\r\n",
        "from sklearn.metrics import confusion_matrix"
      ],
      "execution_count": null,
      "outputs": []
    },
    {
      "cell_type": "code",
      "metadata": {
        "colab": {
          "base_uri": "https://localhost:8080/",
          "height": 573
        },
        "id": "ZaJ7Zvk1MAF8",
        "outputId": "45fb29b0-9892-43b4-87dc-fa4b54dad678"
      },
      "source": [
        "confmatrix = confusion_matrix(y_test,y_pred) \r\n",
        "\r\n",
        "plot_confusion_matrix(conf_mat=confmatrix,\r\n",
        "                                colorbar=True,\r\n",
        "                                show_absolute=True,\r\n",
        "                                show_normed=True,\r\n",
        "                                hide_spines = True,\r\n",
        "                                class_names=target_names)"
      ],
      "execution_count": null,
      "outputs": [
        {
          "output_type": "execute_result",
          "data": {
            "text/plain": [
              "(<Figure size 720x576 with 2 Axes>,\n",
              " <matplotlib.axes._subplots.AxesSubplot at 0x7f6be37c8400>)"
            ]
          },
          "metadata": {
            "tags": []
          },
          "execution_count": 92
        },
        {
          "output_type": "display_data",
          "data": {
            "image/png": "[encoded data removed]",
            "text/plain": [
              "<Figure size 720x576 with 2 Axes>"
            ]
          },
          "metadata": {
            "tags": []
          }
        }
      ]
    },
    {
      "cell_type": "markdown",
      "metadata": {
        "id": "912gLsNFMKh0"
      },
      "source": [
        "The logistic regression model predicted 100% all the Adelie species and Gentoo species, and failed some Chinstrap species by confusing them with Adelie"
      ]
    },
    {
      "cell_type": "markdown",
      "metadata": {
        "id": "G-PoHEJ0MlBb"
      },
      "source": [
        "# Random Forest\r\n"
      ]
    },
    {
      "cell_type": "code",
      "metadata": {
        "colab": {
          "base_uri": "https://localhost:8080/"
        },
        "id": "DbD_C_YxMxaU",
        "outputId": "46d471c0-601a-451f-db6f-10f5949d0fce"
      },
      "source": [
        "from sklearn.ensemble import RandomForestClassifier\r\n",
        "\r\n",
        "model = RandomForestClassifier()\r\n",
        "\r\n",
        "scores = cross_val_score(model, X_train, y_train, cv = 5)\r\n",
        "print(scores)"
      ],
      "execution_count": null,
      "outputs": [
        {
          "output_type": "stream",
          "text": [
            "[0.98148148 1.         1.         0.90566038 0.9245283 ]\n"
          ],
          "name": "stdout"
        }
      ]
    },
    {
      "cell_type": "code",
      "metadata": {
        "colab": {
          "base_uri": "https://localhost:8080/"
        },
        "id": "8n46InFKM5-8",
        "outputId": "4e33f340-c399-4ee4-dbaa-0bbf783518da"
      },
      "source": [
        "model.fit(X_train, y_train)\r\n",
        "print(model.score(X_test, y_test))"
      ],
      "execution_count": null,
      "outputs": [
        {
          "output_type": "stream",
          "text": [
            "0.9402985074626866\n"
          ],
          "name": "stdout"
        }
      ]
    },
    {
      "cell_type": "markdown",
      "metadata": {
        "id": "YU0PjJvANC0h"
      },
      "source": [
        "strangely the logistic regression model was more accurate"
      ]
    },
    {
      "cell_type": "code",
      "metadata": {
        "colab": {
          "base_uri": "https://localhost:8080/"
        },
        "id": "Nw2sO01HNKx-",
        "outputId": "b5d3e3f0-6749-438e-833e-a44c8b522121"
      },
      "source": [
        "target_names = encoder.inverse_transform(list(set(y_test))) # get real region names back using inverse_transform\r\n",
        "\r\n",
        "y_pred = model.predict(X_test) # predict from the testset\r\n",
        "\r\n",
        "print(classification_report(y_test, y_pred, target_names=target_names)) #Print out the report"
      ],
      "execution_count": null,
      "outputs": [
        {
          "output_type": "stream",
          "text": [
            "              precision    recall  f1-score   support\n",
            "\n",
            "      Adelie       0.90      1.00      0.95        28\n",
            "   Chinstrap       0.94      0.85      0.89        20\n",
            "      Gentoo       1.00      0.95      0.97        19\n",
            "\n",
            "    accuracy                           0.94        67\n",
            "   macro avg       0.95      0.93      0.94        67\n",
            "weighted avg       0.94      0.94      0.94        67\n",
            "\n"
          ],
          "name": "stdout"
        }
      ]
    },
    {
      "cell_type": "code",
      "metadata": {
        "colab": {
          "base_uri": "https://localhost:8080/",
          "height": 573
        },
        "id": "XeN50RAjNYJG",
        "outputId": "cded6813-1126-460d-9a70-c0a2198b0444"
      },
      "source": [
        "confmatrix = confusion_matrix(y_test,y_pred) \r\n",
        "plot_confusion_matrix(conf_mat=confmatrix,\r\n",
        "                                colorbar=True,\r\n",
        "                                show_absolute=True,\r\n",
        "                                show_normed=True,\r\n",
        "                                class_names = target_names)\r\n"
      ],
      "execution_count": null,
      "outputs": [
        {
          "output_type": "execute_result",
          "data": {
            "text/plain": [
              "(<Figure size 720x576 with 2 Axes>,\n",
              " <matplotlib.axes._subplots.AxesSubplot at 0x7f6bdff2dac8>)"
            ]
          },
          "metadata": {
            "tags": []
          },
          "execution_count": 96
        },
        {
          "output_type": "display_data",
          "data": {
            "image/png": "[encoded data removed]",
            "text/plain": [
              "<Figure size 720x576 with 2 Axes>"
            ]
          },
          "metadata": {
            "tags": []
          }
        }
      ]
    },
    {
      "cell_type": "markdown",
      "metadata": {
        "id": "C00-szyMNfzJ"
      },
      "source": [
        "same results as from logistic regression\r\n"
      ]
    },
    {
      "cell_type": "markdown",
      "metadata": {
        "id": "cLHwfhl2Nkae"
      },
      "source": [
        "# XGBoost\r\n"
      ]
    },
    {
      "cell_type": "code",
      "metadata": {
        "colab": {
          "base_uri": "https://localhost:8080/"
        },
        "id": "ug2kR_57NpUP",
        "outputId": "048598fb-39cb-4e44-b494-7c7f152aa7d3"
      },
      "source": [
        "import xgboost as xgb\r\n",
        "\r\n",
        "model = xgb.XGBClassifier()\r\n",
        "\r\n",
        "scores = cross_val_score(model, X_train, y_train, cv = 5)\r\n",
        "print(scores)\r\n",
        "\r\n",
        "model.fit(X_train, y_train)\r\n",
        "print(model.score(X_test, y_test))"
      ],
      "execution_count": null,
      "outputs": [
        {
          "output_type": "stream",
          "text": [
            "[0.98148148 1.         0.98113208 0.90566038 0.9245283 ]\n",
            "0.9552238805970149\n"
          ],
          "name": "stdout"
        }
      ]
    },
    {
      "cell_type": "markdown",
      "metadata": {
        "id": "bzXhknXpN2gK"
      },
      "source": [
        "the exact same number as in logistic regression"
      ]
    },
    {
      "cell_type": "code",
      "metadata": {
        "colab": {
          "base_uri": "https://localhost:8080/"
        },
        "id": "fe734OmrNvqY",
        "outputId": "9b9cd345-4afc-4cbb-be40-a712df5569e5"
      },
      "source": [
        "target_names = encoder.inverse_transform(list(set(y_test))) # get real region names back using inverse_transform\r\n",
        "\r\n",
        "y_pred = model.predict(X_test) # predict from the testset\r\n",
        "\r\n",
        "print(classification_report(y_test, y_pred, target_names=target_names)) #Print out the report"
      ],
      "execution_count": null,
      "outputs": [
        {
          "output_type": "stream",
          "text": [
            "              precision    recall  f1-score   support\n",
            "\n",
            "      Adelie       0.90      1.00      0.95        28\n",
            "   Chinstrap       1.00      0.85      0.92        20\n",
            "      Gentoo       1.00      1.00      1.00        19\n",
            "\n",
            "    accuracy                           0.96        67\n",
            "   macro avg       0.97      0.95      0.96        67\n",
            "weighted avg       0.96      0.96      0.95        67\n",
            "\n"
          ],
          "name": "stdout"
        }
      ]
    },
    {
      "cell_type": "code",
      "metadata": {
        "colab": {
          "base_uri": "https://localhost:8080/",
          "height": 573
        },
        "id": "VSxwtIgoOGKd",
        "outputId": "da5580f0-e77d-499f-9153-82265a6cd5eb"
      },
      "source": [
        "confmatrix = confusion_matrix(y_test,y_pred) \r\n",
        "\r\n",
        "plot_confusion_matrix(conf_mat=confmatrix,\r\n",
        "                                colorbar=True,\r\n",
        "                                show_absolute=True,\r\n",
        "                                show_normed=True,\r\n",
        "                                class_names = target_names)"
      ],
      "execution_count": null,
      "outputs": [
        {
          "output_type": "execute_result",
          "data": {
            "text/plain": [
              "(<Figure size 720x576 with 2 Axes>,\n",
              " <matplotlib.axes._subplots.AxesSubplot at 0x7f6bdff02ef0>)"
            ]
          },
          "metadata": {
            "tags": []
          },
          "execution_count": 99
        },
        {
          "output_type": "display_data",
          "data": {
            "image/png": "[encoded data removed]",
            "text/plain": [
              "<Figure size 720x576 with 2 Axes>"
            ]
          },
          "metadata": {
            "tags": []
          }
        }
      ]
    },
    {
      "cell_type": "markdown",
      "metadata": {
        "id": "KihfQHHmOLId"
      },
      "source": [
        "same results using all three different techniques"
      ]
    }
  ]
}
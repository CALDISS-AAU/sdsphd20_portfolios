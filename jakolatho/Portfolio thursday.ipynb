{
 "cells": [
  {
   "cell_type": "markdown",
   "metadata": {
    "id": "Xwi3wsmKDsey"
   },
   "source": [
    "# Assignment: Trump vs. GPT-2\n",
    "\n",
    "## SDS 2020 - Module 3: Individual Assignment\n",
    "\n",
    "\n",
    "The site [https://faketrump.ai/](https://faketrump.ai/) WAS an interesting example of AI-powered fake-text generation. They wrote in 2019:\n",
    "\n",
    ">We built an artificial intelligence model by fine-tuning [GPT-2](https://openai.com/blog/better-language-models/) to generate tweets in the style of Donald Trump’s Twitter account. After seeing the results, we also built a discriminator that can accurately detect fake tweets 77% of the time — think you can beat our classifier? Try it yourself!\n",
    "\n",
    "Unfortunately, they decided to take down the site and the dataset.\n",
    "\n",
    "GPT-2 is a neural transformer-based model, that has been announced by OpenAI in February 2019 and created considerable discussion because they decided - in contrast to their earlier policies - not to release the mode to the public. Their central argument was that the model could be used to produce fake news, spam and alike too easily. The footnote of the faketrump page reads: “Generating realistic fake text has become much more accessible. We hope to highlight the current state of text generation to demonstrate how difficult it is to discern fiction from reality.”\n",
    "\n",
    "\n",
    "Since then several organizations and researchers have shown that it is [possible to develop systems to detect “fake text”](https://www.theguardian.com/technology/2019/jul/04/ai-fake-text-gpt-2-concerns-false-information). We believe that you too can implement a competitive system.\n",
    "\n",
    "Having no dataset from that project, Roman decided to retrain GPT2 to generate new fake trump tweets. If they can do that, we can do that! However, it seems as if it is easier for ML models to identify our fake tweets...well...they are an AI company and probably spent more time on that...\n",
    "\n",
    "> I’ve just watched Democrats scream over and over again about trying to Impeach the President of the United States. The Impeachment process is a sham.\n",
    "\n",
    "> The Media must understand!“The New York Times is the leader on a very important subject: How to Combat Trump.” @foxandfriendsSo pathetic! @foxandfriendsI don’t think so.\n",
    "\n",
    "> He is going to do it soon, and with proper borders. Border security is my top priority.The Democrats have failed the people of Arizona in everything else they have done, even their very good immigration laws. They have no sense.\n",
    "\n",
    "The data can be found [here](https://github.com/SDS-AAU/SDS-master/raw/e2c959494d53859c1844604bed09a28a21566d0f/M3/assignments/trump_vs_GPT2.gz) and has the following format:\n",
    "\n",
    "\n",
    "<table>\n",
    "  <tr>\n",
    "   <td>0\n",
    "   </td>\n",
    "   <td>1\n",
    "   </td>\n",
    "  </tr>\n",
    "  <tr>\n",
    "   <td>string\n",
    "   </td>\n",
    "   <td>boolean\n",
    "   </td>\n",
    "  </tr>\n",
    "</table>\n",
    "\n",
    "There are 7368 real Trump tweet and 7368 fake ones.\n",
    "\n",
    "you can open it with:\n",
    "\n",
    "\n",
    "\n",
    "```\n",
    "data = pd.read_json('https://github.com/SDS-AAU/SDS-master/raw/e2c959494d53859c1844604bed09a28a21566d0f/M3/assignments/trump_vs_GPT2.gz')\n",
    "```\n",
    "\n",
    "\n",
    "\n",
    "* Split the data and preprocess it, vectorizing the text using different approaches (BoW, TFIDF, LSI)\n",
    "\n",
    "* Create a system that can identify the fake Trump tweets using LogisticRefression or other classifiers (Sklearn - If you like also more complex models with FastAI, Keras neural nets or alike)\n",
    "\n",
    "* Explore a subset (~1000) of the real and fake tweets using LDA and visualize your exploration\n",
    "\n",
    "* Consider exploring using a different approach (LSI + clustering) or perhaps even [CorEx](https://github.com/gregversteeg/corex_topic)"
   ]
  },
  {
   "cell_type": "markdown",
   "metadata": {
    "id": "MBcpOT0BGCwv"
   },
   "source": [
    "## Load Data"
   ]
  },
  {
   "cell_type": "code",
   "execution_count": 1,
   "metadata": {},
   "outputs": [],
   "source": [
    "import pandas as pd\n",
    "import numpy as np"
   ]
  },
  {
   "cell_type": "code",
   "execution_count": 2,
   "metadata": {},
   "outputs": [],
   "source": [
    "data = pd.read_json('https://github.com/SDS-AAU/SDS-master/raw/e2c959494d53859c1844604bed09a28a21566d0f/M3/assignments/trump_vs_GPT2.gz')"
   ]
  },
  {
   "cell_type": "code",
   "execution_count": 3,
   "metadata": {},
   "outputs": [],
   "source": [
    "#Rename columns\n",
    "data.columns = ['tweet','is_real']"
   ]
  },
  {
   "cell_type": "code",
   "execution_count": 4,
   "metadata": {},
   "outputs": [
    {
     "name": "stdout",
     "output_type": "stream",
     "text": [
      "<class 'pandas.core.frame.DataFrame'>\n",
      "Int64Index: 14736 entries, 0 to 14735\n",
      "Data columns (total 2 columns):\n",
      " #   Column   Non-Null Count  Dtype \n",
      "---  ------   --------------  ----- \n",
      " 0   tweet    14736 non-null  object\n",
      " 1   is_real  14736 non-null  bool  \n",
      "dtypes: bool(1), object(1)\n",
      "memory usage: 244.6+ KB\n"
     ]
    }
   ],
   "source": [
    "#Inspect\n",
    "data.info()"
   ]
  },
  {
   "cell_type": "markdown",
   "metadata": {},
   "source": [
    "## Preprocess"
   ]
  },
  {
   "cell_type": "code",
   "execution_count": 17,
   "metadata": {},
   "outputs": [],
   "source": [
    "# There should not be any html in the tweets, so no need to apply Roman's \n",
    "#pattern = re.compile('<br /><br />')"
   ]
  },
  {
   "cell_type": "code",
   "execution_count": 5,
   "metadata": {},
   "outputs": [],
   "source": [
    "# module to split data into training / test\n",
    "from sklearn.model_selection import train_test_split"
   ]
  },
  {
   "cell_type": "code",
   "execution_count": 6,
   "metadata": {},
   "outputs": [],
   "source": [
    "# define in and outputs\n",
    "\n",
    "X = data['tweet'].values\n",
    "y = data['is_real'].values"
   ]
  },
  {
   "cell_type": "code",
   "execution_count": 7,
   "metadata": {},
   "outputs": [],
   "source": [
    "# Split the data in 80% trainig 20% test, keep random state 18 for reproducibility\n",
    "\n",
    "X_train, X_test, y_train, y_test = train_test_split(X, y, test_size=0.2, random_state=18)"
   ]
  },
  {
   "cell_type": "markdown",
   "metadata": {},
   "source": [
    "## BoW vectorization"
   ]
  },
  {
   "cell_type": "markdown",
   "metadata": {},
   "source": [
    "### Logistic regression"
   ]
  },
  {
   "cell_type": "code",
   "execution_count": 30,
   "metadata": {},
   "outputs": [],
   "source": [
    "# Simple BoW vectorizer\n",
    "from sklearn.feature_extraction.text import CountVectorizer\n",
    "\n",
    "vectorizer = CountVectorizer() #vectorizer to be applied\n",
    "X_train_vec_bow = vectorizer.fit_transform(X_train) # new BoW vectorization"
   ]
  },
  {
   "cell_type": "code",
   "execution_count": 31,
   "metadata": {},
   "outputs": [],
   "source": [
    "# Instantiate logistic regression model\n",
    "from sklearn.linear_model import LogisticRegression\n",
    "model = LogisticRegression(max_iter=2000)"
   ]
  },
  {
   "cell_type": "code",
   "execution_count": 32,
   "metadata": {},
   "outputs": [
    {
     "data": {
      "text/plain": [
       "LogisticRegression(max_iter=2000)"
      ]
     },
     "execution_count": 32,
     "metadata": {},
     "output_type": "execute_result"
    }
   ],
   "source": [
    "# Train the model using \"fit\"\n",
    "model.fit(X_train_vec_bow, y_train) #fits the logit model on the training data"
   ]
  },
  {
   "cell_type": "code",
   "execution_count": 33,
   "metadata": {},
   "outputs": [],
   "source": [
    "# Vectorize the test-set using the boW vectorizer\n",
    "X_test_vec_bow = vectorizer.transform(X_test) # "
   ]
  },
  {
   "cell_type": "code",
   "execution_count": 34,
   "metadata": {},
   "outputs": [
    {
     "data": {
      "text/plain": [
       "0.8063093622795116"
      ]
     },
     "execution_count": 34,
     "metadata": {},
     "output_type": "execute_result"
    }
   ],
   "source": [
    "# Check performance of the model\n",
    "model.score(X_test_vec_bow, y_test)"
   ]
  },
  {
   "cell_type": "code",
   "execution_count": 17,
   "metadata": {},
   "outputs": [
    {
     "data": {
      "text/html": [
       "<div>\n",
       "<style scoped>\n",
       "    .dataframe tbody tr th:only-of-type {\n",
       "        vertical-align: middle;\n",
       "    }\n",
       "\n",
       "    .dataframe tbody tr th {\n",
       "        vertical-align: top;\n",
       "    }\n",
       "\n",
       "    .dataframe thead th {\n",
       "        text-align: right;\n",
       "    }\n",
       "</style>\n",
       "<table border=\"1\" class=\"dataframe\">\n",
       "  <thead>\n",
       "    <tr style=\"text-align: right;\">\n",
       "      <th>col_0</th>\n",
       "      <th>False</th>\n",
       "      <th>True</th>\n",
       "    </tr>\n",
       "    <tr>\n",
       "      <th>row_0</th>\n",
       "      <th></th>\n",
       "      <th></th>\n",
       "    </tr>\n",
       "  </thead>\n",
       "  <tbody>\n",
       "    <tr>\n",
       "      <th>False</th>\n",
       "      <td>1180</td>\n",
       "      <td>309</td>\n",
       "    </tr>\n",
       "    <tr>\n",
       "      <th>True</th>\n",
       "      <td>262</td>\n",
       "      <td>1197</td>\n",
       "    </tr>\n",
       "  </tbody>\n",
       "</table>\n",
       "</div>"
      ],
      "text/plain": [
       "col_0  False  True \n",
       "row_0              \n",
       "False   1180    309\n",
       "True     262   1197"
      ]
     },
     "execution_count": 17,
     "metadata": {},
     "output_type": "execute_result"
    }
   ],
   "source": [
    "# Prediction on new data vs. actual data\n",
    "y_pred = model.predict(X_test_vec_bow) # predicts for each vector based on x_test\n",
    "pd.crosstab(y_test, y_pred)"
   ]
  },
  {
   "cell_type": "markdown",
   "metadata": {},
   "source": [
    "### Random forest classifier (and K-fold crossvalidation)"
   ]
  },
  {
   "cell_type": "code",
   "execution_count": 48,
   "metadata": {},
   "outputs": [
    {
     "name": "stdout",
     "output_type": "stream",
     "text": [
      "[0.8524173  0.86217133 0.85538592 0.85956725 0.86041578]\n"
     ]
    }
   ],
   "source": [
    "from sklearn.ensemble import RandomForestClassifier\n",
    "from sklearn.model_selection import cross_val_score #K-fold cross-validation\n",
    "\n",
    "model = RandomForestClassifier(random_state=32) #empty model\n",
    "scores = cross_val_score(model, X_train_vec_bow, y_train, cv = 5)\n",
    "print(scores)"
   ]
  },
  {
   "cell_type": "code",
   "execution_count": 49,
   "metadata": {},
   "outputs": [
    {
     "name": "stdout",
     "output_type": "stream",
     "text": [
      "0.8629579375848032\n"
     ]
    },
    {
     "data": {
      "text/plain": [
       "RandomForestClassifier()"
      ]
     },
     "execution_count": 49,
     "metadata": {},
     "output_type": "execute_result"
    }
   ],
   "source": [
    "model.fit(X_train_vec_bow, y_train)\n",
    "print(model.score(X_test_vec_bow, y_test))"
   ]
  },
  {
   "cell_type": "code",
   "execution_count": 47,
   "metadata": {},
   "outputs": [
    {
     "data": {
      "text/html": [
       "<div>\n",
       "<style scoped>\n",
       "    .dataframe tbody tr th:only-of-type {\n",
       "        vertical-align: middle;\n",
       "    }\n",
       "\n",
       "    .dataframe tbody tr th {\n",
       "        vertical-align: top;\n",
       "    }\n",
       "\n",
       "    .dataframe thead th {\n",
       "        text-align: right;\n",
       "    }\n",
       "</style>\n",
       "<table border=\"1\" class=\"dataframe\">\n",
       "  <thead>\n",
       "    <tr style=\"text-align: right;\">\n",
       "      <th>col_0</th>\n",
       "      <th>False</th>\n",
       "      <th>True</th>\n",
       "    </tr>\n",
       "    <tr>\n",
       "      <th>row_0</th>\n",
       "      <th></th>\n",
       "      <th></th>\n",
       "    </tr>\n",
       "  </thead>\n",
       "  <tbody>\n",
       "    <tr>\n",
       "      <th>False</th>\n",
       "      <td>1257</td>\n",
       "      <td>232</td>\n",
       "    </tr>\n",
       "    <tr>\n",
       "      <th>True</th>\n",
       "      <td>174</td>\n",
       "      <td>1285</td>\n",
       "    </tr>\n",
       "  </tbody>\n",
       "</table>\n",
       "</div>"
      ],
      "text/plain": [
       "col_0  False  True \n",
       "row_0              \n",
       "False   1257    232\n",
       "True     174   1285"
      ]
     },
     "execution_count": 47,
     "metadata": {},
     "output_type": "execute_result"
    }
   ],
   "source": [
    "# Prediction on new data vs. actual data\n",
    "y_pred = model.predict(X_test_vec_bow) # predicts for each vector based on x_test\n",
    "pd.crosstab(y_test, y_pred)"
   ]
  },
  {
   "cell_type": "markdown",
   "metadata": {},
   "source": [
    "### Xgboost classifier"
   ]
  },
  {
   "cell_type": "markdown",
   "metadata": {},
   "source": [
    "See documentation: https://xgboost.readthedocs.io/en/latest/tutorials/model.html"
   ]
  },
  {
   "cell_type": "code",
   "execution_count": 52,
   "metadata": {},
   "outputs": [
    {
     "name": "stdout",
     "output_type": "stream",
     "text": [
      "K-val scores: [0.8490246  0.84860051 0.84563189 0.83453543 0.85150615]\n",
      "Model fit: 0.8521031207598372\n"
     ]
    }
   ],
   "source": [
    "# \"Gradient boosted\" decision models \n",
    "import xgboost as xgb\n",
    "model = xgb.XGBClassifier()\n",
    "\n",
    "xgb.XGBClassifier(objective=\"binary:logistic\")\n",
    "scores = cross_val_score(model, X_train_vec_bow, y_train, cv = 5)\n",
    "print(\"K-val scores:\", scores)\n",
    "\n",
    "model.fit(X_train_vec_bow, y_train)\n",
    "print('Model fit:', model.score(X_test_vec_bow, y_test))"
   ]
  },
  {
   "cell_type": "code",
   "execution_count": 53,
   "metadata": {},
   "outputs": [
    {
     "data": {
      "text/html": [
       "<div>\n",
       "<style scoped>\n",
       "    .dataframe tbody tr th:only-of-type {\n",
       "        vertical-align: middle;\n",
       "    }\n",
       "\n",
       "    .dataframe tbody tr th {\n",
       "        vertical-align: top;\n",
       "    }\n",
       "\n",
       "    .dataframe thead th {\n",
       "        text-align: right;\n",
       "    }\n",
       "</style>\n",
       "<table border=\"1\" class=\"dataframe\">\n",
       "  <thead>\n",
       "    <tr style=\"text-align: right;\">\n",
       "      <th>col_0</th>\n",
       "      <th>False</th>\n",
       "      <th>True</th>\n",
       "    </tr>\n",
       "    <tr>\n",
       "      <th>row_0</th>\n",
       "      <th></th>\n",
       "      <th></th>\n",
       "    </tr>\n",
       "  </thead>\n",
       "  <tbody>\n",
       "    <tr>\n",
       "      <th>False</th>\n",
       "      <td>1236</td>\n",
       "      <td>253</td>\n",
       "    </tr>\n",
       "    <tr>\n",
       "      <th>True</th>\n",
       "      <td>183</td>\n",
       "      <td>1276</td>\n",
       "    </tr>\n",
       "  </tbody>\n",
       "</table>\n",
       "</div>"
      ],
      "text/plain": [
       "col_0  False  True \n",
       "row_0              \n",
       "False   1236    253\n",
       "True     183   1276"
      ]
     },
     "execution_count": 53,
     "metadata": {},
     "output_type": "execute_result"
    }
   ],
   "source": [
    "y_pred = model.predict(X_test_vec_bow) # predicts for each vector based on x_test\n",
    "pd.crosstab(y_test, y_pred)"
   ]
  },
  {
   "cell_type": "markdown",
   "metadata": {},
   "source": [
    "Can use 'Explain it like I'm 5' model to see which words contribute to model scoring of tweet:"
   ]
  },
  {
   "cell_type": "code",
   "execution_count": 63,
   "metadata": {},
   "outputs": [],
   "source": [
    "#import eli5\n",
    "#eli5.show_weights(model, feature_names=vectorizer.get_feature_names(), target_names=['negative','positive'], top=20)"
   ]
  },
  {
   "cell_type": "code",
   "execution_count": 64,
   "metadata": {},
   "outputs": [],
   "source": [
    "#eli5.show_prediction(model, X_test[3], vec=vectorizer, target_names=['negative','positive'])"
   ]
  },
  {
   "cell_type": "markdown",
   "metadata": {},
   "source": [
    "## TFIDF vectorization and regression"
   ]
  },
  {
   "cell_type": "markdown",
   "metadata": {},
   "source": [
    "### Simple TDIF vectorizer"
   ]
  },
  {
   "cell_type": "code",
   "execution_count": 21,
   "metadata": {},
   "outputs": [
    {
     "data": {
      "text/plain": [
       "LogisticRegression(max_iter=2000)"
      ]
     },
     "execution_count": 21,
     "metadata": {},
     "output_type": "execute_result"
    }
   ],
   "source": [
    "#Import TDIF vectorizer and create empty model\n",
    "\n",
    "from sklearn.feature_extraction.text import TfidfVectorizer\n",
    "\n",
    "vectorizer = TfidfVectorizer()\n",
    "X_train_vec_tfidf = vectorizer.fit_transform(X_train)\n",
    "\n",
    "model = LogisticRegression(max_iter=2000)\n",
    "\n",
    "# Train the model\n",
    "\n",
    "model.fit(X_train_vec_tfidf, y_train)"
   ]
  },
  {
   "cell_type": "code",
   "execution_count": 22,
   "metadata": {},
   "outputs": [],
   "source": [
    "# Vectorize the test-set using the tfidf vectorizer\n",
    "X_test_vec_tfidf = vectorizer.transform(X_test)"
   ]
  },
  {
   "cell_type": "code",
   "execution_count": 23,
   "metadata": {},
   "outputs": [
    {
     "data": {
      "text/plain": [
       "0.8171641791044776"
      ]
     },
     "execution_count": 23,
     "metadata": {},
     "output_type": "execute_result"
    }
   ],
   "source": [
    "# Check performance of the model\n",
    "model.score(X_test_vec_tfidf, y_test)"
   ]
  },
  {
   "cell_type": "code",
   "execution_count": 24,
   "metadata": {},
   "outputs": [
    {
     "data": {
      "text/html": [
       "<div>\n",
       "<style scoped>\n",
       "    .dataframe tbody tr th:only-of-type {\n",
       "        vertical-align: middle;\n",
       "    }\n",
       "\n",
       "    .dataframe tbody tr th {\n",
       "        vertical-align: top;\n",
       "    }\n",
       "\n",
       "    .dataframe thead th {\n",
       "        text-align: right;\n",
       "    }\n",
       "</style>\n",
       "<table border=\"1\" class=\"dataframe\">\n",
       "  <thead>\n",
       "    <tr style=\"text-align: right;\">\n",
       "      <th>col_0</th>\n",
       "      <th>False</th>\n",
       "      <th>True</th>\n",
       "    </tr>\n",
       "    <tr>\n",
       "      <th>row_0</th>\n",
       "      <th></th>\n",
       "      <th></th>\n",
       "    </tr>\n",
       "  </thead>\n",
       "  <tbody>\n",
       "    <tr>\n",
       "      <th>False</th>\n",
       "      <td>1189</td>\n",
       "      <td>300</td>\n",
       "    </tr>\n",
       "    <tr>\n",
       "      <th>True</th>\n",
       "      <td>239</td>\n",
       "      <td>1220</td>\n",
       "    </tr>\n",
       "  </tbody>\n",
       "</table>\n",
       "</div>"
      ],
      "text/plain": [
       "col_0  False  True \n",
       "row_0              \n",
       "False   1189    300\n",
       "True     239   1220"
      ]
     },
     "execution_count": 24,
     "metadata": {},
     "output_type": "execute_result"
    }
   ],
   "source": [
    "# Predict on new data\n",
    "y_pred = model.predict(X_test_vec_tfidf)\n",
    "pd.crosstab(y_test, y_pred)"
   ]
  },
  {
   "cell_type": "markdown",
   "metadata": {},
   "source": [
    "### TDIF vectorizer with Spacy"
   ]
  },
  {
   "cell_type": "code",
   "execution_count": 11,
   "metadata": {},
   "outputs": [],
   "source": [
    "import spacy\n",
    "# Import language model can be downloaded for many languages.\n",
    "nlp = spacy.load('en_core_web_md') #english model trained on a corpus of web-data"
   ]
  },
  {
   "cell_type": "code",
   "execution_count": 12,
   "metadata": {},
   "outputs": [],
   "source": [
    "# Tokenize the tweets\n",
    "tokenlist = []\n",
    "for doc in nlp.pipe(X_train):\n",
    "  tokens =[tok.text.lower() for tok in doc if tok.pos_ in ['NOUN','ADJ','ADV','VERB'] and not tok.is_stop]\n",
    "  tokenlist.append(tokens)"
   ]
  },
  {
   "cell_type": "code",
   "execution_count": 13,
   "metadata": {},
   "outputs": [],
   "source": [
    "#transform tokens into dictionary\n",
    "from gensim.corpora.dictionary import Dictionary\n",
    "dictionary = Dictionary(tokenlist)\n",
    "# the dictionary is not long, so I see what happens without filtering"
   ]
  },
  {
   "cell_type": "code",
   "execution_count": 78,
   "metadata": {},
   "outputs": [
    {
     "data": {
      "text/plain": [
       "0.7544097693351425"
      ]
     },
     "execution_count": 78,
     "metadata": {},
     "output_type": "execute_result"
    }
   ],
   "source": [
    "vectorizer = TfidfVectorizer(vocabulary=list(dictionary.values()))\n",
    "X_train_vec_spacy = vectorizer.fit_transform(X_train)\n",
    "\n",
    "model = LogisticRegression(max_iter=2000)\n",
    "\n",
    "# Train the model\n",
    "\n",
    "model.fit(X_train_vec_spacy, y_train)\n",
    "\n",
    "#vectorize testdata\n",
    "X_test_vec_spacy = vectorizer.fit_transform(X_test)\n",
    "\n",
    "# Check performance of the model\n",
    "model.score(X_test_vec_spacy, y_test)"
   ]
  },
  {
   "cell_type": "code",
   "execution_count": 79,
   "metadata": {},
   "outputs": [
    {
     "name": "stdout",
     "output_type": "stream",
     "text": [
      "0.7747625508819539\n"
     ]
    }
   ],
   "source": [
    "## Random tree?\n",
    "\n",
    "model = RandomForestClassifier() #empty model\n",
    "\n",
    "model.fit(X_train_vec_spacy, y_train)\n",
    "print(model.score(X_test_vec_spacy, y_test))\n"
   ]
  },
  {
   "cell_type": "markdown",
   "metadata": {},
   "source": [
    "Can use 'Explain it like I'm 5' model to see which words contribute to model scoring of tweet:"
   ]
  },
  {
   "cell_type": "code",
   "execution_count": 63,
   "metadata": {},
   "outputs": [],
   "source": [
    "import eli5\n",
    "#eli5.show_weights(model, feature_names=vectorizer.get_feature_names(), target_names=['negative','positive'], top=20)"
   ]
  },
  {
   "cell_type": "code",
   "execution_count": 64,
   "metadata": {},
   "outputs": [],
   "source": [
    "#eli5.show_prediction(model, X_test[3], vec=vectorizer, target_names=['negative','positive'])"
   ]
  },
  {
   "cell_type": "markdown",
   "metadata": {},
   "source": [
    "## LDA topic modelling\n",
    "\n",
    "**Task**:\n",
    "- Explore a subset (~1000) of the real and fake tweets using LDA and visualize your exploration\n",
    "\n",
    "\n",
    "**Background info:**\n",
    "\n",
    "Topic Modeling is a technique to extract the hidden topics from large volumes of text. Latent Dirichlet Allocation(LDA) is a popular algorithm for topic modeling with excellent implementations in the Python’s Gensim package. The challenge, however, is how to extract good quality of topics that are clear, segregated and meaningful.\n",
    "\n",
    "See more: https://www.machinelearningplus.com/nlp/topic-modeling-gensim-python/\n",
    "\n"
   ]
  },
  {
   "cell_type": "code",
   "execution_count": 38,
   "metadata": {},
   "outputs": [],
   "source": [
    "#create tokens for each tweet (using spacy's nlp)\n",
    "tokens = []\n",
    "\n",
    "for tweet in nlp.pipe(data['tweet']):\n",
    "  tweet_tok = [token.lemma_.lower() for token in tweet if token.pos_ in ['NOUN', 'PROPN', 'ADJ', 'ADV'] and not token.is_stop] \n",
    "  tokens.append(tweet_tok)\n",
    "\n",
    "data['tokens'] = tokens\n"
   ]
  },
  {
   "cell_type": "code",
   "execution_count": 78,
   "metadata": {},
   "outputs": [],
   "source": [
    "#Create dictionary\n",
    "# Import the dictionary builder\n",
    "\n",
    "from gensim.corpora.dictionary import Dictionary\n",
    "\n",
    "# Create a Dictionary from the articles: dictionary\n",
    "\n",
    "dictionary = Dictionary(data['tokens'])\n",
    "\n",
    "# filter out low-frequency / high-frequency stuff, also limit the vocabulary to max 1000 words\n",
    "dictionary.filter_extremes(no_below=5, no_above=0.5, keep_n=1000)"
   ]
  },
  {
   "cell_type": "code",
   "execution_count": 79,
   "metadata": {},
   "outputs": [],
   "source": [
    "#split dataset into two lists of size 1000\n",
    "real_sample = data.loc[data['is_real'] == True, ['tweet', 'tokens']].sample(1000)\n",
    "fake_sample = data.loc[data['is_real'] == False, ['tweet', 'tokens']].sample(1000)"
   ]
  },
  {
   "cell_type": "code",
   "execution_count": 80,
   "metadata": {},
   "outputs": [],
   "source": [
    "# reset index to match corpus\n",
    "real_sample.index = range(len(real_sample))\n",
    "fake_sample.index = range(len(fake_sample))"
   ]
  },
  {
   "cell_type": "code",
   "execution_count": 81,
   "metadata": {},
   "outputs": [],
   "source": [
    "#create corpus for each sample (using the common dictionary): transforms the tokens into vectors\n",
    "real_corpus = [dictionary.doc2bow(doc) for doc in real_sample['tokens']]\n",
    "fake_corpus = [dictionary.doc2bow(doc) for doc in real_sample['tokens']]"
   ]
  },
  {
   "cell_type": "markdown",
   "metadata": {},
   "source": [
    "I am unsure whether it is best practice to train the model on both samples as a single corpus or whether to treat them as different. My intuition is that the first option would suggest itself to a comparison of the frequency of topics and the second to the content/type of topics?"
   ]
  },
  {
   "cell_type": "code",
   "execution_count": 85,
   "metadata": {},
   "outputs": [],
   "source": [
    "# first for real sample\n",
    "#LDA model\n",
    "from gensim.models import LdaMulticore\n",
    "# Training the model\n",
    "lda_model = LdaMulticore(real_corpus, id2word=dictionary, num_topics= 5, workers = 4, passes=10)"
   ]
  },
  {
   "cell_type": "code",
   "execution_count": 86,
   "metadata": {},
   "outputs": [
    {
     "data": {
      "text/plain": [
       "[(0,\n",
       "  '0.029*\"fake\" + 0.028*\"news\" + 0.017*\"election\" + 0.017*\"democrats\" + 0.017*\"country\" + 0.015*\"media\" + 0.015*\"states\" + 0.013*\"law\" + 0.012*\"%\" + 0.012*\"united\"'),\n",
       " (1,\n",
       "  '0.040*\"great\" + 0.030*\"people\" + 0.022*\"amp\" + 0.017*\"year\" + 0.013*\"president\" + 0.011*\"american\" + 0.011*\"democrats\" + 0.011*\"day\" + 0.009*\"america\" + 0.009*\"hunt\"'),\n",
       " (2,\n",
       "  '0.020*\"border\" + 0.019*\"great\" + 0.017*\"amp\" + 0.012*\"democrats\" + 0.011*\"president\" + 0.011*\"good\" + 0.010*\"obama\" + 0.009*\"united\" + 0.009*\"states\" + 0.009*\"administration\"'),\n",
       " (3,\n",
       "  '0.023*\"amp\" + 0.018*\"country\" + 0.017*\"world\" + 0.014*\"president\" + 0.013*\"america\" + 0.012*\"big\" + 0.011*\"democrats\" + 0.010*\"people\" + 0.010*\"u.s.\" + 0.010*\"china\"'),\n",
       " (4,\n",
       "  '0.027*\"great\" + 0.024*\"trump\" + 0.022*\"amp\" + 0.018*\"state\" + 0.017*\"people\" + 0.016*\"biden\" + 0.013*\"president\" + 0.012*\"house\" + 0.011*\"joe\" + 0.010*\"night\"')]"
      ]
     },
     "execution_count": 86,
     "metadata": {},
     "output_type": "execute_result"
    }
   ],
   "source": [
    "lda_model.print_topics(-1) "
   ]
  },
  {
   "cell_type": "code",
   "execution_count": 95,
   "metadata": {},
   "outputs": [],
   "source": [
    "# explore further another time; coherence and complexity\n",
    "#from gensim.models import CoherenceModel\n",
    "# Compute Perplexity\n",
    "#print('\\nPerplexity: ', lda_model.log_perplexity(real_corpus))  # a measure of how good the model is. lower the better.\n",
    "\n",
    "# Compute Coherence Score\n",
    "#coherence_model_lda = CoherenceModel(model=lda_model, texts=real_corpus, dictionary=dictionary, coherence='c_v')\n",
    "#coherence_lda = coherence_model_lda.get_coherence()\n",
    "#print('\\nCoherence Score: ', coherence_lda)"
   ]
  },
  {
   "cell_type": "code",
   "execution_count": 87,
   "metadata": {},
   "outputs": [],
   "source": [
    "import pyLDAvis.gensim\n",
    "%matplotlib inline\n",
    "pyLDAvis.enable_notebook()"
   ]
  },
  {
   "cell_type": "code",
   "execution_count": 88,
   "metadata": {},
   "outputs": [
    {
     "data": {
      "text/html": [
       "\n",
       "<link rel=\"stylesheet\" type=\"text/css\" href=\"https://cdn.rawgit.com/bmabey/pyLDAvis/files/ldavis.v1.0.0.css\">\n",
       "\n",
       "\n",
       "<div id=\"ldavis_el473321403226227541289451374601\"></div>\n",
       "<script type=\"text/javascript\">\n",
       "\n",
       "var ldavis_el473321403226227541289451374601_data = {\"mdsDat\": {\"x\": [-0.08845717545709184, -0.042391229434431375, -0.010922966913863963, -0.03748889377050189, 0.17926026557588895], \"y\": [-0.0002148253512184972, -0.10070860753840175, -0.048514617685923925, 0.145820139853896, 0.003617910721648101], \"topics\": [1, 2, 3, 4, 5], \"cluster\": [1, 1, 1, 1, 1], \"Freq\": [23.43326759338379, 23.102869033813477, 19.91855239868164, 16.874731063842773, 16.670583724975586]}, \"tinfo\": {\"Term\": [\"news\", \"fake\", \"biden\", \"great\", \"trump\", \"people\", \"election\", \"border\", \"states\", \"state\", \"world\", \"joe\", \"united\", \"media\", \"country\", \"%\", \"america\", \"american\", \"law\", \"southern\", \"well\", \"white\", \"day\", \"witch\", \"hunt\", \"open\", \"friend\", \"u.s.\", \"national\", \"party\", \"biden\", \"joe\", \"white\", \"nbc\", \"interview\", \"kentucky\", \"easily\", \"wrong\", \"champion\", \"live\", \"acting\", \"freedom\", \"ambassador\", \"oval\", \"bernie\", \"kavanaugh\", \"member\", \"david\", \"camp\", \"ron\", \"hopefully\", \"private\", \"clear\", \"opponent\", \"cruz\", \"patriot\", \"pennsylvania\", \"texas\", \"sleepy\", \"school\", \"trump\", \"sanders\", \"night\", \"state\", \"clinton\", \"secretary\", \"house\", \"long\", \"#\", \"presidential\", \"americans\", \"collusion\", \"great\", \"hillary\", \"amp\", \"win\", \"people\", \"special\", \"wall\", \"president\", \"new\", \"thing\", \"russia\", \"wonderful\", \"big\", \"time\", \"democrats\", \"general\", \"national\", \"news\", \"far\", \"job\", \"korea\", \"chuck\", \"veteran\", \"christopher\", \"hour\", \"missile\", \"immigration\", \"cryin\", \"strzok\", \"tomorrow\", \"thrilled\", \"schumer\", \"brennan\", \"program\", \"constitution\", \"lamestream\", \"public\", \"mistake\", \"easy\", \"approval\", \"repeal\", \"nafta\", \"beautiful\", \"man\", \"hunt\", \"p.m.\", \"virginia\", \"luther\", \"summit\", \"face\", \"witch\", \"north\", \"respect\", \"day\", \"governor\", \"worker\", \"point\", \"people\", \"great\", \"year\", \"american\", \"tonight\", \"john\", \"amp\", \"america\", \"u.s.\", \"job\", \"president\", \"mueller\", \"case\", \"right\", \"democrats\", \"economy\", \"radical\", \"history\", \"country\", \"good\", \"today\", \"well\", \"usa\", \"peace\", \"flag\", \"arabia\", \"saudi\", \"price\", \"need\", \"lincoln\", \"young\", \"jail\", \"expensive\", \"anthem\", \"project\", \"journal\", \"proud\", \"adam\", \"drug\", \"billion\", \"hand\", \"politically\", \"review\", \"ad\", \"courage\", \"later\", \"date\", \"earth\", \"flynn\", \"opinion\", \"best\", \"world\", \"donald\", \"michael\", \"business\", \"result\", \"tariffs\", \"future\", \"america\", \"country\", \"china\", \"small\", \"u.s.\", \"republican\", \"big\", \"history\", \"amp\", \"hard\", \"general\", \"system\", \"american\", \"money\", \"president\", \"good\", \"dollar\", \"united\", \"bad\", \"democrats\", \"trump\", \"time\", \"trade\", \"people\", \"states\", \"new\", \"year\", \"great\", \"wall\", \"russia\", \"southern\", \"prime\", \"minister\", \"japan\", \"ohr\", \"scale\", \"course\", \"car\", \"chance\", \"polling\", \"large\", \"thought\", \"budget\", \"finally\", \"abe\", \"fox\", \"air\", \"victim\", \"part\", \"negative\", \"official\", \"warm\", \"louisiana\", \"progress\", \"previous\", \"congratulation\", \"circuit\", \"credit\", \"disastrous\", \"patrol\", \"administration\", \"prayer\", \"friend\", \"important\", \"hoax\", \"california\", \"border\", \"elizabeth\", \"security\", \"israel\", \"republicans\", \"obama\", \"iran\", \"family\", \"senate\", \"good\", \"fbi\", \"united\", \"great\", \"states\", \"amp\", \"new\", \"wall\", \"democrats\", \"president\", \"today\", \"state\", \"big\", \"campaign\", \"open\", \"borders\", \"guard\", \"cities\", \"decade\", \"payment\", \"abc\", \"past\", \"ice\", \"election\", \"enforcement\", \"process\", \"disgusting\", \"tariff\", \"lady\", \"prior\", \"fairly\", \"%\", \"post\", \"responders\", \"run\", \"unfair\", \"game\", \"fake\", \"corruption\", \"attack\", \"news\", \"taxis\", \"media\", \"presidency\", \"rate\", \"law\", \"crime\", \"party\", \"high\", \"states\", \"virus\", \"trade\", \"democrat\", \"national\", \"united\", \"country\", \"poll\", \"medium\", \"leader\", \"democrats\", \"left\", \"deal\", \"china\", \"economy\", \"way\", \"radical\", \"number\", \"federal\", \"bad\"], \"Freq\": [47.0, 46.0, 26.0, 139.0, 55.0, 93.0, 25.0, 40.0, 37.0, 42.0, 31.0, 19.0, 35.0, 25.0, 62.0, 19.0, 35.0, 35.0, 25.0, 11.0, 13.0, 15.0, 26.0, 19.0, 18.0, 9.0, 14.0, 29.0, 24.0, 20.0, 26.218427658081055, 18.28624153137207, 14.13644790649414, 6.257645130157471, 5.3720526695251465, 5.350196838378906, 4.523618221282959, 4.462286949157715, 3.6555063724517822, 3.6554348468780518, 3.6497890949249268, 3.6400482654571533, 3.630568027496338, 3.6290276050567627, 5.07144021987915, 6.420687198638916, 3.547034502029419, 2.7850730419158936, 2.7850687503814697, 2.7850499153137207, 2.7842531204223633, 2.779729127883911, 2.7731130123138428, 2.769458293914795, 2.7543203830718994, 2.704939365386963, 8.050704956054688, 5.979583263397217, 4.521453380584717, 4.520732879638672, 38.30522537231445, 5.763729095458984, 16.307645797729492, 28.115478515625, 11.25895881652832, 6.228137016296387, 19.82528305053711, 10.611223220825195, 7.836039066314697, 8.66910457611084, 7.557454586029053, 9.013010025024414, 43.444129943847656, 10.259698867797852, 35.605796813964844, 5.395590305328369, 27.70738983154297, 6.45855712890625, 12.509786605834961, 20.178647994995117, 13.79091739654541, 8.62635612487793, 9.66763687133789, 8.006155967712402, 12.598773956298828, 11.11417007446289, 15.702311515808105, 7.717439651489258, 8.786236763000488, 10.045186996459961, 8.234872817993164, 8.41849422454834, 10.395216941833496, 7.032969951629639, 5.285783767700195, 4.451494216918945, 4.445284366607666, 4.434252738952637, 9.600469589233398, 3.5960936546325684, 3.592705249786377, 3.5910701751708984, 3.5812578201293945, 7.868628025054932, 5.000858783721924, 2.7482054233551025, 2.741262435913086, 2.7410411834716797, 2.7329294681549072, 2.7126824855804443, 3.3777644634246826, 6.040254592895508, 2.670536994934082, 2.6201751232147217, 7.847816467285156, 7.842344760894775, 14.302209854125977, 5.164034843444824, 4.470357894897461, 1.8893544673919678, 1.889351487159729, 1.889350175857544, 14.221628189086914, 12.588576316833496, 4.332695007324219, 17.340681076049805, 10.419259071350098, 6.598941326141357, 8.646154403686523, 47.372127532958984, 62.491085052490234, 26.190385818481445, 18.00809669494629, 10.728706359863281, 8.120403289794922, 35.26553726196289, 14.858688354492188, 12.956693649291992, 13.808405876159668, 19.95415687561035, 7.986928462982178, 7.194832801818848, 7.423668384552002, 17.57407569885254, 9.27230167388916, 8.429436683654785, 8.813514709472656, 10.31356143951416, 8.992626190185547, 7.655972957611084, 12.004531860351562, 6.279112339019775, 4.586392879486084, 4.558199405670166, 4.545185565948486, 4.545126914978027, 5.2245049476623535, 3.695939302444458, 3.695643663406372, 3.693812131881714, 2.8223538398742676, 2.82232403755188, 2.8223025798797607, 2.816887140274048, 2.799490451812744, 2.773343563079834, 4.155831813812256, 7.322255611419678, 4.578267574310303, 1.9402589797973633, 1.9402538537979126, 1.9402326345443726, 1.9402295351028442, 1.9397481679916382, 1.9383043050765991, 1.9383025169372559, 1.9348019361495972, 1.9345729351043701, 1.9299575090408325, 1.9295129776000977, 22.758827209472656, 6.307632923126221, 3.7070345878601074, 7.401072978973389, 3.6124839782714844, 8.99092960357666, 4.590249538421631, 17.21955108642578, 25.040903091430664, 12.986380577087402, 4.6407575607299805, 13.05750846862793, 11.131087303161621, 16.12158966064453, 11.319570541381836, 30.928741455078125, 7.252713203430176, 7.494042873382568, 6.307849884033203, 12.408916473388672, 7.683643817901611, 19.024080276489258, 12.792917251586914, 8.27478313446045, 10.717576026916504, 9.036078453063965, 14.757359504699707, 12.198253631591797, 9.625908851623535, 7.57484769821167, 14.235243797302246, 9.739466667175293, 9.630016326904297, 9.788702011108398, 10.397466659545898, 7.738094806671143, 7.463782787322998, 10.606863975524902, 7.953516483306885, 7.066032409667969, 5.427117824554443, 4.458446979522705, 3.672240734100342, 3.6710150241851807, 3.663670301437378, 3.5837466716766357, 3.5806117057800293, 9.25381851196289, 7.057433128356934, 2.7997405529022217, 2.799379825592041, 2.7954893112182617, 2.793398857116699, 2.792740821838379, 2.791785955429077, 2.7813167572021484, 2.733445882797241, 5.430888652801514, 1.924595594406128, 1.9214195013046265, 1.918120265007019, 1.9125205278396606, 8.936309814453125, 1.910150170326233, 1.9078710079193115, 1.8766717910766602, 1.8694437742233276, 10.81405258178711, 7.793252944946289, 9.732404708862305, 7.525075912475586, 5.788811683654785, 6.295378684997559, 23.008140563964844, 3.585955858230591, 10.56859016418457, 7.879375457763672, 8.460326194763184, 11.071507453918457, 4.503122806549072, 8.260686874389648, 6.777550220489502, 12.30553150177002, 9.252056121826172, 10.884125709533691, 21.8641300201416, 10.815969467163086, 19.43704605102539, 10.733322143554688, 8.754677772521973, 13.412134170532227, 12.502482414245605, 7.814672946929932, 8.212817192077637, 7.943248271942139, 6.951812267303467, 8.889403343200684, 5.424792289733887, 4.570718765258789, 3.6287519931793213, 3.5987491607666016, 2.8126943111419678, 2.8062400817871094, 2.8017969131469727, 2.7617690563201904, 19.74382209777832, 8.062679290771484, 5.2235026359558105, 1.9337011575698853, 1.9323996305465698, 1.9292795658111572, 1.9260694980621338, 1.9210141897201538, 14.027074813842773, 5.09564733505249, 1.9069175720214844, 1.8705016374588013, 3.685088872909546, 3.6944844722747803, 32.511444091796875, 3.644618272781372, 5.43311882019043, 31.994604110717773, 5.912417411804199, 17.088333129882812, 5.09520149230957, 10.323084831237793, 14.369218826293945, 10.821794509887695, 10.988143920898438, 11.246875762939453, 16.860055923461914, 4.578646183013916, 8.831604957580566, 8.7076416015625, 10.523987770080566, 13.179343223571777, 18.967655181884766, 7.902877330780029, 6.955643653869629, 6.947812080383301, 19.732370376586914, 8.923433303833008, 8.792462348937988, 8.35183334350586, 7.458293914794922, 7.145500183105469, 7.347840309143066, 6.537834167480469, 6.330223083496094, 6.493549346923828], \"Total\": [47.0, 46.0, 26.0, 139.0, 55.0, 93.0, 25.0, 40.0, 37.0, 42.0, 31.0, 19.0, 35.0, 25.0, 62.0, 19.0, 35.0, 35.0, 25.0, 11.0, 13.0, 15.0, 26.0, 19.0, 18.0, 9.0, 14.0, 29.0, 24.0, 20.0, 26.986452102661133, 19.14985466003418, 15.680281639099121, 6.965860366821289, 6.095684051513672, 6.094966411590576, 5.225069999694824, 5.224430084228516, 4.3546929359436035, 4.354682445526123, 4.354736328125, 4.354762554168701, 4.354769706726074, 4.354836463928223, 6.093253135681152, 7.840431213378906, 4.354246139526367, 3.4842467308044434, 3.4842450618743896, 3.4842610359191895, 3.484259605407715, 3.4843175411224365, 3.4843921661376953, 3.4839818477630615, 3.4840927124023438, 3.483046531677246, 10.43552017211914, 7.847036361694336, 6.083743572235107, 6.100373268127441, 55.893680572509766, 7.84036922454834, 23.501731872558594, 42.626495361328125, 16.59491539001465, 8.729907035827637, 33.121315002441406, 16.58346939086914, 12.141407012939453, 13.933907508850098, 12.205029487609863, 15.643476486206055, 139.57742309570312, 19.240856170654297, 126.30783081054688, 7.829341888427734, 93.5997314453125, 10.42475414276123, 30.60506820678711, 75.82234191894531, 41.06533432006836, 17.502370834350586, 22.758445739746094, 15.698465347290039, 42.922576904296875, 33.2130012512207, 81.1782455444336, 15.766549110412598, 24.537338256835938, 47.346160888671875, 21.8830509185791, 33.86977005004883, 11.181506156921387, 7.7444634437561035, 6.027317047119141, 5.167752265930176, 5.168013095855713, 5.168273448944092, 11.196643829345703, 4.308764457702637, 4.3085222244262695, 4.3089189529418945, 4.308800220489502, 9.482828140258789, 6.0307183265686035, 3.449711799621582, 3.4497907161712646, 3.4498212337493896, 3.4498636722564697, 3.450582504272461, 4.3138604164123535, 7.7673492431640625, 3.4514503479003906, 3.451084852218628, 10.34477424621582, 10.355246543884277, 18.987253189086914, 6.898834705352783, 6.049249172210693, 2.5907957553863525, 2.5907931327819824, 2.590791702270508, 19.86400604248047, 18.15533447265625, 6.049520015716553, 26.81255531311035, 15.562020301818848, 9.520092964172363, 12.974604606628418, 93.5997314453125, 139.57742309570312, 51.215965270996094, 35.63920593261719, 19.042301177978516, 13.839410781860352, 126.30783081054688, 35.73991394042969, 29.607830047607422, 33.86977005004883, 75.82234191894531, 15.584941864013672, 13.032106399536133, 13.879840850830078, 81.1782455444336, 23.53491973876953, 23.4644775390625, 27.917104721069336, 62.20357894897461, 40.214847564697266, 30.49563980102539, 13.217172622680664, 7.046116352081299, 5.283246994018555, 5.282739639282227, 5.282807350158691, 5.2828049659729, 6.162451267242432, 4.40095853805542, 4.400984764099121, 4.400911331176758, 3.519148826599121, 3.5191423892974854, 3.5191357135772705, 3.519057273864746, 3.518726348876953, 3.517810106277466, 5.277182102203369, 9.684818267822266, 6.158278942108154, 2.6370747089385986, 2.6370742321014404, 2.6370675563812256, 2.6370654106140137, 2.6370363235473633, 2.6370046138763428, 2.6370043754577637, 2.637021780014038, 2.6369948387145996, 2.6367642879486084, 2.636962413787842, 31.61045265197754, 8.787363052368164, 5.27995491027832, 11.395702362060547, 5.257326602935791, 14.960502624511719, 7.023662090301514, 35.73991394042969, 62.20357894897461, 28.948532104492188, 7.894845008850098, 29.607830047607422, 24.594619750976562, 42.922576904296875, 27.917104721069336, 126.30783081054688, 14.841947555541992, 15.766549110412598, 12.216426849365234, 35.63920593261719, 16.654787063598633, 75.82234191894531, 40.214847564697266, 20.9371337890625, 35.14691925048828, 26.272939682006836, 81.1782455444336, 55.893680572509766, 33.2130012512207, 18.444561004638672, 93.5997314453125, 37.78099060058594, 41.06533432006836, 51.215965270996094, 139.57742309570312, 30.60506820678711, 22.758445739746094, 11.377416610717773, 8.752174377441406, 7.8767805099487305, 6.125622272491455, 5.249373912811279, 4.374749660491943, 4.3747148513793945, 4.374568462371826, 4.3730621337890625, 4.374238967895508, 11.354912757873535, 8.754103660583496, 3.499274253845215, 3.499274253845215, 3.4992616176605225, 3.4992809295654297, 3.4990434646606445, 3.499330520629883, 3.4990038871765137, 3.4983463287353516, 6.984421253204346, 2.6238338947296143, 2.623842477798462, 2.623414993286133, 2.623595714569092, 12.2732515335083, 2.6236603260040283, 2.6237354278564453, 2.6235191822052, 2.6227688789367676, 15.722553253173828, 11.349868774414062, 14.910981178283691, 11.356571197509766, 8.764030456542969, 9.623184204101562, 40.13633346557617, 5.256819248199463, 18.362873077392578, 13.163019180297852, 16.545307159423828, 24.3626651763916, 6.966958522796631, 19.21653938293457, 14.868356704711914, 40.214847564697266, 25.303844451904297, 35.14691925048828, 139.57742309570312, 37.78099060058594, 126.30783081054688, 41.06533432006836, 30.60506820678711, 81.1782455444336, 75.82234191894531, 30.49563980102539, 42.626495361328125, 42.922576904296875, 19.998844146728516, 9.662894248962402, 6.146973133087158, 5.268213748931885, 4.389323711395264, 4.387488842010498, 3.510132312774658, 3.5099856853485107, 3.509878158569336, 3.509944438934326, 25.44843101501465, 10.534712791442871, 7.012627124786377, 2.631096601486206, 2.631039619445801, 2.631051778793335, 2.6309118270874023, 2.630941152572632, 19.293535232543945, 7.024459362030029, 2.6306862831115723, 2.630066394805908, 5.247650146484375, 5.270966053009033, 46.48572540283203, 5.271012306213379, 7.897813320159912, 47.346160888671875, 8.767900466918945, 25.388134002685547, 7.856963634490967, 16.620502471923828, 25.339017868041992, 19.211833953857422, 20.160682678222656, 21.816120147705078, 37.78099060058594, 7.8904290199279785, 18.444561004638672, 18.319583892822266, 24.537338256835938, 35.14691925048828, 62.20357894897461, 16.579565048217773, 14.015313148498535, 14.062528610229492, 81.1782455444336, 21.76552963256836, 22.829330444335938, 28.948532104492188, 23.53491973876953, 21.013286590576172, 23.4644775390625, 19.230018615722656, 18.39642333984375, 26.272939682006836], \"Category\": [\"Default\", \"Default\", \"Default\", \"Default\", \"Default\", \"Default\", \"Default\", \"Default\", \"Default\", \"Default\", \"Default\", \"Default\", \"Default\", \"Default\", \"Default\", \"Default\", \"Default\", \"Default\", \"Default\", \"Default\", \"Default\", \"Default\", \"Default\", \"Default\", \"Default\", \"Default\", \"Default\", \"Default\", \"Default\", \"Default\", \"Topic1\", \"Topic1\", \"Topic1\", \"Topic1\", \"Topic1\", \"Topic1\", \"Topic1\", \"Topic1\", \"Topic1\", \"Topic1\", \"Topic1\", \"Topic1\", \"Topic1\", \"Topic1\", \"Topic1\", \"Topic1\", \"Topic1\", \"Topic1\", \"Topic1\", \"Topic1\", \"Topic1\", \"Topic1\", \"Topic1\", \"Topic1\", \"Topic1\", \"Topic1\", \"Topic1\", \"Topic1\", \"Topic1\", \"Topic1\", \"Topic1\", \"Topic1\", \"Topic1\", \"Topic1\", \"Topic1\", \"Topic1\", \"Topic1\", \"Topic1\", \"Topic1\", \"Topic1\", \"Topic1\", \"Topic1\", \"Topic1\", \"Topic1\", \"Topic1\", \"Topic1\", \"Topic1\", \"Topic1\", \"Topic1\", \"Topic1\", \"Topic1\", \"Topic1\", \"Topic1\", \"Topic1\", \"Topic1\", \"Topic1\", \"Topic1\", \"Topic1\", \"Topic1\", \"Topic1\", \"Topic1\", \"Topic1\", \"Topic2\", \"Topic2\", \"Topic2\", \"Topic2\", \"Topic2\", \"Topic2\", \"Topic2\", \"Topic2\", \"Topic2\", \"Topic2\", \"Topic2\", \"Topic2\", \"Topic2\", \"Topic2\", \"Topic2\", \"Topic2\", \"Topic2\", \"Topic2\", \"Topic2\", \"Topic2\", \"Topic2\", \"Topic2\", \"Topic2\", \"Topic2\", \"Topic2\", \"Topic2\", \"Topic2\", \"Topic2\", \"Topic2\", \"Topic2\", \"Topic2\", \"Topic2\", \"Topic2\", \"Topic2\", \"Topic2\", \"Topic2\", \"Topic2\", \"Topic2\", \"Topic2\", \"Topic2\", \"Topic2\", \"Topic2\", \"Topic2\", \"Topic2\", \"Topic2\", \"Topic2\", \"Topic2\", \"Topic2\", \"Topic2\", \"Topic2\", \"Topic2\", \"Topic2\", \"Topic2\", \"Topic2\", \"Topic2\", \"Topic2\", \"Topic2\", \"Topic2\", \"Topic3\", \"Topic3\", \"Topic3\", \"Topic3\", \"Topic3\", \"Topic3\", \"Topic3\", \"Topic3\", \"Topic3\", \"Topic3\", \"Topic3\", \"Topic3\", \"Topic3\", \"Topic3\", \"Topic3\", \"Topic3\", \"Topic3\", \"Topic3\", \"Topic3\", \"Topic3\", \"Topic3\", \"Topic3\", \"Topic3\", \"Topic3\", \"Topic3\", \"Topic3\", \"Topic3\", \"Topic3\", \"Topic3\", \"Topic3\", \"Topic3\", \"Topic3\", \"Topic3\", \"Topic3\", \"Topic3\", \"Topic3\", \"Topic3\", \"Topic3\", \"Topic3\", \"Topic3\", \"Topic3\", \"Topic3\", \"Topic3\", \"Topic3\", \"Topic3\", \"Topic3\", \"Topic3\", \"Topic3\", \"Topic3\", \"Topic3\", \"Topic3\", \"Topic3\", \"Topic3\", \"Topic3\", \"Topic3\", \"Topic3\", \"Topic3\", \"Topic3\", \"Topic3\", \"Topic3\", \"Topic3\", \"Topic3\", \"Topic3\", \"Topic3\", \"Topic3\", \"Topic3\", \"Topic3\", \"Topic4\", \"Topic4\", \"Topic4\", \"Topic4\", \"Topic4\", \"Topic4\", \"Topic4\", \"Topic4\", \"Topic4\", \"Topic4\", \"Topic4\", \"Topic4\", \"Topic4\", \"Topic4\", \"Topic4\", \"Topic4\", \"Topic4\", \"Topic4\", \"Topic4\", \"Topic4\", \"Topic4\", \"Topic4\", \"Topic4\", \"Topic4\", \"Topic4\", \"Topic4\", \"Topic4\", \"Topic4\", \"Topic4\", \"Topic4\", \"Topic4\", \"Topic4\", \"Topic4\", \"Topic4\", \"Topic4\", \"Topic4\", \"Topic4\", \"Topic4\", \"Topic4\", \"Topic4\", \"Topic4\", \"Topic4\", \"Topic4\", \"Topic4\", \"Topic4\", \"Topic4\", \"Topic4\", \"Topic4\", \"Topic4\", \"Topic4\", \"Topic4\", \"Topic4\", \"Topic4\", \"Topic4\", \"Topic4\", \"Topic4\", \"Topic4\", \"Topic4\", \"Topic4\", \"Topic5\", \"Topic5\", \"Topic5\", \"Topic5\", \"Topic5\", \"Topic5\", \"Topic5\", \"Topic5\", \"Topic5\", \"Topic5\", \"Topic5\", \"Topic5\", \"Topic5\", \"Topic5\", \"Topic5\", \"Topic5\", \"Topic5\", \"Topic5\", \"Topic5\", \"Topic5\", \"Topic5\", \"Topic5\", \"Topic5\", \"Topic5\", \"Topic5\", \"Topic5\", \"Topic5\", \"Topic5\", \"Topic5\", \"Topic5\", \"Topic5\", \"Topic5\", \"Topic5\", \"Topic5\", \"Topic5\", \"Topic5\", \"Topic5\", \"Topic5\", \"Topic5\", \"Topic5\", \"Topic5\", \"Topic5\", \"Topic5\", \"Topic5\", \"Topic5\", \"Topic5\", \"Topic5\", \"Topic5\", \"Topic5\", \"Topic5\", \"Topic5\", \"Topic5\", \"Topic5\", \"Topic5\", \"Topic5\"], \"logprob\": [30.0, 29.0, 28.0, 27.0, 26.0, 25.0, 24.0, 23.0, 22.0, 21.0, 20.0, 19.0, 18.0, 17.0, 16.0, 15.0, 14.0, 13.0, 12.0, 11.0, 10.0, 9.0, 8.0, 7.0, 6.0, 5.0, 4.0, 3.0, 2.0, 1.0, -4.111000061035156, -4.47130012512207, -4.728700160980225, -5.543700218200684, -5.696300029754639, -5.700300216674805, -5.868199825286865, -5.881800174713135, -6.081200122833252, -6.081299781799316, -6.082799911499023, -6.0854997634887695, -6.088099956512451, -6.088500022888184, -5.753900051116943, -5.51800012588501, -6.111400127410889, -6.3531999588012695, -6.3531999588012695, -6.3531999588012695, -6.353499889373779, -6.355100154876709, -6.357500076293945, -6.358799934387207, -6.364299774169922, -6.382400035858154, -5.2916998863220215, -5.589099884033203, -5.868599891662598, -5.868800163269043, -3.7318999767303467, -5.625899791717529, -4.5858001708984375, -4.041200160980225, -4.956299781799316, -5.548399925231934, -4.390500068664551, -5.015600204467773, -5.318699836730957, -5.217700004577637, -5.354899883270264, -5.178800106048584, -3.6059999465942383, -5.049300193786621, -3.805000066757202, -5.69189977645874, -4.055799961090088, -5.5121002197265625, -4.85099983215332, -4.372900009155273, -4.753499984741211, -5.222700119018555, -5.108699798583984, -5.297299861907959, -4.843900203704834, -4.969299793243408, -4.623700141906738, -5.334000110626221, -5.2042999267578125, -5.070400238037109, -5.269100189208984, -5.247000217437744, -5.021900177001953, -5.412700176239014, -5.698299884796143, -5.869999885559082, -5.871399879455566, -5.873899936676025, -5.101500034332275, -6.083399772644043, -6.084400177001953, -6.084799766540527, -6.087600231170654, -5.3003997802734375, -5.753699779510498, -6.35230016708374, -6.354899883270264, -6.354899883270264, -6.357900142669678, -6.365300178527832, -6.146100044250488, -5.564799785614014, -6.38100004196167, -6.400000095367432, -5.302999973297119, -5.303699970245361, -4.702899932861328, -5.72160005569458, -5.865799903869629, -6.7270002365112305, -6.7270002365112305, -6.7270002365112305, -4.708499908447266, -4.83050012588501, -5.89709997177124, -4.510200023651123, -5.019599914550781, -5.476399898529053, -5.206200122833252, -3.505199909210205, -3.228300094604492, -4.097899913787842, -4.472499847412109, -4.9903998374938965, -5.268899917602539, -3.8004000186920166, -4.664700031280518, -4.801700115203857, -4.73799991607666, -4.369800090789795, -5.2855000495910645, -5.389900207519531, -5.35860013961792, -4.4969000816345215, -5.136199951171875, -5.231599807739258, -5.186999797821045, -5.029799938201904, -5.166900157928467, -5.3277997970581055, -4.729700088500977, -5.377699851989746, -5.69189977645874, -5.697999954223633, -5.700900077819824, -5.700900077819824, -5.561600208282471, -5.907700061798096, -5.907800197601318, -5.908299922943115, -6.1774001121521, -6.1774001121521, -6.1774001121521, -6.179299831390381, -6.185500144958496, -6.194900035858154, -5.790500164031982, -5.224100112915039, -5.693699836730957, -6.552199840545654, -6.552199840545654, -6.552199840545654, -6.552199840545654, -6.5524001121521, -6.553199768066406, -6.553199768066406, -6.554999828338623, -6.555099964141846, -6.557499885559082, -6.557700157165527, -4.090000152587891, -5.373199939727783, -5.904699802398682, -5.213399887084961, -5.930600166320801, -5.018799781799316, -5.690999984741211, -4.368899822235107, -3.994499921798706, -4.651100158691406, -5.680099964141846, -4.645599842071533, -4.805200099945068, -4.434800148010254, -4.788400173187256, -3.7832999229431152, -5.23360013961792, -5.200900077819824, -5.373199939727783, -4.696599960327148, -5.175899982452393, -4.2692999839782715, -4.666100025177002, -5.101799964904785, -4.843100070953369, -5.013800144195557, -4.523200035095215, -4.713699817657471, -4.950500011444092, -5.190100193023682, -4.559299945831299, -4.938799858093262, -4.950099945068359, -4.933700084686279, -4.8734002113342285, -5.168799877166748, -5.204899787902832, -4.687600135803223, -4.975500106811523, -5.093800067901611, -5.357699871063232, -5.554299831390381, -5.748300075531006, -5.748700141906738, -5.750699996948242, -5.77269983291626, -5.773600101470947, -4.824100017547607, -5.095099925994873, -6.019599914550781, -6.019700050354004, -6.021100044250488, -6.021900177001953, -6.02209997177124, -6.022500038146973, -6.026199817657471, -6.043600082397461, -5.35699987411499, -6.394400119781494, -6.396100044250488, -6.397799968719482, -6.400700092315674, -4.859000205993652, -6.4019999504089355, -6.403200149536133, -6.419600009918213, -6.423500061035156, -4.668300151824951, -4.9959001541137695, -4.77370023727417, -5.030900001525879, -5.2932000160217285, -5.2093000411987305, -3.913300037384033, -5.77209997177124, -4.691299915313721, -4.984899997711182, -4.91379976272583, -4.644800186157227, -5.544400215148926, -4.937600135803223, -5.135499954223633, -4.539100170135498, -4.8242998123168945, -4.661799907684326, -3.9642999172210693, -4.668099880218506, -4.081999778747559, -4.67579984664917, -4.8796000480651855, -4.453000068664551, -4.523200035095215, -4.993100166320801, -4.943399906158447, -4.976799964904785, -5.110099792480469, -4.852099895477295, -5.3460001945495605, -5.517300128936768, -5.7480998039245605, -5.756400108337402, -6.002799987792969, -6.005099773406982, -6.006700038909912, -6.021100044250488, -4.054100036621094, -4.949699878692627, -5.383800029754639, -6.377500057220459, -6.378200054168701, -6.379799842834473, -6.381499767303467, -6.384099960327148, -4.395999908447266, -5.408599853515625, -6.391499996185303, -6.410799980163574, -5.732699871063232, -5.730100154876709, -3.5553998947143555, -5.74370002746582, -5.3445000648498535, -3.5713999271392822, -5.259900093078613, -4.198599815368652, -5.408699989318848, -4.702600002288818, -4.3719000816345215, -4.655399799346924, -4.640200138092041, -4.6168999671936035, -4.211999893188477, -5.515600204467773, -4.85860013961792, -4.872799873352051, -4.683300018310547, -4.4583001136779785, -4.094200134277344, -4.969699859619141, -5.097400188446045, -5.098499774932861, -4.054699897766113, -4.848299980163574, -4.863100051879883, -4.9145002365112305, -5.027599811553955, -5.070499897003174, -5.042600154876709, -5.15939998626709, -5.1915998458862305, -5.166200160980225], \"loglift\": [30.0, 29.0, 28.0, 27.0, 26.0, 25.0, 24.0, 23.0, 22.0, 21.0, 20.0, 19.0, 18.0, 17.0, 16.0, 15.0, 14.0, 13.0, 12.0, 11.0, 10.0, 9.0, 8.0, 7.0, 6.0, 5.0, 4.0, 3.0, 2.0, 1.0, 1.4220999479293823, 1.4048999547958374, 1.3473999500274658, 1.3437999486923218, 1.3245999813079834, 1.3207000494003296, 1.3069000244140625, 1.2933000326156616, 1.2760000228881836, 1.2760000228881836, 1.274399995803833, 1.2717000246047974, 1.2690999507904053, 1.2687000036239624, 1.2675000429153442, 1.2511999607086182, 1.246000051498413, 1.2269999980926514, 1.2269999980926514, 1.2269999980926514, 1.226699948310852, 1.225100040435791, 1.2226999998092651, 1.221500039100647, 1.215999960899353, 1.198199987411499, 1.19159996509552, 1.1792000532150269, 1.1541999578475952, 1.1512999534606934, 1.073099970817566, 1.1433000564575195, 1.0856000185012817, 1.0348999500274658, 1.063099980354309, 1.1132999658584595, 0.9377999901771545, 1.0045000314712524, 1.013100028038025, 0.9764999747276306, 0.9717000126838684, 0.8996000289916992, 0.2838999927043915, 0.8222000002861023, 0.18479999899864197, 1.0786999464035034, 0.2337000072002411, 0.9721999764442444, 0.5564000010490417, 0.12720000743865967, 0.35989999771118164, 0.7434999942779541, 0.5949000120162964, 0.7777000069618225, 0.22519999742507935, 0.3562999963760376, -0.19179999828338623, 0.7365999817848206, 0.42399999499320984, -0.09939999878406525, 0.47369998693466187, 0.05889999866485596, 1.392300009727478, 1.3688000440597534, 1.333899974822998, 1.315999984741211, 1.3145999908447266, 1.312000036239624, 1.311400055885315, 1.2843999862670898, 1.2834999561309814, 1.2829999923706055, 1.2803000211715698, 1.2785999774932861, 1.277999997138977, 1.2379000186920166, 1.2352999448776245, 1.235200047492981, 1.232300043106079, 1.2245999574661255, 1.2206000089645386, 1.2137000560760498, 1.2086999416351318, 1.1898000240325928, 1.1890000104904175, 1.1872999668121338, 1.1819000244140625, 1.1756000518798828, 1.1627000570297241, 1.1495000123977661, 1.1495000123977661, 1.1495000123977661, 1.131100058555603, 1.0989999771118164, 1.1313999891281128, 1.0293999910354614, 1.0640000104904175, 1.0987000465393066, 1.0592999458312988, 0.7842000126838684, 0.6615999937057495, 0.7946000099182129, 0.7825999855995178, 0.8914999961853027, 0.9320999979972839, 0.18940000236034393, 0.5874999761581421, 0.6388000249862671, 0.5680000185966492, 0.13030000030994415, 0.7967000007629395, 0.8712000250816345, 0.8393999934196472, -0.06499999761581421, 0.5338000059127808, 0.4415000081062317, 0.3122999966144562, -0.33169999718666077, -0.032600000500679016, 0.08309999853372574, 1.517300009727478, 1.4982999563217163, 1.472100019454956, 1.465999960899353, 1.4630999565124512, 1.4630999565124512, 1.4484000205993652, 1.4388999938964844, 1.4387999773025513, 1.4384000301361084, 1.392899990081787, 1.392899990081787, 1.392899990081787, 1.3910000324249268, 1.3848999738693237, 1.3756999969482422, 1.3746000528335571, 1.333899974822998, 1.3170000314712524, 1.3066999912261963, 1.3066999912261963, 1.3066999912261963, 1.3066999912261963, 1.306399941444397, 1.3056999444961548, 1.3056999444961548, 1.3039000034332275, 1.3037999868392944, 1.3014999628067017, 1.301200032234192, 1.284999966621399, 1.281999945640564, 1.2597999572753906, 1.1819000244140625, 1.2382999658584595, 1.1043000221252441, 1.1881999969482422, 0.8833000063896179, 0.7035999894142151, 0.8119000196456909, 1.082200050354004, 0.7947999835014343, 0.8206999897956848, 0.6342999935150146, 0.7107999920845032, 0.20649999380111694, 0.8974000215530396, 0.869700014591217, 0.9524999856948853, 0.5584999918937683, 0.839900016784668, 0.23080000281333923, 0.4681999981403351, 0.6851999759674072, 0.42590001225471497, 0.5461999773979187, -0.09139999747276306, 0.09139999747276306, 0.375, 0.7235999703407288, -0.26980000734329224, 0.2578999996185303, 0.1632000058889389, -0.04129999876022339, -0.9835000038146973, 0.23849999904632568, 0.4986000061035156, 1.7092000246047974, 1.6836999654769897, 1.670699954032898, 1.6583000421524048, 1.6160000562667847, 1.6043000221252441, 1.6039999723434448, 1.6019999980926514, 1.580299973487854, 1.579200029373169, 1.5746999979019165, 1.5638999938964844, 1.5563000440597534, 1.5562000274658203, 1.554800033569336, 1.5541000366210938, 1.5539000034332275, 1.5535000562667847, 1.5498000383377075, 1.5326000452041626, 1.5277999639511108, 1.4694000482559204, 1.4678000211715698, 1.4661999940872192, 1.4631999731063843, 1.4621000289916992, 1.4620000123977661, 1.4607000350952148, 1.4443000555038452, 1.4407999515533447, 1.4050999879837036, 1.40339994430542, 1.3526999950408936, 1.367799997329712, 1.3645999431610107, 1.3550000190734863, 1.2229000329971313, 1.3969000577926636, 1.2268999814987183, 1.2661999464035034, 1.1086000204086304, 0.9907000064849854, 1.342900037765503, 0.9351000189781189, 0.9937000274658203, 0.5952000021934509, 0.7731999754905701, 0.6071000099182129, -0.07440000027418137, 0.5285999774932861, -0.09220000356435776, 0.4375, 0.5278000235557556, -0.0210999995470047, -0.023099999874830246, 0.41780000925064087, 0.13259999454021454, 0.09229999780654907, 0.7226999998092651, 1.7080999612808228, 1.6664999723434448, 1.6495000123977661, 1.601199984550476, 1.593400001525879, 1.5700000524520874, 1.5678000450134277, 1.5662000179290771, 1.551800012588501, 1.5377000570297241, 1.5240999460220337, 1.496999979019165, 1.4836000204086304, 1.4829000234603882, 1.4812999963760376, 1.479699969291687, 1.4769999980926514, 1.4726999998092651, 1.4704999923706055, 1.4697999954223633, 1.450700044631958, 1.437999963760376, 1.4362000226974487, 1.434000015258789, 1.4226000308990479, 1.4175000190734863, 1.3996000289916992, 1.3975000381469727, 1.3955999612808228, 1.3583999872207642, 1.3152999877929688, 1.2243000268936157, 1.2175999879837036, 1.1845999956130981, 1.128999948501587, 0.9847000241279602, 1.2473000288009644, 1.0550999641418457, 1.0477999448776245, 0.9449999928474426, 0.8105999827384949, 0.6037999987602234, 1.0506000518798828, 1.09089994430542, 1.086400032043457, 0.37709999084472656, 0.8999000191688538, 0.8374000191688538, 0.5485000014305115, 0.6424000263214111, 0.7128999829292297, 0.6304000020027161, 0.7127000093460083, 0.7246999740600586, 0.3937999904155731]}, \"token.table\": {\"Topic\": [1, 2, 1, 4, 5, 5, 4, 1, 3, 1, 3, 1, 2, 3, 4, 5, 4, 1, 1, 2, 3, 5, 2, 3, 4, 1, 2, 3, 5, 1, 2, 3, 4, 5, 3, 2, 5, 3, 4, 5, 1, 2, 3, 4, 5, 1, 2, 1, 3, 1, 1, 2, 3, 4, 5, 3, 4, 1, 2, 4, 5, 5, 2, 4, 1, 2, 3, 1, 3, 4, 1, 1, 2, 4, 4, 2, 3, 1, 4, 1, 2, 3, 5, 2, 2, 4, 5, 1, 1, 3, 1, 2, 4, 3, 4, 2, 3, 5, 1, 2, 3, 4, 5, 3, 4, 4, 1, 2, 5, 1, 2, 3, 1, 1, 2, 5, 1, 3, 4, 5, 5, 1, 2, 3, 5, 1, 2, 3, 4, 5, 4, 5, 1, 2, 3, 4, 5, 1, 3, 3, 4, 5, 3, 1, 2, 2, 3, 5, 2, 3, 4, 5, 3, 4, 4, 5, 3, 2, 5, 1, 2, 4, 5, 1, 2, 3, 4, 1, 3, 4, 5, 1, 2, 3, 4, 1, 2, 3, 4, 5, 4, 3, 3, 4, 1, 3, 4, 1, 3, 3, 5, 1, 3, 2, 3, 4, 5, 1, 2, 4, 5, 1, 2, 3, 4, 5, 5, 3, 2, 3, 5, 1, 2, 4, 5, 1, 3, 4, 5, 1, 2, 3, 4, 3, 4, 5, 1, 2, 1, 2, 3, 4, 5, 2, 3, 4, 5, 2, 4, 1, 4, 1, 2, 4, 3, 4, 3, 4, 1, 2, 3, 4, 5, 1, 1, 2, 3, 4, 3, 1, 4, 1, 2, 5, 2, 2, 4, 3, 2, 3, 4, 5, 3, 4, 5, 1, 2, 5, 3, 1, 1, 2, 3, 4, 2, 2, 4, 1, 2, 3, 4, 5, 1, 2, 3, 5, 1, 3, 5, 4, 2, 2, 1, 3, 4, 1, 2, 4, 5, 2, 1, 3, 5, 1, 3, 4, 1, 2, 3, 4, 5, 1, 4, 5, 1, 2, 5, 2, 3, 4, 5, 1, 2, 3, 4, 5, 1, 2, 4, 2, 4, 4, 5, 3, 1, 1, 1, 2, 4, 2, 3, 5, 5, 1, 4, 5, 3, 1, 2, 4, 1, 2, 3, 5, 1, 2, 3, 3, 1, 2, 5, 4, 3, 5, 1, 2, 4, 2, 5, 1, 2, 3, 4, 5, 1, 2, 5, 4, 3, 4, 5, 1, 1, 5, 2, 4, 3, 3, 2, 1, 2, 5, 2, 4, 5, 2, 1, 2, 3, 4, 5, 1, 2, 3, 4, 2, 5, 5, 2, 3, 3, 2, 4, 5, 1, 5, 1, 3, 4, 1, 4, 3, 4, 1, 4, 2, 5, 1, 3, 1, 3, 4, 1, 3, 4, 5, 1, 2, 1, 3, 4, 1, 2, 5, 1, 2, 4, 3, 4, 5, 2, 2, 2, 3, 4, 5, 1, 3, 5, 2, 4, 5, 1, 5, 1, 2, 3, 5, 4, 5, 2, 1, 2, 3, 4, 5, 1, 2, 3, 4, 5, 2, 1, 2, 3, 4, 2, 3, 5, 1, 3, 4, 5, 1, 2, 3, 4, 2, 5, 3, 4, 5, 3, 2, 4, 2, 3, 1, 3, 5, 1, 2, 3, 4, 4, 1, 2, 3, 4, 5, 3, 1, 3, 1, 2, 4, 2, 4, 1, 2, 3, 4, 2, 3, 1, 2, 3, 4, 1, 1, 2, 3, 4, 5, 3], \"Freq\": [0.6589022278785706, 0.3294511139392853, 0.15549249947071075, 0.1036616638302803, 0.7256316542625427, 0.8547043204307556, 0.8573237061500549, 0.9185401201248169, 0.7584187984466553, 0.18949507176876068, 0.7579802870750427, 0.06360290199518204, 0.12720580399036407, 0.06360290199518204, 0.699631929397583, 0.06360290199518204, 0.8573771715164185, 0.9185330867767334, 0.02797992154955864, 0.4196988344192505, 0.47565868496894836, 0.05595984309911728, 0.5050617456436157, 0.33670783042907715, 0.14029493927955627, 0.6554675102233887, 0.08193343877792358, 0.16386687755584717, 0.08193343877792358, 0.2850179672241211, 0.2771008014678955, 0.24543212354183197, 0.15042614936828613, 0.03958582878112793, 0.85248202085495, 0.7724642753601074, 0.12874405086040497, 0.9464664459228516, 0.2532346546649933, 0.633086621761322, 0.19030988216400146, 0.11418592929840088, 0.34255778789520264, 0.11418592929840088, 0.22837185859680176, 0.19333432614803314, 0.7733373045921326, 0.8205797076225281, 0.7584484219551086, 0.9634463787078857, 0.30287089943885803, 0.04659552499651909, 0.3727641999721527, 0.18638209998607635, 0.09319104999303818, 0.8119151592254639, 0.162383034825325, 0.07474524527788162, 0.1744055598974228, 0.573046863079071, 0.14949049055576324, 0.8134084939956665, 0.8290886282920837, 0.8573206067085266, 0.17550475895404816, 0.08775237947702408, 0.6142666339874268, 0.20783141255378723, 0.10391570627689362, 0.6234942674636841, 0.8610186576843262, 0.40002313256263733, 0.25001445412635803, 0.35002022981643677, 0.914375901222229, 0.5371349453926086, 0.38366782665252686, 0.9185492396354675, 0.9146908521652222, 0.17272032797336578, 0.06908813118934631, 0.44907286763191223, 0.27635252475738525, 0.7740309238433838, 0.9038715362548828, 0.762293815612793, 0.9113020896911621, 0.8609822988510132, 0.6628536581993103, 0.24103768169879913, 0.5753197073936462, 0.19177323579788208, 0.19177323579788208, 0.24443399906158447, 0.7333019971847534, 0.8696179986000061, 0.1897168755531311, 0.7588675022125244, 0.04822873696684837, 0.1607624590396881, 0.4019061326980591, 0.08038122951984406, 0.30544865131378174, 0.7584271430969238, 0.9143453240394592, 0.7622720003128052, 0.26025626063346863, 0.15615375339984894, 0.5725637674331665, 0.8610563278198242, 0.9283403754234314, 0.758436381816864, 0.8610182404518127, 0.11188787966966629, 0.634031355381012, 0.22377575933933258, 0.04380330070853233, 0.2628197968006134, 0.30662310123443604, 0.3942297101020813, 0.911683201789856, 0.10917278379201889, 0.3275183439254761, 0.10917278379201889, 0.4912775456905365, 0.19709713757038116, 0.22173428535461426, 0.18477857112884521, 0.16014142334461212, 0.24637141823768616, 0.7623348236083984, 0.7601393461227417, 0.047762028872966766, 0.33433419466018677, 0.38209623098373413, 0.19104811549186707, 0.047762028872966766, 0.22759956121444702, 0.6827986836433411, 0.722780704498291, 0.10325439274311066, 0.10325439274311066, 0.7584313750267029, 0.9569249749183655, 0.6954327821731567, 0.3824104964733124, 0.25494033098220825, 0.2974303662776947, 0.03929515182971954, 0.03929515182971954, 0.15718060731887817, 0.7859030961990356, 0.19022910296916962, 0.7609164118766785, 0.18984855711460114, 0.7593942284584045, 0.852480411529541, 0.7719647884368896, 0.7601842284202576, 0.12907187640666962, 0.021511979401111603, 0.15058386325836182, 0.7098953723907471, 0.26019254326820374, 0.10407701134681702, 0.20815402269363403, 0.41630804538726807, 0.3655797243118286, 0.22848734259605408, 0.27418479323387146, 0.13709239661693573, 0.23711812496185303, 0.1975984275341034, 0.1975984275341034, 0.35567718744277954, 0.05435839295387268, 0.10871678590774536, 0.21743357181549072, 0.21743357181549072, 0.3261503577232361, 0.8573206067085266, 0.9464786052703857, 0.7584391236305237, 0.8573189973831177, 0.9185345768928528, 0.268258661031723, 0.6706466674804688, 0.2847517430782318, 0.7118793725967407, 0.18971854448318481, 0.7588741779327393, 0.5074033737182617, 0.443977952003479, 0.22379793226718903, 0.32326367497444153, 0.2983972430229187, 0.14919862151145935, 0.06425900757312775, 0.6425901055335999, 0.1285180151462555, 0.1285180151462555, 0.3080727458000183, 0.4441979229450226, 0.07164482772350311, 0.15761861205101013, 0.007164482492953539, 0.9490882754325867, 0.7584161162376404, 0.336883008480072, 0.47163620591163635, 0.13475321233272552, 0.13751299679279327, 0.22918832302093506, 0.09167532622814178, 0.5042142868041992, 0.5197274088859558, 0.3118364214897156, 0.10394547879695892, 0.05197273939847946, 0.07164067029953003, 0.32238298654556274, 0.3940236568450928, 0.17910166084766388, 0.11410275101661682, 0.6846165060997009, 0.11410275101661682, 0.8610150814056396, 0.7739918231964111, 0.6038407683372498, 0.12076815217733383, 0.15096019208431244, 0.060384076088666916, 0.060384076088666916, 0.7373367547988892, 0.05266691371798515, 0.2106676548719406, 0.8547143936157227, 0.8931247591972351, 0.08931247889995575, 0.2641642391681671, 0.7044379711151123, 0.8202524781227112, 0.28706932067871094, 0.7176733016967773, 0.3798520565032959, 0.6077632904052734, 0.8524788618087769, 0.816243588924408, 0.23619882762432098, 0.4133479595184326, 0.08857455849647522, 0.11809941381216049, 0.14762426912784576, 0.939954936504364, 0.28902965784072876, 0.5780593156814575, 0.07225741446018219, 0.07225741446018219, 0.8525812029838562, 0.7652640342712402, 0.12754400074481964, 0.8203490376472473, 0.8943338990211487, 0.760152280330658, 0.8696102499961853, 0.08806760609149933, 0.7926084399223328, 0.7584362626075745, 0.23678897321224213, 0.03946482762694359, 0.15785931050777435, 0.5525075793266296, 0.28444385528564453, 0.14222192764282227, 0.4977767765522003, 0.2756652534008026, 0.3216094374656677, 0.4134978652000427, 0.908887505531311, 0.918551504611969, 0.6633111238479614, 0.06030101329088211, 0.24120405316352844, 0.7622408866882324, 0.7719635963439941, 0.7725552320480347, 0.19313880801200867, 0.11816544085741043, 0.11816544085741043, 0.03938848152756691, 0.03938848152756691, 0.6696041822433472, 0.07135052978992462, 0.14270105957984924, 0.2854021191596985, 0.49945369362831116, 0.9186435341835022, 0.7575822472572327, 0.18939556181430817, 0.8886879682540894, 0.773952841758728, 0.8694184422492981, 0.3002139925956726, 0.48034238815307617, 0.18012839555740356, 0.25665798783302307, 0.5133159756660461, 0.12832899391651154, 0.06416449695825577, 0.8692918419837952, 0.36678794026374817, 0.20377108454704285, 0.4482963979244232, 0.8613436818122864, 0.9088929295539856, 0.8575480580329895, 0.3409201502799988, 0.09740575402975082, 0.24351438879966736, 0.2678658366203308, 0.07305432111024857, 0.21121037006378174, 0.10560518503189087, 0.6758731603622437, 0.6808009147644043, 0.1276501715183258, 0.17020022869110107, 0.7160429954528809, 0.1101604625582695, 0.16524069011211395, 0.05508023127913475, 0.10400406271219254, 0.20800812542438507, 0.20800812542438507, 0.1560060828924179, 0.364014208316803, 0.2873248755931854, 0.24627847969532013, 0.45151054859161377, 0.14317578077316284, 0.7158789038658142, 0.7619956135749817, 0.9313979744911194, 0.7585054039955139, 0.8610836863517761, 0.9185190200805664, 0.14495201408863068, 0.7247600555419922, 0.8573868870735168, 0.14880448579788208, 0.29760897159576416, 0.5456164479255676, 0.8547305464744568, 0.8613149523735046, 0.7625529170036316, 0.8546686172485352, 0.9463877081871033, 0.7666124701499939, 0.09582655876874924, 0.09582655876874924, 0.2991461455821991, 0.5021381974220276, 0.14957307279109955, 0.04273516684770584, 0.15414728224277496, 0.6936627626419067, 0.15414728224277496, 0.7584162950515747, 0.30157607793807983, 0.18094563484191895, 0.4825217127799988, 0.9144448041915894, 0.14235970377922058, 0.7117985486984253, 0.17621348798274994, 0.08810674399137497, 0.7048539519309998, 0.2545512616634369, 0.6363781690597534, 0.26377448439598083, 0.26377448439598083, 0.25058576464653015, 0.17145341634750366, 0.05275489762425423, 0.645906388759613, 0.14353474974632263, 0.21530213952064514, 0.7623125910758972, 0.8113654255867004, 0.9140585660934448, 0.7601926922798157, 0.8610007166862488, 0.1425999104976654, 0.7129995226860046, 0.8696378469467163, 0.7623651027679443, 0.8525010347366333, 0.8528032898902893, 0.8695995807647705, 0.29832327365875244, 0.3409408926963806, 0.29832327365875244, 0.18049995601177216, 0.18049995601177216, 0.6016665101051331, 0.869199812412262, 0.08131859451532364, 0.04065929725766182, 0.4472523033618927, 0.20329649746418, 0.2439557909965515, 0.18132029473781586, 0.24176038801670074, 0.060440097004175186, 0.4835207760334015, 0.6612094640731812, 0.1653023660182953, 0.7602578997612, 0.1902107447385788, 0.7608429789543152, 0.7584182024002075, 0.5043285489082336, 0.14409387111663818, 0.28818774223327637, 0.861014723777771, 0.7604370713233948, 0.43939730525016785, 0.30757811665534973, 0.21969865262508392, 0.7652700543403625, 0.12754501402378082, 0.946466863155365, 0.9143380522727966, 0.8196219801902771, 0.16392439603805542, 0.8436301946640015, 0.10545377433300018, 0.6872925162315369, 0.22909751534461975, 0.2722885310649872, 0.10891541838645935, 0.5990347862243652, 0.3362846374511719, 0.06725692749023438, 0.4707984924316406, 0.13451385498046875, 0.8218623995780945, 0.16437247395515442, 0.37999477982521057, 0.6333246827125549, 0.9668275713920593, 0.5755531191825867, 0.28777655959129333, 0.09592552483081818, 0.6568684577941895, 0.14075753092765808, 0.18767669796943665, 0.2646833658218384, 0.2911517024040222, 0.44996172189712524, 0.9283925890922546, 0.7719643712043762, 0.3274279832839966, 0.4911419749259949, 0.08185699582099915, 0.7601557970046997, 0.06684267520904541, 0.6015840768814087, 0.33421337604522705, 0.11405239254236221, 0.22810478508472443, 0.6843143105506897, 0.7646198868751526, 0.12743665277957916, 0.5142160654067993, 0.057135116308927536, 0.39994582533836365, 0.057135116308927536, 0.7996249794960022, 0.114232137799263, 0.9283326864242554, 0.331195592880249, 0.12043476849794388, 0.3010869026184082, 0.06021738424897194, 0.18065214157104492, 0.22954101860523224, 0.26233258843421936, 0.09837471693754196, 0.26233258843421936, 0.1639578640460968, 0.9283071160316467, 0.21005864441394806, 0.5776612758636475, 0.052514661103487015, 0.15754398703575134, 0.10843305289745331, 0.43373221158981323, 0.4879487156867981, 0.6798622012138367, 0.2146933227777481, 0.08945555239915848, 0.017891110852360725, 0.03377484902739525, 0.4390730559825897, 0.4390730559825897, 0.0675496980547905, 0.19056148827075958, 0.7622459530830383, 0.31297194957733154, 0.31297194957733154, 0.3698759377002716, 0.8515329360961914, 0.8295564651489258, 0.8573068380355835, 0.6612390875816345, 0.16530977189540863, 0.25347164273262024, 0.12673582136631012, 0.6336790919303894, 0.4247662425041199, 0.03267432749271393, 0.2613946199417114, 0.29406893253326416, 0.762243390083313, 0.09517787396907806, 0.1427668184041977, 0.2855336368083954, 0.1427668184041977, 0.333122581243515, 0.9079097509384155, 0.892841100692749, 0.06377436220645905, 0.6386232972145081, 0.12772466242313385, 0.12772466242313385, 0.7047923803329468, 0.25171157717704773, 0.5096039772033691, 0.12740099430084229, 0.19110147655010223, 0.19110147655010223, 0.7352869510650635, 0.21008197963237762, 0.0632702112197876, 0.0949053168296814, 0.7276074290275574, 0.1265404224395752, 0.765633761882782, 0.09762580692768097, 0.5076541900634766, 0.19525161385536194, 0.09762580692768097, 0.09762580692768097, 0.908902645111084], \"Term\": [\"#\", \"#\", \"%\", \"%\", \"%\", \"abc\", \"abe\", \"acting\", \"ad\", \"adam\", \"adam\", \"administration\", \"administration\", \"administration\", \"administration\", \"administration\", \"air\", \"ambassador\", \"america\", \"america\", \"america\", \"america\", \"american\", \"american\", \"american\", \"americans\", \"americans\", \"americans\", \"americans\", \"amp\", \"amp\", \"amp\", \"amp\", \"amp\", \"anthem\", \"approval\", \"approval\", \"arabia\", \"attack\", \"attack\", \"bad\", \"bad\", \"bad\", \"bad\", \"bad\", \"beautiful\", \"beautiful\", \"bernie\", \"best\", \"biden\", \"big\", \"big\", \"big\", \"big\", \"big\", \"billion\", \"billion\", \"border\", \"border\", \"border\", \"border\", \"borders\", \"brennan\", \"budget\", \"business\", \"business\", \"business\", \"california\", \"california\", \"california\", \"camp\", \"campaign\", \"campaign\", \"campaign\", \"car\", \"case\", \"case\", \"champion\", \"chance\", \"china\", \"china\", \"china\", \"china\", \"christopher\", \"chuck\", \"circuit\", \"cities\", \"clear\", \"clinton\", \"clinton\", \"collusion\", \"collusion\", \"collusion\", \"congratulation\", \"congratulation\", \"constitution\", \"corruption\", \"corruption\", \"country\", \"country\", \"country\", \"country\", \"country\", \"courage\", \"course\", \"credit\", \"crime\", \"crime\", \"crime\", \"cruz\", \"cryin\", \"date\", \"david\", \"day\", \"day\", \"day\", \"deal\", \"deal\", \"deal\", \"deal\", \"decade\", \"democrat\", \"democrat\", \"democrat\", \"democrat\", \"democrats\", \"democrats\", \"democrats\", \"democrats\", \"democrats\", \"disastrous\", \"disgusting\", \"dollar\", \"dollar\", \"dollar\", \"dollar\", \"dollar\", \"donald\", \"donald\", \"drug\", \"drug\", \"drug\", \"earth\", \"easily\", \"easy\", \"economy\", \"economy\", \"economy\", \"election\", \"election\", \"election\", \"election\", \"elizabeth\", \"elizabeth\", \"enforcement\", \"enforcement\", \"expensive\", \"face\", \"fairly\", \"fake\", \"fake\", \"fake\", \"fake\", \"family\", \"family\", \"family\", \"family\", \"far\", \"far\", \"far\", \"far\", \"fbi\", \"fbi\", \"fbi\", \"fbi\", \"federal\", \"federal\", \"federal\", \"federal\", \"federal\", \"finally\", \"flag\", \"flynn\", \"fox\", \"freedom\", \"friend\", \"friend\", \"future\", \"future\", \"game\", \"game\", \"general\", \"general\", \"good\", \"good\", \"good\", \"good\", \"governor\", \"governor\", \"governor\", \"governor\", \"great\", \"great\", \"great\", \"great\", \"great\", \"guard\", \"hand\", \"hard\", \"hard\", \"hard\", \"high\", \"high\", \"high\", \"high\", \"hillary\", \"hillary\", \"hillary\", \"hillary\", \"history\", \"history\", \"history\", \"history\", \"hoax\", \"hoax\", \"hoax\", \"hopefully\", \"hour\", \"house\", \"house\", \"house\", \"house\", \"house\", \"hunt\", \"hunt\", \"hunt\", \"ice\", \"immigration\", \"immigration\", \"important\", \"important\", \"interview\", \"iran\", \"iran\", \"israel\", \"israel\", \"jail\", \"japan\", \"job\", \"job\", \"job\", \"job\", \"job\", \"joe\", \"john\", \"john\", \"john\", \"john\", \"journal\", \"kavanaugh\", \"kavanaugh\", \"kentucky\", \"korea\", \"lady\", \"lamestream\", \"large\", \"large\", \"later\", \"law\", \"law\", \"law\", \"law\", \"leader\", \"leader\", \"leader\", \"left\", \"left\", \"left\", \"lincoln\", \"live\", \"long\", \"long\", \"long\", \"louisiana\", \"luther\", \"man\", \"man\", \"media\", \"media\", \"media\", \"media\", \"media\", \"medium\", \"medium\", \"medium\", \"medium\", \"member\", \"michael\", \"michael\", \"minister\", \"missile\", \"mistake\", \"money\", \"money\", \"money\", \"mueller\", \"mueller\", \"mueller\", \"mueller\", \"nafta\", \"national\", \"national\", \"national\", \"nbc\", \"need\", \"negative\", \"new\", \"new\", \"new\", \"new\", \"new\", \"news\", \"news\", \"news\", \"night\", \"night\", \"night\", \"north\", \"north\", \"north\", \"north\", \"number\", \"number\", \"number\", \"number\", \"number\", \"obama\", \"obama\", \"obama\", \"official\", \"official\", \"ohr\", \"open\", \"opinion\", \"opponent\", \"oval\", \"p.m.\", \"p.m.\", \"part\", \"party\", \"party\", \"party\", \"past\", \"patriot\", \"patrol\", \"payment\", \"peace\", \"pennsylvania\", \"pennsylvania\", \"pennsylvania\", \"people\", \"people\", \"people\", \"people\", \"point\", \"point\", \"point\", \"politically\", \"poll\", \"poll\", \"poll\", \"polling\", \"post\", \"post\", \"prayer\", \"prayer\", \"prayer\", \"presidency\", \"presidency\", \"president\", \"president\", \"president\", \"president\", \"president\", \"presidential\", \"presidential\", \"presidential\", \"previous\", \"price\", \"prime\", \"prior\", \"private\", \"process\", \"process\", \"program\", \"progress\", \"project\", \"proud\", \"public\", \"radical\", \"radical\", \"radical\", \"rate\", \"rate\", \"rate\", \"repeal\", \"republican\", \"republican\", \"republican\", \"republican\", \"republican\", \"republicans\", \"republicans\", \"republicans\", \"republicans\", \"respect\", \"respect\", \"responders\", \"result\", \"result\", \"review\", \"right\", \"right\", \"right\", \"ron\", \"run\", \"russia\", \"russia\", \"russia\", \"sanders\", \"sanders\", \"saudi\", \"scale\", \"school\", \"school\", \"schumer\", \"schumer\", \"secretary\", \"secretary\", \"security\", \"security\", \"security\", \"senate\", \"senate\", \"senate\", \"senate\", \"sleepy\", \"sleepy\", \"small\", \"small\", \"southern\", \"special\", \"special\", \"special\", \"state\", \"state\", \"state\", \"states\", \"states\", \"states\", \"strzok\", \"summit\", \"system\", \"system\", \"system\", \"tariff\", \"tariffs\", \"tariffs\", \"tariffs\", \"taxis\", \"taxis\", \"taxis\", \"texas\", \"texas\", \"thing\", \"thing\", \"thing\", \"thing\", \"thought\", \"thought\", \"thrilled\", \"time\", \"time\", \"time\", \"time\", \"time\", \"today\", \"today\", \"today\", \"today\", \"today\", \"tomorrow\", \"tonight\", \"tonight\", \"tonight\", \"tonight\", \"trade\", \"trade\", \"trade\", \"trump\", \"trump\", \"trump\", \"trump\", \"u.s.\", \"u.s.\", \"u.s.\", \"u.s.\", \"unfair\", \"unfair\", \"united\", \"united\", \"united\", \"usa\", \"veteran\", \"victim\", \"virginia\", \"virginia\", \"virus\", \"virus\", \"virus\", \"wall\", \"wall\", \"wall\", \"wall\", \"warm\", \"way\", \"way\", \"way\", \"way\", \"way\", \"well\", \"white\", \"white\", \"win\", \"win\", \"win\", \"witch\", \"witch\", \"wonderful\", \"wonderful\", \"wonderful\", \"wonderful\", \"worker\", \"worker\", \"world\", \"world\", \"world\", \"world\", \"wrong\", \"year\", \"year\", \"year\", \"year\", \"year\", \"young\"]}, \"R\": 30, \"lambda.step\": 0.01, \"plot.opts\": {\"xlab\": \"PC1\", \"ylab\": \"PC2\"}, \"topic.order\": [5, 2, 4, 3, 1]};\n",
       "\n",
       "function LDAvis_load_lib(url, callback){\n",
       "  var s = document.createElement('script');\n",
       "  s.src = url;\n",
       "  s.async = true;\n",
       "  s.onreadystatechange = s.onload = callback;\n",
       "  s.onerror = function(){console.warn(\"failed to load library \" + url);};\n",
       "  document.getElementsByTagName(\"head\")[0].appendChild(s);\n",
       "}\n",
       "\n",
       "if(typeof(LDAvis) !== \"undefined\"){\n",
       "   // already loaded: just create the visualization\n",
       "   !function(LDAvis){\n",
       "       new LDAvis(\"#\" + \"ldavis_el473321403226227541289451374601\", ldavis_el473321403226227541289451374601_data);\n",
       "   }(LDAvis);\n",
       "}else if(typeof define === \"function\" && define.amd){\n",
       "   // require.js is available: use it to load d3/LDAvis\n",
       "   require.config({paths: {d3: \"https://cdnjs.cloudflare.com/ajax/libs/d3/3.5.5/d3.min\"}});\n",
       "   require([\"d3\"], function(d3){\n",
       "      window.d3 = d3;\n",
       "      LDAvis_load_lib(\"https://cdn.rawgit.com/bmabey/pyLDAvis/files/ldavis.v1.0.0.js\", function(){\n",
       "        new LDAvis(\"#\" + \"ldavis_el473321403226227541289451374601\", ldavis_el473321403226227541289451374601_data);\n",
       "      });\n",
       "    });\n",
       "}else{\n",
       "    // require.js not available: dynamically load d3 & LDAvis\n",
       "    LDAvis_load_lib(\"https://cdnjs.cloudflare.com/ajax/libs/d3/3.5.5/d3.min.js\", function(){\n",
       "         LDAvis_load_lib(\"https://cdn.rawgit.com/bmabey/pyLDAvis/files/ldavis.v1.0.0.js\", function(){\n",
       "                 new LDAvis(\"#\" + \"ldavis_el473321403226227541289451374601\", ldavis_el473321403226227541289451374601_data);\n",
       "            })\n",
       "         });\n",
       "}\n",
       "</script>"
      ],
      "text/plain": [
       "<IPython.core.display.HTML object>"
      ]
     },
     "execution_count": 88,
     "metadata": {},
     "output_type": "execute_result"
    }
   ],
   "source": [
    "lda_display = pyLDAvis.gensim.prepare(lda_model, real_corpus, dictionary)\n",
    "# Let's Visualize\n",
    "pyLDAvis.display(lda_display)"
   ]
  },
  {
   "cell_type": "code",
   "execution_count": 89,
   "metadata": {},
   "outputs": [],
   "source": [
    "lda_model_fake = LdaMulticore(fake_corpus, id2word=dictionary, num_topics= 5, workers = 4, passes=10)"
   ]
  },
  {
   "cell_type": "code",
   "execution_count": 90,
   "metadata": {},
   "outputs": [
    {
     "data": {
      "text/html": [
       "\n",
       "<link rel=\"stylesheet\" type=\"text/css\" href=\"https://cdn.rawgit.com/bmabey/pyLDAvis/files/ldavis.v1.0.0.css\">\n",
       "\n",
       "\n",
       "<div id=\"ldavis_el473321403256169100329721076102\"></div>\n",
       "<script type=\"text/javascript\">\n",
       "\n",
       "var ldavis_el473321403256169100329721076102_data = {\"mdsDat\": {\"x\": [-0.08251785340250074, -0.0776096900062017, -0.00953170151669423, -0.010196643628812186, 0.17985588855420867], \"y\": [0.09188360100883997, -0.1345022584790467, 0.08873554024080949, -0.03306218797417758, -0.013054694796425013], \"topics\": [1, 2, 3, 4, 5], \"cluster\": [1, 1, 1, 1, 1], \"Freq\": [24.882659912109375, 20.152462005615234, 19.587291717529297, 19.302234649658203, 16.075353622436523]}, \"tinfo\": {\"Term\": [\"wall\", \"president\", \"hunt\", \"witch\", \"north\", \"fbi\", \"democrats\", \"house\", \"world\", \"white\", \"america\", \"radical\", \"election\", \"russia\", \"korea\", \"fake\", \"family\", \"senator\", \"republican\", \"russian\", \"deal\", \"states\", \"carolina\", \"time\", \"left\", \"obama\", \"united\", \"american\", \"wonderful\", \"collusion\", \"worker\", \"end\", \"unemployment\", \"union\", \"safety\", \"endorsement\", \"mexico\", \"scale\", \"inflation\", \"leadership\", \"relationship\", \"question\", \"world\", \"part\", \"human\", \"properly\", \"african\", \"israel\", \"patriot\", \"private\", \"negative\", \"reserve\", \"european\", \"corrupt\", \"america\", \"pleased\", \"free\", \"war\", \"rate\", \"order\", \"american\", \"drug\", \"low\", \"biden\", \"state\", \"china\", \"price\", \"large\", \"strong\", \"united\", \"president\", \"states\", \"new\", \"joe\", \"congratulation\", \"big\", \"good\", \"campaign\", \"obama\", \"amp\", \"leader\", \"great\", \"people\", \"crime\", \"job\", \"year\", \"way\", \"economy\", \"trump\", \"white\", \"brennan\", \"interview\", \"bernie\", \"senator\", \"single\", \"washington\", \"god\", \"insurance\", \"medal\", \"email\", \"press\", \"podesta\", \"clapper\", \"#\", \"non\", \"camp\", \"mistake\", \"gop\", \"soldier\", \"hurricane\", \"taxis\", \"late\", \"loss\", \"coronavirus\", \"win\", \"disastrous\", \"impact\", \"completely\", \"trump2016\", \"house\", \"republican\", \"air\", \"work\", \"victory\", \"force\", \"night\", \"today\", \"military\", \"fantastic\", \"thought\", \"bill\", \"election\", \"people\", \"great\", \"senate\", \"country\", \"economic\", \"amp\", \"big\", \"history\", \"money\", \"party\", \"border\", \"democrats\", \"state\", \"high\", \"-\", \"good\", \"year\", \"trump\", \"national\", \"wall\", \"police\", \"recently\", \"condolence\", \"especially\", \"cut\", \"officer\", \"respected\", \"lawyer\", \"shooting\", \"industry\", \"congresswoman\", \"fire\", \"relief\", \"sunday\", \"journal\", \"homeland\", \"virus\", \"energy\", \"risk\", \"wonderful\", \"school\", \"death\", \"violence\", \"pittsburgh\", \"prosecutor\", \"credit\", \"bias\", \"opinion\", \"kelly\", \"family\", \"southern\", \"georgia\", \"ridiculous\", \"tax\", \"nbc\", \"power\", \"crazy\", \"fake\", \"dems\", \"amp\", \"border\", \"news\", \"tariffs\", \"immigration\", \"street\", \"nancy\", \"law\", \"pelosi\", \"security\", \"u.s.\", \"country\", \"great\", \"trump\", \"poll\", \"time\", \"new\", \"people\", \"media\", \"states\", \"democrats\", \"%\", \"biden\", \"counsel\", \"japan\", \"rating\", \"p.m.\", \"decade\", \"abe\", \"proud\", \"arizona\", \"nuclear\", \"biased\", \"disgrace\", \"acting\", \"favorite\", \"man\", \"conflict\", \"angry\", \"past\", \"tom\", \"lady\", \"ad\", \"perfect\", \"hate\", \"tariff\", \"message\", \"circuit\", \"service\", \"advocate\", \"special\", \"pathetic\", \"putin\", \"nato\", \"forward\", \"minister\", \"prime\", \"deal\", \"idea\", \"possible\", \"terrorist\", \"healthcare\", \"mail\", \"point\", \"clinton\", \"democrats\", \"hard\", \"time\", \"radical\", \"president\", \"general\", \"hillary\", \"election\", \"crooked\", \"left\", \"republicans\", \"obama\", \"media\", \"year\", \"country\", \"fake\", \"news\", \"great\", \"people\", \"job\", \"united\", \"bad\", \"amp\", \"states\", \"border\", \"trump\", \"party\", \"north\", \"hunt\", \"russian\", \"korea\", \"carolina\", \"witch\", \"kavanaugh\", \"times\", \"guard\", \"obstruction\", \"peter\", \"ohr\", \"missile\", \"lover\", \"strzok\", \"kim\", \"jong\", \"confidence\", \"wrong\", \"investigation\", \"brett\", \"portland\", \"wife\", \"development\", \"mccabe\", \"public\", \"dumb\", \"credibility\", \"lisa\", \"department\", \"fbi\", \"primary\", \"twitter\", \"comey\", \"collusion\", \"robert\", \"russia\", \"story\", \"justice\", \"phony\", \"report\", \"radical\", \"mueller\", \"national\", \"left\", \"trump\", \"year\", \"fact\", \"congress\", \"problem\", \"amp\", \"great\", \"democrats\", \"james\", \"day\", \"good\", \"new\", \"people\"], \"Freq\": [30.0, 75.0, 19.0, 20.0, 18.0, 25.0, 80.0, 32.0, 31.0, 15.0, 35.0, 23.0, 25.0, 22.0, 11.0, 46.0, 19.0, 15.0, 24.0, 10.0, 22.0, 37.0, 10.0, 33.0, 21.0, 24.0, 34.0, 35.0, 15.0, 15.0, 8.941373825073242, 4.5655598640441895, 4.5592851638793945, 4.551943778991699, 6.035212516784668, 4.509718418121338, 10.522038459777832, 3.6880064010620117, 3.6652283668518066, 3.664646863937378, 3.6279473304748535, 7.193856716156006, 25.283178329467773, 2.809847831726074, 2.809805154800415, 2.809757947921753, 3.5009958744049072, 10.478374481201172, 2.7943944931030273, 2.7920029163360596, 2.788755416870117, 2.7839548587799072, 2.7439968585968018, 14.369234085083008, 27.680591583251953, 5.380167484283447, 4.038742542266846, 5.356652736663818, 12.643109321594238, 9.879738807678223, 24.368911743164062, 7.080179214477539, 12.207005500793457, 17.03174591064453, 24.803794860839844, 17.504886627197266, 4.568413734436035, 7.774317741394043, 8.15351390838623, 19.373241424560547, 36.116661071777344, 20.09613609313965, 20.850027084350586, 11.544229507446289, 7.9975433349609375, 20.107973098754883, 18.324195861816406, 11.127198219299316, 12.520486831665039, 36.190738677978516, 8.63071060180664, 37.161827087402344, 28.82158660888672, 10.132818222045898, 13.086467742919922, 14.915471076965332, 10.094850540161133, 10.214566230773926, 11.514965057373047, 14.721959114074707, 5.318294048309326, 5.306677341461182, 5.235904216766357, 13.392230033874512, 4.444954872131348, 9.415998458862305, 3.6190037727355957, 3.6108953952789307, 3.6085660457611084, 3.608187198638916, 3.5875229835510254, 3.54687762260437, 3.539072275161743, 9.660017967224121, 2.757451295852661, 2.757408380508423, 2.75016713142395, 2.7388558387756348, 2.7284188270568848, 2.7041220664978027, 6.731286525726318, 5.32200813293457, 2.5918140411376953, 5.78133487701416, 5.752353668212891, 1.895668625831604, 1.8956619501113892, 1.8956605195999146, 1.8956446647644043, 23.57089614868164, 17.1026668548584, 2.515364170074463, 6.130528450012207, 7.324936866760254, 4.8867106437683105, 13.63846206665039, 16.288494110107422, 8.417473793029785, 4.800753593444824, 5.676377773284912, 7.375856876373291, 12.36955451965332, 31.820463180541992, 42.40180969238281, 8.234679222106934, 18.775541305541992, 5.145472526550293, 26.385725021362305, 13.267037391662598, 9.919922828674316, 7.5759687423706055, 8.022270202636719, 9.500908851623535, 11.842460632324219, 8.951912879943848, 7.450905799865723, 6.550837993621826, 8.529580116271973, 8.951022148132324, 8.590571403503418, 6.587331295013428, 29.769317626953125, 5.44965124130249, 5.39415168762207, 5.376958847045898, 4.514606952667236, 3.6788089275360107, 3.6761090755462646, 3.669847249984741, 7.812458038330078, 2.817659616470337, 2.8169193267822266, 2.812234878540039, 2.812246799468994, 2.8075480461120605, 2.8077073097229004, 2.8063955307006836, 2.805863857269287, 6.262071132659912, 9.692403793334961, 2.748227119445801, 12.036938667297363, 4.538529872894287, 1.9370828866958618, 1.936739444732666, 1.9347561597824097, 1.9333500862121582, 1.9330135583877563, 1.924846887588501, 1.9246543645858765, 1.9185662269592285, 13.118243217468262, 7.93125581741333, 3.7018990516662598, 3.677013635635376, 10.652003288269043, 4.6823859214782715, 5.707515239715576, 8.607458114624023, 20.193710327148438, 8.714332580566406, 39.15441131591797, 16.63035011291504, 18.421470642089844, 7.980648040771484, 6.454161643981934, 4.537045001983643, 7.50726842880249, 10.611997604370117, 7.431602478027344, 8.381455421447754, 11.26943302154541, 15.793676376342773, 23.60235595703125, 14.468964576721191, 7.027034282684326, 9.13830280303955, 9.458724975585938, 11.874253273010254, 7.495689868927002, 8.085436820983887, 7.887039661407471, 6.76129674911499, 6.920570373535156, 6.174167156219482, 5.3214006423950195, 4.491119861602783, 5.914697170257568, 3.608250617980957, 2.76828932762146, 2.765913963317871, 2.758582592010498, 2.7490317821502686, 2.747361183166504, 2.742765188217163, 3.4195241928100586, 3.3657076358795166, 8.073426246643066, 3.360891342163086, 6.640110492706299, 2.5829150676727295, 4.493453502655029, 1.9031578302383423, 1.9030882120132446, 1.902938961982727, 1.9028875827789307, 1.9015165567398071, 1.8999956846237183, 1.8997516632080078, 1.8989362716674805, 1.89777672290802, 7.59598970413208, 1.8967564105987549, 1.8960527181625366, 4.395598888397217, 6.171341896057129, 5.3628973960876465, 5.882559299468994, 14.317570686340332, 3.6353142261505127, 3.6316158771514893, 3.6365489959716797, 5.8255486488342285, 3.614000082015991, 8.352035522460938, 10.132753372192383, 41.31040954589844, 8.666102409362793, 16.909669876098633, 12.5292329788208, 30.99974822998047, 8.545382499694824, 9.819748878479004, 11.945845603942871, 7.334376335144043, 10.489951133728027, 8.373486518859863, 10.650103569030762, 10.582451820373535, 16.21416473388672, 16.711557388305664, 14.180108070373535, 14.262223243713379, 25.239809036254883, 15.083373069763184, 9.944093704223633, 10.003494262695312, 8.88389778137207, 12.998516082763672, 9.071672439575195, 9.155760765075684, 9.024253845214844, 7.655238628387451, 17.139406204223633, 17.94647789001465, 9.728506088256836, 10.51897144317627, 9.499268531799316, 18.188488006591797, 7.044057369232178, 5.411962509155273, 4.550608158111572, 4.542221546173096, 4.529943943023682, 4.516392707824707, 4.486039638519287, 5.208390712738037, 3.662881851196289, 3.6603426933288574, 3.660320281982422, 3.6497626304626465, 4.364609241485596, 5.782337665557861, 3.5705275535583496, 4.249854564666748, 2.8002891540527344, 2.800166130065918, 2.7949652671813965, 2.794943332672119, 2.792965888977051, 2.7928507328033447, 2.7596254348754883, 5.34122371673584, 18.84248161315918, 5.197469711303711, 5.745366096496582, 9.19450855255127, 10.111274719238281, 5.035271644592285, 12.911212921142578, 8.873814582824707, 8.772214889526367, 8.343988418579102, 6.45803165435791, 9.9147310256958, 7.628056526184082, 9.316612243652344, 8.781730651855469, 12.301897048950195, 11.101310729980469, 7.507230758666992, 7.148005485534668, 5.925079345703125, 11.974041938781738, 11.817487716674805, 10.098285675048828, 6.022828102111816, 7.006979465484619, 6.9415364265441895, 6.634509563446045, 6.420614719390869], \"Total\": [30.0, 75.0, 19.0, 20.0, 18.0, 25.0, 80.0, 32.0, 31.0, 15.0, 35.0, 23.0, 25.0, 22.0, 11.0, 46.0, 19.0, 15.0, 24.0, 10.0, 22.0, 37.0, 10.0, 33.0, 21.0, 24.0, 34.0, 35.0, 15.0, 15.0, 9.65356159210205, 5.262729644775391, 5.26273250579834, 5.262674331665039, 7.018049716949463, 5.261612415313721, 12.282367706298828, 4.38460111618042, 4.384649276733398, 4.3843464851379395, 4.3840556144714355, 8.772104263305664, 31.5180721282959, 3.50643253326416, 3.5064196586608887, 3.506408929824829, 4.381881237030029, 13.132550239562988, 3.5064287185668945, 3.506096124649048, 3.5059969425201416, 3.506484270095825, 3.505291223526001, 18.410358428955078, 35.978126525878906, 7.004952430725098, 5.260780334472656, 7.001132965087891, 16.651195526123047, 13.117887496948242, 35.86701202392578, 9.658541679382324, 18.369354248046875, 27.225358963012695, 42.79139709472656, 28.89921760559082, 6.143117427825928, 11.412199974060059, 12.253708839416504, 34.98181915283203, 75.90215301513672, 37.64204406738281, 41.20090866088867, 19.31698989868164, 12.233366012573242, 42.713069915771484, 40.11723327636719, 20.082199096679688, 24.426544189453125, 126.70343017578125, 13.985294342041016, 140.22329711914062, 94.02029418945312, 19.202152252197266, 33.985633850097656, 51.359703063964844, 21.036598205566406, 23.554908752441406, 55.90065002441406, 15.523847579956055, 6.042995452880859, 6.043323516845703, 6.044313430786133, 15.544989585876465, 5.181228160858154, 11.232268333435059, 4.319102764129639, 4.319226264953613, 4.319282054901123, 4.3188395500183105, 4.319746017456055, 4.320120811462402, 4.320403575897217, 12.101654052734375, 3.4573323726654053, 3.4573237895965576, 3.4572887420654297, 3.4571995735168457, 3.4576826095581055, 3.458282947540283, 8.649740219116211, 6.920764446258545, 3.4598028659820557, 7.791265487670898, 7.784528732299805, 2.5955357551574707, 2.5955350399017334, 2.595534324645996, 2.5955283641815186, 32.902645111083984, 24.249841690063477, 3.4608938694000244, 8.635137557983398, 10.398933410644531, 6.911459445953369, 23.4267520904541, 30.402767181396484, 13.870878219604492, 6.930941104888916, 8.642505645751953, 12.129599571228027, 25.051279067993164, 94.02029418945312, 140.22329711914062, 14.73609447479248, 61.780033111572266, 7.7869157791137695, 126.70343017578125, 42.713069915771484, 27.82577133178711, 16.462547302246094, 19.933258056640625, 40.12065505981445, 80.81001281738281, 42.79139709472656, 21.816177368164062, 13.900443077087402, 40.11723327636719, 51.359703063964844, 55.90065002441406, 24.38276481628418, 30.806503295898438, 6.155336856842041, 6.154550075531006, 6.154667377471924, 5.2735514640808105, 4.3941192626953125, 4.394014358520508, 4.3936028480529785, 9.670681953430176, 3.5137808322906494, 3.51373553276062, 3.5136539936065674, 3.513676643371582, 3.5132298469543457, 3.513604164123535, 3.513530731201172, 3.5136969089508057, 7.913614273071289, 12.278287887573242, 3.5130302906036377, 15.809378623962402, 6.1496052742004395, 2.6331775188446045, 2.6331324577331543, 2.6330373287200928, 2.633165121078491, 2.6330811977386475, 2.632875919342041, 2.6328747272491455, 2.6323089599609375, 19.24654197692871, 11.407218933105469, 5.272050857543945, 5.258915901184082, 17.50538444519043, 7.025652885437012, 8.755499839782715, 14.002639770507812, 46.365474700927734, 16.621994018554688, 126.70343017578125, 40.12065505981445, 47.2153205871582, 14.92248249053955, 11.411615371704102, 7.030583381652832, 14.884620666503906, 25.29840660095215, 14.893726348876953, 18.372114181518555, 29.777109146118164, 61.780033111572266, 140.22329711914062, 55.90065002441406, 16.6688232421875, 33.042240142822266, 41.20090866088867, 94.02029418945312, 25.31171417236328, 37.64204406738281, 80.81001281738281, 19.27853775024414, 27.225358963012695, 6.928908348083496, 6.062773704528809, 5.197932243347168, 6.9320197105407715, 4.332962989807129, 3.467491388320923, 3.4674460887908936, 3.467604637145996, 3.4672489166259766, 3.467383623123169, 3.467153787612915, 4.335816383361816, 4.3355817794799805, 10.403304100036621, 4.331806182861328, 8.6791410446167, 3.470122814178467, 6.078003406524658, 2.602325916290283, 2.6023049354553223, 2.602306365966797, 2.6022896766662598, 2.6022794246673584, 2.6021738052368164, 2.6023354530334473, 2.602133274078369, 2.6022820472717285, 10.419466018676758, 2.6022531986236572, 2.6021182537078857, 6.077929973602295, 8.67888069152832, 7.78633975982666, 8.650169372558594, 22.61762237548828, 5.194184303283691, 5.194279193878174, 5.212953567504883, 8.67552375793457, 5.212817668914795, 13.031355857849121, 16.462692260742188, 80.81001281738281, 14.702834129333496, 33.042240142822266, 23.483734130859375, 75.90215301513672, 15.58575439453125, 19.05120849609375, 25.051279067993164, 13.010324478149414, 21.761852264404297, 16.473148345947266, 24.426544189453125, 25.31171417236328, 51.359703063964844, 61.780033111572266, 46.365474700927734, 47.2153205871582, 140.22329711914062, 94.02029418945312, 33.985633850097656, 34.98181915283203, 26.15971565246582, 126.70343017578125, 37.64204406738281, 40.12065505981445, 55.90065002441406, 19.933258056640625, 18.375144958496094, 19.24587631225586, 10.4981689453125, 11.372398376464844, 10.499385833740234, 20.113666534423828, 7.872110366821289, 6.122809410095215, 5.247864723205566, 5.247705936431885, 5.247649192810059, 5.247312545776367, 5.247020721435547, 6.1201395988464355, 4.372513294219971, 4.372476577758789, 4.372476100921631, 4.372467994689941, 5.248907089233398, 7.00092077255249, 4.372948169708252, 5.249427795410156, 3.49751877784729, 3.4975128173828125, 3.4975600242614746, 3.4975366592407227, 3.497361660003662, 3.4973232746124268, 3.4975805282592773, 7.001009941101074, 25.336692810058594, 7.001701354980469, 7.867160797119141, 13.951221466064453, 15.732406616210938, 7.001341819763184, 22.7557315826416, 14.877652168273926, 14.832298278808594, 17.445798873901367, 11.32004451751709, 23.483734130859375, 15.723146438598633, 24.38276481628418, 21.761852264404297, 55.90065002441406, 51.359703063964844, 19.29786491394043, 17.51973533630371, 11.350269317626953, 126.70343017578125, 140.22329711914062, 80.81001281738281, 12.170822143554688, 27.109792709350586, 40.11723327636719, 41.20090866088867, 94.02029418945312], \"Category\": [\"Default\", \"Default\", \"Default\", \"Default\", \"Default\", \"Default\", \"Default\", \"Default\", \"Default\", \"Default\", \"Default\", \"Default\", \"Default\", \"Default\", \"Default\", \"Default\", \"Default\", \"Default\", \"Default\", \"Default\", \"Default\", \"Default\", \"Default\", \"Default\", \"Default\", \"Default\", \"Default\", \"Default\", \"Default\", \"Default\", \"Topic1\", \"Topic1\", \"Topic1\", \"Topic1\", \"Topic1\", \"Topic1\", \"Topic1\", \"Topic1\", \"Topic1\", \"Topic1\", \"Topic1\", \"Topic1\", \"Topic1\", \"Topic1\", \"Topic1\", \"Topic1\", \"Topic1\", \"Topic1\", \"Topic1\", \"Topic1\", \"Topic1\", \"Topic1\", \"Topic1\", \"Topic1\", \"Topic1\", \"Topic1\", \"Topic1\", \"Topic1\", \"Topic1\", \"Topic1\", \"Topic1\", \"Topic1\", \"Topic1\", \"Topic1\", \"Topic1\", \"Topic1\", \"Topic1\", \"Topic1\", \"Topic1\", \"Topic1\", \"Topic1\", \"Topic1\", \"Topic1\", \"Topic1\", \"Topic1\", \"Topic1\", \"Topic1\", \"Topic1\", \"Topic1\", \"Topic1\", \"Topic1\", \"Topic1\", \"Topic1\", \"Topic1\", \"Topic1\", \"Topic1\", \"Topic1\", \"Topic1\", \"Topic1\", \"Topic2\", \"Topic2\", \"Topic2\", \"Topic2\", \"Topic2\", \"Topic2\", \"Topic2\", \"Topic2\", \"Topic2\", \"Topic2\", \"Topic2\", \"Topic2\", \"Topic2\", \"Topic2\", \"Topic2\", \"Topic2\", \"Topic2\", \"Topic2\", \"Topic2\", \"Topic2\", \"Topic2\", \"Topic2\", \"Topic2\", \"Topic2\", \"Topic2\", \"Topic2\", \"Topic2\", \"Topic2\", \"Topic2\", \"Topic2\", \"Topic2\", \"Topic2\", \"Topic2\", \"Topic2\", \"Topic2\", \"Topic2\", \"Topic2\", \"Topic2\", \"Topic2\", \"Topic2\", \"Topic2\", \"Topic2\", \"Topic2\", \"Topic2\", \"Topic2\", \"Topic2\", \"Topic2\", \"Topic2\", \"Topic2\", \"Topic2\", \"Topic2\", \"Topic2\", \"Topic2\", \"Topic2\", \"Topic2\", \"Topic2\", \"Topic2\", \"Topic2\", \"Topic2\", \"Topic2\", \"Topic2\", \"Topic2\", \"Topic3\", \"Topic3\", \"Topic3\", \"Topic3\", \"Topic3\", \"Topic3\", \"Topic3\", \"Topic3\", \"Topic3\", \"Topic3\", \"Topic3\", \"Topic3\", \"Topic3\", \"Topic3\", \"Topic3\", \"Topic3\", \"Topic3\", \"Topic3\", \"Topic3\", \"Topic3\", \"Topic3\", \"Topic3\", \"Topic3\", \"Topic3\", \"Topic3\", \"Topic3\", \"Topic3\", \"Topic3\", \"Topic3\", \"Topic3\", \"Topic3\", \"Topic3\", \"Topic3\", \"Topic3\", \"Topic3\", \"Topic3\", \"Topic3\", \"Topic3\", \"Topic3\", \"Topic3\", \"Topic3\", \"Topic3\", \"Topic3\", \"Topic3\", \"Topic3\", \"Topic3\", \"Topic3\", \"Topic3\", \"Topic3\", \"Topic3\", \"Topic3\", \"Topic3\", \"Topic3\", \"Topic3\", \"Topic3\", \"Topic3\", \"Topic3\", \"Topic3\", \"Topic3\", \"Topic3\", \"Topic3\", \"Topic3\", \"Topic3\", \"Topic4\", \"Topic4\", \"Topic4\", \"Topic4\", \"Topic4\", \"Topic4\", \"Topic4\", \"Topic4\", \"Topic4\", \"Topic4\", \"Topic4\", \"Topic4\", \"Topic4\", \"Topic4\", \"Topic4\", \"Topic4\", \"Topic4\", \"Topic4\", \"Topic4\", \"Topic4\", \"Topic4\", \"Topic4\", \"Topic4\", \"Topic4\", \"Topic4\", \"Topic4\", \"Topic4\", \"Topic4\", \"Topic4\", \"Topic4\", \"Topic4\", \"Topic4\", \"Topic4\", \"Topic4\", \"Topic4\", \"Topic4\", \"Topic4\", \"Topic4\", \"Topic4\", \"Topic4\", \"Topic4\", \"Topic4\", \"Topic4\", \"Topic4\", \"Topic4\", \"Topic4\", \"Topic4\", \"Topic4\", \"Topic4\", \"Topic4\", \"Topic4\", \"Topic4\", \"Topic4\", \"Topic4\", \"Topic4\", \"Topic4\", \"Topic4\", \"Topic4\", \"Topic4\", \"Topic4\", \"Topic4\", \"Topic4\", \"Topic4\", \"Topic4\", \"Topic4\", \"Topic4\", \"Topic4\", \"Topic4\", \"Topic4\", \"Topic5\", \"Topic5\", \"Topic5\", \"Topic5\", \"Topic5\", \"Topic5\", \"Topic5\", \"Topic5\", \"Topic5\", \"Topic5\", \"Topic5\", \"Topic5\", \"Topic5\", \"Topic5\", \"Topic5\", \"Topic5\", \"Topic5\", \"Topic5\", \"Topic5\", \"Topic5\", \"Topic5\", \"Topic5\", \"Topic5\", \"Topic5\", \"Topic5\", \"Topic5\", \"Topic5\", \"Topic5\", \"Topic5\", \"Topic5\", \"Topic5\", \"Topic5\", \"Topic5\", \"Topic5\", \"Topic5\", \"Topic5\", \"Topic5\", \"Topic5\", \"Topic5\", \"Topic5\", \"Topic5\", \"Topic5\", \"Topic5\", \"Topic5\", \"Topic5\", \"Topic5\", \"Topic5\", \"Topic5\", \"Topic5\", \"Topic5\", \"Topic5\", \"Topic5\", \"Topic5\", \"Topic5\", \"Topic5\", \"Topic5\", \"Topic5\", \"Topic5\"], \"logprob\": [30.0, 29.0, 28.0, 27.0, 26.0, 25.0, 24.0, 23.0, 22.0, 21.0, 20.0, 19.0, 18.0, 17.0, 16.0, 15.0, 14.0, 13.0, 12.0, 11.0, 10.0, 9.0, 8.0, 7.0, 6.0, 5.0, 4.0, 3.0, 2.0, 1.0, -5.246799945831299, -5.919000148773193, -5.920300006866455, -5.921899795532227, -5.639900207519531, -5.931300163269043, -5.084000110626221, -6.132400035858154, -6.138599872589111, -6.138800144195557, -6.148799896240234, -5.464300155639648, -4.207399845123291, -6.404399871826172, -6.404399871826172, -6.404399871826172, -6.1844000816345215, -5.088200092315674, -6.409900188446045, -6.410699844360352, -6.411900043487549, -6.413599967956543, -6.428100109100342, -4.77239990234375, -4.116799831390381, -5.754799842834473, -6.041600227355957, -5.759200096130371, -4.900400161743164, -5.146999835968018, -4.244200229644775, -5.480199813842773, -4.935500144958496, -4.602399826049805, -4.226500034332275, -4.574999809265137, -5.918300151824951, -5.38670015335083, -5.339000225067139, -4.473599910736084, -3.8506999015808105, -4.436999797821045, -4.400100231170654, -4.991300106048584, -5.358399868011475, -4.436399936676025, -4.529300212860107, -5.02810001373291, -4.910099983215332, -3.8487000465393066, -5.282199859619141, -3.822200059890747, -4.076399803161621, -5.121699810028076, -4.865900039672852, -4.735099792480469, -5.125500202178955, -5.113699913024902, -4.993800163269043, -4.537300109863281, -5.555500030517578, -5.557700157165527, -5.571100234985352, -4.631999969482422, -5.734899997711182, -4.9842000007629395, -5.940499782562256, -5.942699909210205, -5.943299770355225, -5.943399906158447, -5.94920015335083, -5.960599899291992, -5.962800025939941, -4.958700180053711, -6.212299823760986, -6.212399959564209, -6.215000152587891, -6.219099998474121, -6.222899913787842, -6.231900215148926, -5.319900035858154, -5.554800033569336, -6.2743000984191895, -5.4720001220703125, -5.4770002365112305, -6.587100028991699, -6.587100028991699, -6.587100028991699, -6.587100028991699, -4.0665998458862305, -4.387400150299072, -6.304200172424316, -5.413400173187256, -5.235400199890137, -5.640100002288818, -4.613800048828125, -4.436200141906738, -5.09630012512207, -5.657899856567383, -5.490300178527832, -5.228400230407715, -4.711400032043457, -3.7664999961853027, -3.4795000553131104, -5.118299961090088, -4.294099807739258, -5.588500022888184, -3.9537999629974365, -4.64139986038208, -4.93209981918335, -5.201700210571289, -5.144400119781494, -4.975299835205078, -4.755000114440918, -5.034800052642822, -5.218299865722656, -5.347099781036377, -5.083099842071533, -5.034900188446045, -5.076000213623047, -5.3414998054504395, -3.8046998977661133, -5.502699851989746, -5.512899875640869, -5.51609992980957, -5.690899848937988, -5.895599842071533, -5.896399974822998, -5.898099899291992, -5.142499923706055, -6.162300109863281, -6.162600040435791, -6.1641998291015625, -6.1641998291015625, -6.165900230407715, -6.165800094604492, -6.166299819946289, -6.166500091552734, -5.363699913024902, -4.9268999099731445, -6.18720006942749, -4.71019983291626, -5.6855998039245605, -6.5370001792907715, -6.537199974060059, -6.5381999015808105, -6.539000034332275, -6.539100170135498, -6.543399810791016, -6.543499946594238, -6.546599864959717, -4.624199867248535, -5.127399921417236, -5.889400005340576, -5.896100044250488, -4.832499980926514, -5.654399871826172, -5.456399917602539, -5.045599937438965, -4.192800045013428, -5.033199787139893, -3.5306999683380127, -4.38700008392334, -4.2846999168396, -5.121200084686279, -5.333499908447266, -5.6859002113342285, -5.182300090789795, -4.83620023727417, -5.192500114440918, -5.072199821472168, -4.776100158691406, -4.438600063323975, -4.036900043487549, -4.526199817657471, -5.2484002113342285, -4.9857001304626465, -4.951300144195557, -4.723800182342529, -5.183899879455566, -5.108099937438965, -5.132999897003174, -5.2870001792907715, -5.263700008392334, -5.3632001876831055, -5.5117998123168945, -5.681399822235107, -5.406099796295166, -5.900300025939941, -6.165299892425537, -6.166200160980225, -6.168799877166748, -6.172299861907959, -6.172900199890137, -6.174600124359131, -5.953999996185303, -5.969900131225586, -5.09499979019165, -5.97130012512207, -5.29040002822876, -6.234600067138672, -5.6809000968933105, -6.539999961853027, -6.54010009765625, -6.54010009765625, -6.540200233459473, -6.540900230407715, -6.5416998863220215, -6.541800022125244, -6.542300224304199, -6.542900085449219, -5.155900001525879, -6.543399810791016, -6.543799877166748, -5.702899932861328, -5.36359977722168, -5.504000186920166, -5.411600112915039, -4.52209997177124, -5.8927998542785645, -5.893899917602539, -5.892499923706055, -5.421299934387207, -5.89870023727417, -5.060999870300293, -4.867800235748291, -3.462399959564209, -5.024099826812744, -4.3557000160217285, -4.6554999351501465, -3.7495999336242676, -5.0381999015808105, -4.899099826812744, -4.703199863433838, -5.190999984741211, -4.833099842071533, -5.058499813079834, -4.817999839782715, -4.8242998123168945, -4.39769983291626, -4.367400169372559, -4.531700134277344, -4.525899887084961, -3.9551000595092773, -4.46999979019165, -4.886600017547607, -4.8805999755859375, -4.999300003051758, -4.61870002746582, -4.978400230407715, -4.969200134277344, -4.98360013961792, -5.148200035095215, -4.159200191497803, -4.1132001876831055, -4.725599765777588, -4.64739990234375, -4.7494001388549805, -4.099800109863281, -5.048399925231934, -5.311999797821045, -5.485400199890137, -5.487199783325195, -5.4899001121521, -5.4928998947143555, -5.499599933624268, -5.350299835205078, -5.702400207519531, -5.703100204467773, -5.703100204467773, -5.705900192260742, -5.527100086212158, -5.245800018310547, -5.72790002822876, -5.553699970245361, -5.970900058746338, -5.970900058746338, -5.972799777984619, -5.972799777984619, -5.973499774932861, -5.973499774932861, -5.985499858856201, -5.325200080871582, -4.064499855041504, -5.352399826049805, -5.252200126647949, -4.7820000648498535, -4.686999797821045, -5.384099960327148, -4.442500114440918, -4.817500114440918, -4.828999996185303, -4.8790998458862305, -5.135300159454346, -4.706600189208984, -4.968800067901611, -4.768799781799316, -4.827899932861328, -4.490900039672852, -4.593500137329102, -4.9847002029418945, -5.03380012512207, -5.221399784088135, -4.517899990081787, -4.531000137329102, -4.688199996948242, -5.205100059509277, -5.053699970245361, -5.0630998611450195, -5.10830020904541, -5.14109992980957], \"loglift\": [30.0, 29.0, 28.0, 27.0, 26.0, 25.0, 24.0, 23.0, 22.0, 21.0, 20.0, 19.0, 18.0, 17.0, 16.0, 15.0, 14.0, 13.0, 12.0, 11.0, 10.0, 9.0, 8.0, 7.0, 6.0, 5.0, 4.0, 3.0, 2.0, 1.0, 1.3143999576568604, 1.248900055885315, 1.247499942779541, 1.24590003490448, 1.2401000261306763, 1.236799955368042, 1.236299991607666, 1.218000054359436, 1.2117999792099, 1.2116999626159668, 1.20169997215271, 1.1926000118255615, 1.1706000566482544, 1.1694999933242798, 1.1694999933242798, 1.1694999933242798, 1.166599988937378, 1.1651999950408936, 1.1640000343322754, 1.1633000373840332, 1.1620999574661255, 1.1603000164031982, 1.1461000442504883, 1.1432000398635864, 1.1288000345230103, 1.1270999908447266, 1.1267000436782837, 1.1232999563217163, 1.1155999898910522, 1.1074999570846558, 1.0045000314712524, 1.0805000066757202, 0.9822999835014343, 0.9218999743461609, 0.8457000255584717, 0.8896999955177307, 1.0947999954223633, 1.007099986076355, 0.9836000204086304, 0.8001000285148621, 0.6482999920845032, 0.7634000182151794, 0.7099000215530396, 0.8762000203132629, 0.9660000205039978, 0.6376000046730042, 0.6074000000953674, 0.800599992275238, 0.7226999998092651, 0.1379999965429306, 0.90829998254776, 0.06300000101327896, 0.2085999995470047, 0.751800000667572, 0.436599999666214, 0.15449999272823334, 0.6567999720573425, 0.5554999709129333, -0.18889999389648438, 1.548799991607666, 1.4740999937057495, 1.4718999862670898, 1.458299994468689, 1.4528000354766846, 1.4486000537872314, 1.4255000352859497, 1.4249999523162842, 1.422700047492981, 1.4220999479293823, 1.4220999479293823, 1.416100025177002, 1.4046000242233276, 1.402400016784668, 1.3765000104904175, 1.3756999969482422, 1.375599980354309, 1.3730000257492065, 1.368899941444397, 1.3650000095367432, 1.3558000326156616, 1.351099967956543, 1.3392000198364258, 1.312999963760376, 1.3035000562667847, 1.299299955368042, 1.287600040435791, 1.287600040435791, 1.287600040435791, 1.287600040435791, 1.2683000564575195, 1.2526999711990356, 1.2826999425888062, 1.2592999935150146, 1.2513999938964844, 1.2552000284194946, 1.0608999729156494, 0.9778000116348267, 1.1023999452590942, 1.2345999479293823, 1.18149995803833, 1.1044000387191772, 0.8962000012397766, 0.5184000134468079, 0.4058000147342682, 1.0198999643325806, 0.4108000099658966, 1.1875, 0.03280000016093254, 0.4325999915599823, 0.5703999996185303, 0.8256999850273132, 0.6916999816894531, 0.16130000352859497, -0.31859999895095825, 0.03739999979734421, 0.5274999737739563, 0.8495000004768372, 0.053599998354911804, -0.1451999992132187, -0.2711000144481659, 0.2930999994277954, 1.5959999561309814, 1.5084999799728394, 1.4983999729156494, 1.4952000379562378, 1.4749000072479248, 1.4526000022888184, 1.4519000053405762, 1.4502999782562256, 1.4169000387191772, 1.409500002861023, 1.4092999696731567, 1.4076000452041626, 1.4076000452041626, 1.4061000347137451, 1.406000018119812, 1.4055999517440796, 1.4053000211715698, 1.3961999416351318, 1.3938000202178955, 1.3847999572753906, 1.357699990272522, 1.3265000581741333, 1.3233000040054321, 1.323099970817566, 1.322100043296814, 1.3214000463485718, 1.3212000131607056, 1.3171000480651855, 1.3170000314712524, 1.3140000104904175, 1.246999979019165, 1.2668999433517456, 1.2767000198364258, 1.2725000381469727, 1.1334999799728394, 1.2244999408721924, 1.2023999691009521, 1.1437000036239624, 0.7990999817848206, 0.984499990940094, 0.4560000002384186, 0.7495999932289124, 0.6891000270843506, 1.0044000148773193, 1.0604000091552734, 1.1922999620437622, 0.9458000063896179, 0.7615000009536743, 0.9351000189781189, 0.8454999923706055, 0.6585999727249146, 0.2662999927997589, -0.15160000324249268, 0.27869999408721924, 0.7664999961853027, 0.3449999988079071, 0.15880000591278076, -0.43880000710487366, 0.41339999437332153, 0.09220000356435776, -0.6966000199317932, 0.5824999809265137, 0.2606000006198883, 1.5296000242233276, 1.5145000219345093, 1.4988000392913818, 1.486199975013733, 1.461899995803833, 1.419700026512146, 1.4189000129699707, 1.416200041770935, 1.4127999544143677, 1.4121999740600586, 1.410599946975708, 1.4075000286102295, 1.391700029373169, 1.3913999795913696, 1.3911999464035034, 1.3772000074386597, 1.3496999740600586, 1.342900037765503, 1.3321000337600708, 1.3320000171661377, 1.3320000171661377, 1.3319000005722046, 1.3312000036239624, 1.3305000066757202, 1.330299973487854, 1.3299000263214111, 1.329200029373169, 1.3288999795913696, 1.3286999464035034, 1.3284000158309937, 1.3208999633789062, 1.3040000200271606, 1.2720999717712402, 1.2594000101089478, 1.1877000331878662, 1.288100004196167, 1.2870999574661255, 1.2848000526428223, 1.2467000484466553, 1.2785999774932861, 1.2000999450683594, 1.159600019454956, 0.9739999771118164, 1.1162999868392944, 0.9750000238418579, 1.016700029373169, 0.7494999766349792, 1.0440000295639038, 0.982200026512146, 0.9043999910354614, 1.0717999935150146, 0.9151999950408936, 0.9682999849319458, 0.8148000240325928, 0.7728999853134155, 0.492000013589859, 0.3375000059604645, 0.4602000117301941, 0.44780001044273376, -0.06989999860525131, -0.1850000023841858, 0.41600000858306885, 0.39309999346733093, 0.5649999976158142, -0.632099986076355, 0.22200000286102295, 0.16740000247955322, -0.17870000004768372, 0.6880000233650208, 1.7582999467849731, 1.7580000162124634, 1.7517000436782837, 1.749899983406067, 1.7278000116348267, 1.7273000478744507, 1.7166999578475952, 1.7044999599456787, 1.6852999925613403, 1.683500051498413, 1.680799961090088, 1.677899956703186, 1.6712000370025635, 1.666599988937378, 1.6507999897003174, 1.6500999927520752, 1.6500999927520752, 1.6471999883651733, 1.643399953842163, 1.6366000175476074, 1.6252000331878662, 1.6166000366210938, 1.6055999994277954, 1.6054999828338623, 1.603600025177002, 1.603600025177002, 1.6030000448226929, 1.6029000282287598, 1.59089994430542, 1.5572999715805054, 1.5317000150680542, 1.5298999547958374, 1.5135999917984009, 1.4108999967575073, 1.3858000040054321, 1.4982000589370728, 1.261199951171875, 1.3111000061035156, 1.3027000427246094, 1.0902999639511108, 1.2666000127792358, 0.9656000137329102, 1.104599952697754, 0.8658000230789185, 0.9204000234603882, 0.3140999972820282, 0.296099990606308, 0.8838000297546387, 0.9314000010490417, 1.1778000593185425, -0.5311999917030334, -0.645799994468689, -0.25189998745918274, 1.124400019645691, 0.4749000072479248, 0.07360000163316727, 0.0017000000225380063, -0.8561000227928162]}, \"token.table\": {\"Topic\": [2, 5, 1, 3, 4, 5, 1, 2, 3, 4, 4, 4, 4, 4, 1, 2, 1, 2, 3, 4, 5, 1, 2, 3, 4, 1, 2, 3, 4, 5, 3, 4, 4, 1, 2, 3, 4, 5, 2, 3, 4, 1, 3, 5, 1, 2, 3, 4, 5, 2, 3, 4, 1, 2, 3, 4, 5, 2, 5, 2, 1, 2, 4, 5, 5, 1, 3, 4, 5, 4, 2, 2, 4, 5, 3, 4, 5, 1, 2, 5, 2, 3, 5, 4, 1, 2, 4, 5, 1, 3, 4, 5, 3, 2, 3, 1, 3, 4, 4, 1, 2, 3, 4, 5, 2, 3, 5, 5, 3, 1, 2, 3, 4, 5, 2, 4, 5, 3, 1, 2, 3, 4, 5, 1, 3, 4, 3, 4, 1, 2, 3, 4, 5, 1, 2, 3, 4, 5, 1, 5, 5, 2, 4, 1, 3, 5, 1, 2, 4, 1, 2, 3, 4, 5, 2, 4, 2, 1, 1, 2, 3, 3, 1, 1, 3, 5, 1, 3, 4, 5, 2, 3, 1, 2, 4, 3, 4, 5, 3, 2, 4, 4, 5, 1, 5, 2, 4, 5, 1, 3, 2, 1, 2, 4, 5, 2, 1, 2, 3, 4, 5, 5, 2, 4, 4, 2, 3, 4, 1, 2, 3, 5, 1, 2, 4, 5, 1, 2, 4, 5, 3, 1, 2, 3, 4, 1, 4, 5, 2, 2, 4, 3, 5, 2, 3, 1, 2, 2, 3, 5, 1, 2, 4, 2, 5, 4, 1, 2, 4, 5, 1, 3, 5, 5, 3, 1, 4, 5, 5, 3, 5, 5, 4, 1, 3, 5, 1, 2, 2, 3, 4, 5, 1, 3, 1, 4, 5, 1, 3, 4, 5, 5, 2, 5, 1, 2, 3, 4, 5, 3, 4, 1, 2, 4, 5, 2, 1, 3, 4, 5, 4, 1, 5, 2, 3, 4, 5, 2, 4, 5, 2, 1, 2, 4, 3, 4, 5, 1, 2, 3, 1, 2, 3, 4, 5, 3, 4, 3, 5, 1, 1, 2, 3, 4, 5, 1, 2, 3, 4, 5, 1, 2, 3, 4, 5, 2, 1, 5, 4, 1, 3, 4, 5, 3, 5, 3, 1, 2, 4, 1, 2, 3, 4, 5, 4, 4, 1, 1, 2, 3, 1, 2, 3, 4, 5, 4, 5, 2, 3, 4, 5, 3, 1, 4, 2, 3, 4, 5, 3, 1, 2, 3, 4, 5, 5, 2, 4, 2, 3, 5, 1, 2, 3, 4, 2, 1, 3, 1, 5, 2, 4, 1, 1, 3, 4, 5, 1, 3, 4, 5, 4, 1, 5, 3, 4, 5, 1, 3, 4, 4, 3, 1, 3, 2, 4, 5, 1, 2, 3, 5, 2, 3, 4, 1, 3, 3, 4, 3, 1, 5, 3, 4, 5, 5, 1, 1, 3, 5, 1, 3, 4, 5, 2, 3, 4, 1, 2, 4, 3, 2, 2, 1, 2, 3, 1, 4, 1, 2, 3, 4, 5, 1, 3, 4, 1, 2, 3, 5, 1, 3, 1, 2, 3, 5, 3, 4, 1, 3, 4, 5, 1, 2, 3, 1, 2, 3, 4, 2, 4, 5, 2, 3, 4, 5, 5, 1, 2, 3, 4, 5, 3, 4, 1, 2, 3, 4, 5, 2, 1, 2, 5, 1, 2, 3, 5, 1, 1, 1, 3, 4, 1, 2, 3, 3, 1, 3, 3, 1, 2, 1, 2, 1, 2, 3, 5, 2, 5, 2, 5, 4, 5, 1, 2, 3, 2, 4, 1, 1, 2, 3, 5, 1, 2, 4, 5], \"Freq\": [0.8263333439826965, 0.16526666283607483, 0.41496923565864563, 0.3630980849266052, 0.1556134670972824, 0.051871154457330704, 0.2877606153488159, 0.5035810470581055, 0.14388030767440796, 0.14388030767440796, 0.8651787638664246, 0.6919112205505371, 0.7685494422912598, 0.7685561776161194, 0.9128499627113342, 0.8668280839920044, 0.7782506346702576, 0.027794666588306427, 0.08338399976491928, 0.027794666588306427, 0.11117866635322571, 0.6691385507583618, 0.1115230917930603, 0.08364231884479523, 0.13940386474132538, 0.2841280698776245, 0.2052035927772522, 0.3078053891658783, 0.1026017963886261, 0.0947093516588211, 0.11521877348423004, 0.8065314292907715, 0.865150511264801, 0.305813729763031, 0.07645343244075775, 0.07645343244075775, 0.3440404236316681, 0.19113357365131378, 0.8272238373756409, 0.7596256136894226, 0.865205705165863, 0.6244178414344788, 0.2571132183074951, 0.11019138246774673, 0.46824073791503906, 0.30435648560523987, 0.046824075281620026, 0.09364815056324005, 0.07023610919713974, 0.5771006941795349, 0.16488590836524963, 0.16488590836524963, 0.09969926625490189, 0.2492481768131256, 0.42372190952301025, 0.2243233621120453, 0.02492481656372547, 0.8274042010307312, 0.9147146940231323, 0.8677231669425964, 0.5477488040924072, 0.04979534447193146, 0.29877206683158875, 0.09959068894386292, 0.8571929931640625, 0.6228542327880859, 0.13841205835342407, 0.20761807262897491, 0.03460301458835602, 0.7685404419898987, 0.9258394241333008, 0.18223021924495697, 0.6074340343475342, 0.12148681282997131, 0.12712612748146057, 0.19068919122219086, 0.6356306672096252, 0.07167831063270569, 0.21503493189811707, 0.6451048254966736, 0.77055424451828, 0.8123915791511536, 0.9148151874542236, 0.6925517320632935, 0.6539492011070251, 0.1634873002767563, 0.1634873002767563, 0.08174365013837814, 0.3424709141254425, 0.11415697634220123, 0.057078488171100616, 0.3995494246482849, 0.853812038898468, 0.7700931429862976, 0.12834885716438293, 0.7604414820671082, 0.10863449424505234, 0.10863449424505234, 0.8659372925758362, 0.14567813277244568, 0.30754274129867554, 0.2589833438396454, 0.27516981959342957, 0.016186458989977837, 0.21424531936645508, 0.6427359580993652, 0.14283020794391632, 0.8577988743782043, 0.7595664262771606, 0.5207749605178833, 0.10415498912334442, 0.05207749456167221, 0.26038748025894165, 0.10415498912334442, 0.1537240743637085, 0.5380342602729797, 0.23058609664440155, 0.9103075861930847, 0.2582092881202698, 0.11066111922264099, 0.2582092881202698, 0.1475481539964676, 0.2582092881202698, 0.2652798593044281, 0.0884266272187233, 0.6189863681793213, 0.7595385909080505, 0.9231558442115784, 0.12374704331159592, 0.14849644899368286, 0.09899763017892838, 0.5073628425598145, 0.12374704331159592, 0.06016125530004501, 0.18048375844955444, 0.5414512753486633, 0.12032251060009003, 0.12032251060009003, 0.1428365409374237, 0.7141826748847961, 0.8577523827552795, 0.7705538272857666, 0.865263044834137, 0.7247471213340759, 0.20707060396671295, 0.8577894568443298, 0.12842054665088654, 0.6421027183532715, 0.12842054665088654, 0.4245399534702301, 0.21226997673511505, 0.08490799367427826, 0.16981598734855652, 0.08490799367427826, 0.4790174663066864, 0.4790174663066864, 0.9261747002601624, 0.9500772953033447, 0.9502790570259094, 0.16288915276527405, 0.8144457936286926, 0.9481276869773865, 0.855849027633667, 0.36273443698883057, 0.2072768211364746, 0.4145536422729492, 0.15097440779209137, 0.43135544657707214, 0.30194881558418274, 0.08627109229564667, 0.2597869336605072, 0.6754460334777832, 0.2885611057281494, 0.7214027643203735, 0.691948652267456, 0.07893689721822739, 0.15787379443645477, 0.7499005794525146, 0.8538064956665039, 0.723436176776886, 0.1446872353553772, 0.6913334131240845, 0.23044446110725403, 0.7603434920310974, 0.19008587300777435, 0.32080578804016113, 0.5774503946304321, 0.1283223032951355, 0.18967950344085693, 0.7587180137634277, 0.9261182546615601, 0.4486849904060364, 0.2243424952030182, 0.14956165850162506, 0.1744886040687561, 0.867754340171814, 0.2638648450374603, 0.2995222806930542, 0.17115558683872223, 0.1782870590686798, 0.08557779341936111, 0.9527684450149536, 0.3400704860687256, 0.612126886844635, 0.7685539722442627, 0.115266814827919, 0.115266814827919, 0.6916009187698364, 0.3208627998828888, 0.3208627998828888, 0.2291877269744873, 0.04583754390478134, 0.05249010771512985, 0.3149406611919403, 0.5249010920524597, 0.1049802154302597, 0.32344117760658264, 0.3593790829181671, 0.17968954145908356, 0.14375163614749908, 0.8538016080856323, 0.12157077342271805, 0.7294246554374695, 0.09117808192968369, 0.060785386711359024, 0.8555735945701599, 0.05195918306708336, 0.935265302658081, 0.8674825429916382, 0.1925230175256729, 0.7700920701026917, 0.5257800817489624, 0.3505200445652008, 0.7705540060997009, 0.8537921905517578, 0.912273645401001, 0.9260917901992798, 0.8273593187332153, 0.14283835887908936, 0.8570301532745361, 0.7614667415618896, 0.0761466696858406, 0.0761466696858406, 0.41081857681274414, 0.49298229813575745, 0.8247050642967224, 0.3825145661830902, 0.14712098240852356, 0.2942419648170471, 0.176545187830925, 0.6212148070335388, 0.25883948802948, 0.1553037017583847, 0.9148134589195251, 0.8538419604301453, 0.13484087586402893, 0.26968175172805786, 0.606783926486969, 0.8892151713371277, 0.759789228439331, 0.9148133397102356, 0.9672542214393616, 0.7685432434082031, 0.7010042071342468, 0.1752510517835617, 0.08762552589178085, 0.1444927155971527, 0.7224635481834412, 0.237169086933136, 0.43480998277664185, 0.15811271965503693, 0.15811271965503693, 0.10340532660484314, 0.8272426128387451, 0.6435331106185913, 0.28601470589637756, 0.07150367647409439, 0.9123366475105286, 0.0919039398431778, 0.45951971411705017, 0.41356775164604187, 0.857735812664032, 0.8671014308929443, 0.8169748187065125, 0.6532619595527649, 0.10887698829174042, 0.05443849414587021, 0.16331548988819122, 0.05443849414587021, 0.19183483719825745, 0.7673393487930298, 0.09612330794334412, 0.09612330794334412, 0.7689864635467529, 0.8577408194541931, 0.9260798096656799, 0.11852219700813293, 0.2765517830848694, 0.4345813989639282, 0.15802960097789764, 0.7685881853103638, 0.8955928087234497, 0.0814175233244896, 0.5767478942871094, 0.14418697357177734, 0.07209348678588867, 0.14418697357177734, 0.2568601071834564, 0.6421502232551575, 0.7623373866081238, 0.8677319884300232, 0.1822318285703659, 0.4859515130519867, 0.303719699382782, 0.2544020116329193, 0.2544020116329193, 0.5088040232658386, 0.26873376965522766, 0.20155031979084015, 0.5374675393104553, 0.12303772568702698, 0.2870880365371704, 0.08202515542507172, 0.16405031085014343, 0.36911317706108093, 0.1645296961069107, 0.6581187844276428, 0.711677610874176, 0.28467103838920593, 0.8556767106056213, 0.5096974968910217, 0.07281392812728882, 0.21844178438186646, 0.02427130937576294, 0.16989916563034058, 0.19061610102653503, 0.0211795661598444, 0.38123220205307007, 0.2965139150619507, 0.0847182646393776, 0.08537248522043228, 0.5976073741912842, 0.12805873155593872, 0.04268624261021614, 0.17074497044086456, 0.8677210211753845, 0.05442133918404579, 0.9251627922058105, 0.8652393221855164, 0.5322079062461853, 0.04093907028436661, 0.4503297805786133, 0.9527972936630249, 0.910329282283783, 0.9528687000274658, 0.7596259713172913, 0.7623178362846375, 0.2286953628063202, 0.8655486106872559, 0.8555704355239868, 0.4013393223285675, 0.15050223469734192, 0.4013393223285675, 0.05016741529107094, 0.8645226955413818, 0.7685647010803223, 0.8555713891983032, 0.2685694694519043, 0.20142708718776703, 0.46999654173851013, 0.3084440529346466, 0.34035205841064453, 0.1276320219039917, 0.15954002737998962, 0.06381601095199585, 0.7685490250587463, 0.952807605266571, 0.17196117341518402, 0.17196117341518402, 0.17196117341518402, 0.4585631191730499, 0.759579062461853, 0.7137807011604309, 0.1427561491727829, 0.9259000420570374, 0.07673798501491547, 0.6139038801193237, 0.2302139550447464, 0.8123032450675964, 0.3599534332752228, 0.059992238879203796, 0.4199456572532654, 0.059992238879203796, 0.11998447775840759, 0.7619878053665161, 0.19251950085163116, 0.7700780034065247, 0.22842784225940704, 0.6852835416793823, 0.11421392112970352, 0.47429484128952026, 0.026349714025855064, 0.07904914021492004, 0.4084205627441406, 0.9259803891181946, 0.8139190077781677, 0.16278380155563354, 0.14282242953777313, 0.7141121625900269, 0.23120935261249542, 0.6936280131340027, 0.8556525111198425, 0.08810363709926605, 0.08810363709926605, 0.26431089639663696, 0.5286217927932739, 0.85557621717453, 0.7595421671867371, 0.8651900887489319, 0.8577465415000916, 0.768604576587677, 0.7979841232299805, 0.11399773508310318, 0.042582664638757706, 0.5535746812820435, 0.42582666873931885, 0.7807247042655945, 0.060055747628211975, 0.12011149525642395, 0.7695367932319641, 0.8124070763587952, 0.9123972058296204, 0.8539150953292847, 0.17667774856090546, 0.2650166153907776, 0.5300332307815552, 0.16494953632354736, 0.7010354995727539, 0.04123738408088684, 0.08247476816177368, 0.3035242557525635, 0.18211455643177032, 0.4856387972831726, 0.8555577993392944, 0.9104145765304565, 0.7606130242347717, 0.19015325605869293, 0.8539636135101318, 0.1428297609090805, 0.7141488194465637, 0.26366984844207764, 0.13183492422103882, 0.5712846517562866, 0.9525470733642578, 0.8549383878707886, 0.9122836589813232, 0.8130603432655334, 0.16261206567287445, 0.21772126853466034, 0.4354425370693207, 0.3265818953514099, 0.054430317133665085, 0.5428847074508667, 0.20358175039291382, 0.20358175039291382, 0.06432940810918808, 0.8362823128700256, 0.7686001658439636, 0.8537812232971191, 0.7720177173614502, 0.8676331639289856, 0.08766378462314606, 0.08766378462314606, 0.7013102769851685, 0.19194841384887695, 0.7677936553955078, 0.584229588508606, 0.21032264828681946, 0.04673836752772331, 0.09347673505544662, 0.07010754942893982, 0.5313207507133484, 0.2125283032655716, 0.2390943467617035, 0.20164471864700317, 0.06721490621566772, 0.13442981243133545, 0.6049341559410095, 0.28447142243385315, 0.7111785411834717, 0.6528635621070862, 0.16321589052677155, 0.16321589052677155, 0.9148057103157043, 0.8538241386413574, 0.7685569524765015, 0.2680519223213196, 0.5361038446426392, 0.0670129805803299, 0.1340259611606598, 0.1142505630850792, 0.2285011261701584, 0.6283780932426453, 0.11561040580272675, 0.8092728853225708, 0.1918298304080963, 0.7673193216323853, 0.6942431330680847, 0.23141436278820038, 0.11570718139410019, 0.15132145583629608, 0.2723786234855652, 0.5144929885864258, 0.06052858382463455, 0.8166186213493347, 0.19735045731067657, 0.5262678861618042, 0.16445870697498322, 0.06578348577022552, 0.06578348577022552, 0.16452771425247192, 0.6581108570098877, 0.21466656029224396, 0.16099992394447327, 0.25044432282447815, 0.16099992394447327, 0.21466656029224396, 0.7705560326576233, 0.12711066007614136, 0.12711066007614136, 0.7626639604568481, 0.2686627507209778, 0.16791421175003052, 0.36941128969192505, 0.20149706304073334, 0.9500768184661865, 0.950087308883667, 0.5431392788887024, 0.14293138682842255, 0.2858627736568451, 0.09616370499134064, 0.6731459498405457, 0.09616370499134064, 0.7595515847206116, 0.12636451423168182, 0.7581870555877686, 0.9738203287124634, 0.7141700983047485, 0.14283402264118195, 0.0890292152762413, 0.8012629151344299, 0.47536203265190125, 0.09507240355014801, 0.19014480710029602, 0.23768101632595062, 0.9662553071975708, 0.8577509522438049, 0.7707595825195312, 0.12845993041992188, 0.04971744120121002, 0.894913911819458, 0.12650719285011292, 0.06325359642505646, 0.7590430974960327, 0.6948354840278625, 0.23161183297634125, 0.9322984218597412, 0.7931957244873047, 0.15863914787769318, 0.031727828085422516, 0.7620633840560913, 0.29205775260925293, 0.17523466050624847, 0.3115282952785492, 0.21417568624019623], \"Term\": [\"#\", \"#\", \"%\", \"%\", \"%\", \"%\", \"-\", \"-\", \"-\", \"-\", \"abe\", \"acting\", \"ad\", \"advocate\", \"african\", \"air\", \"america\", \"america\", \"america\", \"america\", \"america\", \"american\", \"american\", \"american\", \"american\", \"amp\", \"amp\", \"amp\", \"amp\", \"amp\", \"angry\", \"angry\", \"arizona\", \"bad\", \"bad\", \"bad\", \"bad\", \"bad\", \"bernie\", \"bias\", \"biased\", \"biden\", \"biden\", \"biden\", \"big\", \"big\", \"big\", \"big\", \"big\", \"bill\", \"bill\", \"bill\", \"border\", \"border\", \"border\", \"border\", \"border\", \"brennan\", \"brett\", \"camp\", \"campaign\", \"campaign\", \"campaign\", \"campaign\", \"carolina\", \"china\", \"china\", \"china\", \"china\", \"circuit\", \"clapper\", \"clinton\", \"clinton\", \"clinton\", \"collusion\", \"collusion\", \"collusion\", \"comey\", \"comey\", \"comey\", \"completely\", \"condolence\", \"confidence\", \"conflict\", \"congratulation\", \"congratulation\", \"congratulation\", \"congratulation\", \"congress\", \"congress\", \"congress\", \"congress\", \"congresswoman\", \"coronavirus\", \"coronavirus\", \"corrupt\", \"corrupt\", \"corrupt\", \"counsel\", \"country\", \"country\", \"country\", \"country\", \"country\", \"crazy\", \"crazy\", \"crazy\", \"credibility\", \"credit\", \"crime\", \"crime\", \"crime\", \"crime\", \"crime\", \"crooked\", \"crooked\", \"crooked\", \"cut\", \"day\", \"day\", \"day\", \"day\", \"day\", \"deal\", \"deal\", \"deal\", \"death\", \"decade\", \"democrats\", \"democrats\", \"democrats\", \"democrats\", \"democrats\", \"dems\", \"dems\", \"dems\", \"dems\", \"dems\", \"department\", \"department\", \"development\", \"disastrous\", \"disgrace\", \"drug\", \"drug\", \"dumb\", \"economic\", \"economic\", \"economic\", \"economy\", \"economy\", \"economy\", \"economy\", \"economy\", \"election\", \"election\", \"email\", \"end\", \"endorsement\", \"energy\", \"energy\", \"especially\", \"european\", \"fact\", \"fact\", \"fact\", \"fake\", \"fake\", \"fake\", \"fake\", \"family\", \"family\", \"fantastic\", \"fantastic\", \"favorite\", \"fbi\", \"fbi\", \"fbi\", \"fire\", \"force\", \"force\", \"forward\", \"forward\", \"free\", \"free\", \"general\", \"general\", \"general\", \"georgia\", \"georgia\", \"god\", \"good\", \"good\", \"good\", \"good\", \"gop\", \"great\", \"great\", \"great\", \"great\", \"great\", \"guard\", \"hard\", \"hard\", \"hate\", \"healthcare\", \"healthcare\", \"healthcare\", \"high\", \"high\", \"high\", \"high\", \"hillary\", \"hillary\", \"hillary\", \"hillary\", \"history\", \"history\", \"history\", \"history\", \"homeland\", \"house\", \"house\", \"house\", \"house\", \"human\", \"hunt\", \"hunt\", \"hurricane\", \"idea\", \"idea\", \"immigration\", \"immigration\", \"impact\", \"industry\", \"inflation\", \"insurance\", \"interview\", \"investigation\", \"investigation\", \"israel\", \"israel\", \"israel\", \"james\", \"james\", \"japan\", \"job\", \"job\", \"job\", \"job\", \"joe\", \"joe\", \"joe\", \"jong\", \"journal\", \"justice\", \"justice\", \"justice\", \"kavanaugh\", \"kelly\", \"kim\", \"korea\", \"lady\", \"large\", \"large\", \"large\", \"late\", \"late\", \"law\", \"law\", \"law\", \"law\", \"lawyer\", \"lawyer\", \"leader\", \"leader\", \"leader\", \"leadership\", \"left\", \"left\", \"left\", \"lisa\", \"loss\", \"lover\", \"low\", \"low\", \"low\", \"low\", \"low\", \"mail\", \"mail\", \"man\", \"man\", \"man\", \"mccabe\", \"medal\", \"media\", \"media\", \"media\", \"media\", \"message\", \"mexico\", \"mexico\", \"military\", \"military\", \"military\", \"military\", \"minister\", \"minister\", \"missile\", \"mistake\", \"money\", \"money\", \"money\", \"mueller\", \"mueller\", \"mueller\", \"nancy\", \"nancy\", \"nancy\", \"national\", \"national\", \"national\", \"national\", \"national\", \"nato\", \"nato\", \"nbc\", \"nbc\", \"negative\", \"new\", \"new\", \"new\", \"new\", \"new\", \"news\", \"news\", \"news\", \"news\", \"news\", \"night\", \"night\", \"night\", \"night\", \"night\", \"non\", \"north\", \"north\", \"nuclear\", \"obama\", \"obama\", \"obama\", \"obstruction\", \"officer\", \"ohr\", \"opinion\", \"order\", \"order\", \"p.m.\", \"part\", \"party\", \"party\", \"party\", \"party\", \"past\", \"pathetic\", \"patriot\", \"pelosi\", \"pelosi\", \"pelosi\", \"people\", \"people\", \"people\", \"people\", \"people\", \"perfect\", \"peter\", \"phony\", \"phony\", \"phony\", \"phony\", \"pittsburgh\", \"pleased\", \"pleased\", \"podesta\", \"point\", \"point\", \"point\", \"police\", \"poll\", \"poll\", \"poll\", \"poll\", \"poll\", \"portland\", \"possible\", \"possible\", \"power\", \"power\", \"power\", \"president\", \"president\", \"president\", \"president\", \"press\", \"price\", \"price\", \"primary\", \"primary\", \"prime\", \"prime\", \"private\", \"problem\", \"problem\", \"problem\", \"problem\", \"properly\", \"prosecutor\", \"proud\", \"public\", \"putin\", \"question\", \"question\", \"radical\", \"radical\", \"radical\", \"rate\", \"rate\", \"rate\", \"rating\", \"recently\", \"relationship\", \"relief\", \"report\", \"report\", \"report\", \"republican\", \"republican\", \"republican\", \"republican\", \"republicans\", \"republicans\", \"republicans\", \"reserve\", \"respected\", \"ridiculous\", \"ridiculous\", \"risk\", \"robert\", \"robert\", \"russia\", \"russia\", \"russia\", \"russian\", \"safety\", \"scale\", \"school\", \"school\", \"security\", \"security\", \"security\", \"security\", \"senate\", \"senate\", \"senate\", \"senator\", \"senator\", \"service\", \"shooting\", \"single\", \"soldier\", \"southern\", \"southern\", \"southern\", \"special\", \"special\", \"state\", \"state\", \"state\", \"state\", \"state\", \"states\", \"states\", \"states\", \"story\", \"story\", \"story\", \"story\", \"street\", \"street\", \"strong\", \"strong\", \"strong\", \"strzok\", \"sunday\", \"tariff\", \"tariffs\", \"tariffs\", \"tariffs\", \"tariffs\", \"tax\", \"tax\", \"tax\", \"taxis\", \"taxis\", \"terrorist\", \"terrorist\", \"thought\", \"thought\", \"thought\", \"time\", \"time\", \"time\", \"time\", \"times\", \"today\", \"today\", \"today\", \"today\", \"today\", \"tom\", \"tom\", \"trump\", \"trump\", \"trump\", \"trump\", \"trump\", \"trump2016\", \"twitter\", \"twitter\", \"twitter\", \"u.s.\", \"u.s.\", \"u.s.\", \"u.s.\", \"unemployment\", \"union\", \"united\", \"united\", \"united\", \"victory\", \"victory\", \"victory\", \"violence\", \"virus\", \"virus\", \"wall\", \"war\", \"war\", \"washington\", \"washington\", \"way\", \"way\", \"way\", \"way\", \"white\", \"wife\", \"win\", \"win\", \"witch\", \"witch\", \"wonderful\", \"wonderful\", \"wonderful\", \"work\", \"work\", \"worker\", \"world\", \"world\", \"world\", \"wrong\", \"year\", \"year\", \"year\", \"year\"]}, \"R\": 30, \"lambda.step\": 0.01, \"plot.opts\": {\"xlab\": \"PC1\", \"ylab\": \"PC2\"}, \"topic.order\": [1, 2, 3, 5, 4]};\n",
       "\n",
       "function LDAvis_load_lib(url, callback){\n",
       "  var s = document.createElement('script');\n",
       "  s.src = url;\n",
       "  s.async = true;\n",
       "  s.onreadystatechange = s.onload = callback;\n",
       "  s.onerror = function(){console.warn(\"failed to load library \" + url);};\n",
       "  document.getElementsByTagName(\"head\")[0].appendChild(s);\n",
       "}\n",
       "\n",
       "if(typeof(LDAvis) !== \"undefined\"){\n",
       "   // already loaded: just create the visualization\n",
       "   !function(LDAvis){\n",
       "       new LDAvis(\"#\" + \"ldavis_el473321403256169100329721076102\", ldavis_el473321403256169100329721076102_data);\n",
       "   }(LDAvis);\n",
       "}else if(typeof define === \"function\" && define.amd){\n",
       "   // require.js is available: use it to load d3/LDAvis\n",
       "   require.config({paths: {d3: \"https://cdnjs.cloudflare.com/ajax/libs/d3/3.5.5/d3.min\"}});\n",
       "   require([\"d3\"], function(d3){\n",
       "      window.d3 = d3;\n",
       "      LDAvis_load_lib(\"https://cdn.rawgit.com/bmabey/pyLDAvis/files/ldavis.v1.0.0.js\", function(){\n",
       "        new LDAvis(\"#\" + \"ldavis_el473321403256169100329721076102\", ldavis_el473321403256169100329721076102_data);\n",
       "      });\n",
       "    });\n",
       "}else{\n",
       "    // require.js not available: dynamically load d3 & LDAvis\n",
       "    LDAvis_load_lib(\"https://cdnjs.cloudflare.com/ajax/libs/d3/3.5.5/d3.min.js\", function(){\n",
       "         LDAvis_load_lib(\"https://cdn.rawgit.com/bmabey/pyLDAvis/files/ldavis.v1.0.0.js\", function(){\n",
       "                 new LDAvis(\"#\" + \"ldavis_el473321403256169100329721076102\", ldavis_el473321403256169100329721076102_data);\n",
       "            })\n",
       "         });\n",
       "}\n",
       "</script>"
      ],
      "text/plain": [
       "<IPython.core.display.HTML object>"
      ]
     },
     "execution_count": 90,
     "metadata": {},
     "output_type": "execute_result"
    }
   ],
   "source": [
    "lda_display = pyLDAvis.gensim.prepare(lda_model_fake, fake_corpus, dictionary)\n",
    "# Let's Visualize\n",
    "pyLDAvis.display(lda_display)"
   ]
  },
  {
   "cell_type": "markdown",
   "metadata": {},
   "source": [
    "## LSI/LSA/SVD\n",
    "\n",
    "**Task**:\n",
    "- Consider exploring using a different approach (LSI + clustering) or perhaps even CorEx\n",
    "\n",
    "\n",
    "**Background info:**\n",
    "\n",
    "Latent semantic analysis (LSA) is a technique in natural language processing, in particular distributional semantics, of analyzing relationships between a set of documents and the terms they contain by producing a set of concepts related to the documents and terms. LSA assumes that words that are close in meaning will occur in similar pieces of text (the distributional hypothesis). A matrix containing word counts per document (rows represent unique words and columns represent each document) is constructed from a large piece of text and a mathematical technique called singular value decomposition (SVD) is used to reduce the number of rows while preserving the similarity structure among columns. Documents are then compared by taking the cosine of the angle between the two vectors (or the dot product between the normalizations of the two vectors) formed by any two columns. Values close to 1 represent very similar documents while values close to 0 represent very dissimilar documents\n",
    "\n",
    "In the context of its application to information retrieval, it is sometimes called latent semantic indexing (LSI) (https://en.wikipedia.org/wiki/Latent_semantic_analysis)\n",
    "\n",
    "see also: https://www.datacamp.com/community/tutorials/discovering-hidden-topics-python\n"
   ]
  },
  {
   "cell_type": "code",
   "execution_count": 8,
   "metadata": {},
   "outputs": [],
   "source": [
    "# Import the dictionary builder\n",
    "from gensim.corpora.dictionary import Dictionary\n",
    "\n",
    "# Import the TfidfModel from Gensim\n",
    "from gensim.models.tfidfmodel import TfidfModel\n",
    "\n",
    "# Just like before, we import the model\n",
    "from gensim.models.lsimodel import LsiModel\n",
    "\n",
    "# Tooling to map between corpus (gensim) and matrix - more general\n",
    "from gensim.matutils import corpus2csc, corpus2dense"
   ]
  },
  {
   "cell_type": "code",
   "execution_count": 10,
   "metadata": {},
   "outputs": [],
   "source": [
    "import nltk\n",
    "#nltk.download('punkt')\n",
    "#nltk.download('stopwords')\n",
    "from nltk.tokenize import word_tokenize\n",
    "from nltk.corpus import stopwords\n",
    "stop_words = set(stopwords.words('english'))"
   ]
  },
  {
   "cell_type": "code",
   "execution_count": 15,
   "metadata": {},
   "outputs": [],
   "source": [
    "#create tokens for each tweet (using spacy's nlp)\n",
    "tokens = []\n",
    "\n",
    "for tweet in nlp.pipe(data['tweet']):\n",
    "  tweet_tok = [token.lemma_.lower() for token in tweet if token.pos_ in ['NOUN', 'PROPN', 'ADJ', 'ADV'] and not token.is_stop] \n",
    "  tokens.append(tweet_tok)\n",
    "\n",
    "data['tokens'] = tokens\n",
    "\n",
    "# Generate a dictionary and filter\n",
    "dictionary = Dictionary(data['tokens'])\n",
    "dictionary.filter_extremes(no_below=5, no_above=0.2)\n",
    "\n",
    "# construct corpus using dictionary\n",
    "corpus = [dictionary.doc2bow(doc) for doc in data['tokens']]"
   ]
  },
  {
   "cell_type": "code",
   "execution_count": 16,
   "metadata": {},
   "outputs": [],
   "source": [
    "# Create and fit a new TfidfModel using the corpus: tfidf\n",
    "tfidf = TfidfModel(corpus)\n",
    "\n",
    "# transform corpus to TFIDF\n",
    "corpus_tfidf = tfidf[corpus]\n",
    "\n",
    "# Training the LSI model\n",
    "model_lsi = LsiModel(corpus_tfidf, num_topics = 300, id2word=dictionary)\n"
   ]
  },
  {
   "cell_type": "code",
   "execution_count": 17,
   "metadata": {},
   "outputs": [],
   "source": [
    "# Generating the corpus train & test\n",
    "\n",
    "corpus_lsi = model_lsi[corpus_tfidf]\n",
    "\n",
    "# turn into matrix\n",
    "corpus_lsi_matrix = corpus2dense(corpus_lsi, 300 )\n",
    "\n",
    "corpus_lsi_matrix = corpus_lsi_matrix.T"
   ]
  },
  {
   "cell_type": "code",
   "execution_count": 18,
   "metadata": {},
   "outputs": [],
   "source": [
    "from annoy import AnnoyIndex"
   ]
  },
  {
   "cell_type": "code",
   "execution_count": 19,
   "metadata": {},
   "outputs": [],
   "source": [
    "f = 300\n",
    "\n",
    "t = AnnoyIndex(f, 'angular')  # Length of item vector that will be indexed\n",
    "\n",
    "for i in range(len(corpus_lsi_matrix)):\n",
    "    t.add_item(i, corpus_lsi_matrix[i])"
   ]
  },
  {
   "cell_type": "code",
   "execution_count": 21,
   "metadata": {},
   "outputs": [
    {
     "data": {
      "text/plain": [
       "[0, 4496, 1235, 2824, 1037, 9887, 9237, 10180, 10269, 2894]"
      ]
     },
     "execution_count": 21,
     "metadata": {},
     "output_type": "execute_result"
    }
   ],
   "source": [
    "#t.get_nns_by_item(0, 10)\n",
    "#data['tweet'][t.get_nns_by_item(10, 10)]"
   ]
  },
  {
   "cell_type": "markdown",
   "metadata": {},
   "source": [
    "With below code we can browse around the nearest neighbours of a tweet in the dataset. With the few I have browsed, the LSI algorithm does not distinguish well between true and false (which makes sense, since our other models have also found it difficult to distinguish). "
   ]
  },
  {
   "cell_type": "code",
   "execution_count": 36,
   "metadata": {},
   "outputs": [
    {
     "data": {
      "text/html": [
       "<div>\n",
       "<style scoped>\n",
       "    .dataframe tbody tr th:only-of-type {\n",
       "        vertical-align: middle;\n",
       "    }\n",
       "\n",
       "    .dataframe tbody tr th {\n",
       "        vertical-align: top;\n",
       "    }\n",
       "\n",
       "    .dataframe thead th {\n",
       "        text-align: right;\n",
       "    }\n",
       "</style>\n",
       "<table border=\"1\" class=\"dataframe\">\n",
       "  <thead>\n",
       "    <tr style=\"text-align: right;\">\n",
       "      <th></th>\n",
       "      <th>tweet</th>\n",
       "      <th>is_real</th>\n",
       "    </tr>\n",
       "  </thead>\n",
       "  <tbody>\n",
       "    <tr>\n",
       "      <th>1</th>\n",
       "      <td>The Unsolicited Mail In Ballot Scam is a major threat to our Democracy, &amp;amp; the Democrats know it.</td>\n",
       "      <td>True</td>\n",
       "    </tr>\n",
       "    <tr>\n",
       "      <th>3887</th>\n",
       "      <td>“The only way to shut down the Democrats new Mob Rule strategy is to stop them cold at the Ballot Box.</td>\n",
       "      <td>True</td>\n",
       "    </tr>\n",
       "    <tr>\n",
       "      <th>1564</th>\n",
       "      <td>Exclusive: Eyewitness Says as Many as 20,000 Unverified Absentee Ballots Counted in Detroit Primary via</td>\n",
       "      <td>True</td>\n",
       "    </tr>\n",
       "    <tr>\n",
       "      <th>14363</th>\n",
       "      <td>It is much easier for the Dems &amp;amp, the Do Nothing Democrats to take control and beat Republicans because you can write the votes for the person you want to be on your ballot &amp;amp, then they can do it to you. The Do Nothing Democrats are the new House.</td>\n",
       "      <td>False</td>\n",
       "    </tr>\n",
       "    <tr>\n",
       "      <th>6300</th>\n",
       "      <td>Democrats must change the Loophole &amp;amp, Asylum Laws - but they probably won’t!</td>\n",
       "      <td>True</td>\n",
       "    </tr>\n",
       "    <tr>\n",
       "      <th>11444</th>\n",
       "      <td>I asked for it myself when asked why I left FBI at a time when I was under indictment for Witch Hunt &amp;amp, Impeachment. They just don’t have the answers and will make an even worse mess - it makes the Democrats look good!THANK YOU MAJOR JOB!</td>\n",
       "      <td>False</td>\n",
       "    </tr>\n",
       "    <tr>\n",
       "      <th>8712</th>\n",
       "      <td>It is much easier than that. Absentee Ballots will be mailed to all registered Democrats and Ballots mailed to all registered Republicans will be counted, with appropriate numbers, in the Election System, which means absentee voting is also possible.</td>\n",
       "      <td>False</td>\n",
       "    </tr>\n",
       "    <tr>\n",
       "      <th>5598</th>\n",
       "      <td>“It isn’t often I get angry at the dirty politics of the Democrats in Congress, but this time I am enraged and hope this impeachment charade will backfire on Reps. Pelosi &amp;amp, Schiff, &amp;amp, the Democrats.</td>\n",
       "      <td>True</td>\n",
       "    </tr>\n",
       "    <tr>\n",
       "      <th>5675</th>\n",
       "      <td>It is disgraceful what the Do Nothing Democrats are doing (the Impeachment Scam), but it is also disgraceful what they are NOT doing, namely, the USMCA vote, Prescription Drug Price Reduction, Gun Safety, Infrastructure, and much more!</td>\n",
       "      <td>True</td>\n",
       "    </tr>\n",
       "    <tr>\n",
       "      <th>11492</th>\n",
       "      <td>Not all of this is the Do Nothing Democrats fault, they must have been very naive &amp;amp; dishonest in 2016. Not only did FBI act on them, they have taken almost ALL of the info, including the Clinton Server. Very serious....“What the Democrats are doing is very, very, very bad.</td>\n",
       "      <td>False</td>\n",
       "    </tr>\n",
       "  </tbody>\n",
       "</table>\n",
       "</div>"
      ],
      "text/plain": [
       "                                                                                                                                                                                                                                                                                       tweet  \\\n",
       "1                                                                                                                                                                                       The Unsolicited Mail In Ballot Scam is a major threat to our Democracy, &amp; the Democrats know it.   \n",
       "3887                                                                                                                                                                                  “The only way to shut down the Democrats new Mob Rule strategy is to stop them cold at the Ballot Box.   \n",
       "1564                                                                                                                                                                                 Exclusive: Eyewitness Says as Many as 20,000 Unverified Absentee Ballots Counted in Detroit Primary via   \n",
       "14363                          It is much easier for the Dems &amp, the Do Nothing Democrats to take control and beat Republicans because you can write the votes for the person you want to be on your ballot &amp, then they can do it to you. The Do Nothing Democrats are the new House.   \n",
       "6300                                                                                                                                                                                                         Democrats must change the Loophole &amp, Asylum Laws - but they probably won’t!   \n",
       "11444                                      I asked for it myself when asked why I left FBI at a time when I was under indictment for Witch Hunt &amp, Impeachment. They just don’t have the answers and will make an even worse mess - it makes the Democrats look good!THANK YOU MAJOR JOB!   \n",
       "8712                              It is much easier than that. Absentee Ballots will be mailed to all registered Democrats and Ballots mailed to all registered Republicans will be counted, with appropriate numbers, in the Election System, which means absentee voting is also possible.   \n",
       "5598                                                                           “It isn’t often I get angry at the dirty politics of the Democrats in Congress, but this time I am enraged and hope this impeachment charade will backfire on Reps. Pelosi &amp, Schiff, &amp, the Democrats.   \n",
       "5675                                             It is disgraceful what the Do Nothing Democrats are doing (the Impeachment Scam), but it is also disgraceful what they are NOT doing, namely, the USMCA vote, Prescription Drug Price Reduction, Gun Safety, Infrastructure, and much more!   \n",
       "11492  Not all of this is the Do Nothing Democrats fault, they must have been very naive &amp; dishonest in 2016. Not only did FBI act on them, they have taken almost ALL of the info, including the Clinton Server. Very serious....“What the Democrats are doing is very, very, very bad.   \n",
       "\n",
       "       is_real  \n",
       "1         True  \n",
       "3887      True  \n",
       "1564      True  \n",
       "14363    False  \n",
       "6300      True  \n",
       "11444    False  \n",
       "8712     False  \n",
       "5598      True  \n",
       "5675      True  \n",
       "11492    False  "
      ]
     },
     "execution_count": 36,
     "metadata": {},
     "output_type": "execute_result"
    }
   ],
   "source": [
    "tweet_number= 1\n",
    "\n",
    "pd.set_option('display.max_colwidth', None)\n",
    "data.loc[t.get_nns_by_item(tweet_number, 10),[\"tweet\", \"is_real\"]]\n"
   ]
  }
 ],
 "metadata": {
  "colab": {
   "name": "Copy of sdsphd20_portfolio-assignments.ipynb",
   "provenance": [
    {
     "file_id": "https://github.com/CALDISS-AAU/sdsphd20/blob/master/notebooks/portfolio/sdsphd20_portfolio-assignments.ipynb",
     "timestamp": 1606403647406
    }
   ]
  },
  "kernelspec": {
   "display_name": "Python 3",
   "language": "python",
   "name": "python3"
  },
  "language_info": {
   "codemirror_mode": {
    "name": "ipython",
    "version": 3
   },
   "file_extension": ".py",
   "mimetype": "text/x-python",
   "name": "python",
   "nbconvert_exporter": "python",
   "pygments_lexer": "ipython3",
   "version": "3.7.9"
  },
  "toc": {
   "base_numbering": 1,
   "nav_menu": {},
   "number_sections": true,
   "sideBar": true,
   "skip_h1_title": false,
   "title_cell": "Table of Contents",
   "title_sidebar": "Contents",
   "toc_cell": false,
   "toc_position": {
    "height": "calc(100% - 180px)",
    "left": "10px",
    "top": "150px",
    "width": "165px"
   },
   "toc_section_display": true,
   "toc_window_display": false
  },
  "varInspector": {
   "cols": {
    "lenName": "30",
    "lenType": 16,
    "lenVar": 40
   },
   "kernels_config": {
    "python": {
     "delete_cmd_postfix": "",
     "delete_cmd_prefix": "del ",
     "library": "var_list.py",
     "varRefreshCmd": "print(var_dic_list())"
    },
    "r": {
     "delete_cmd_postfix": ") ",
     "delete_cmd_prefix": "rm(",
     "library": "var_list.r",
     "varRefreshCmd": "cat(var_dic_list()) "
    }
   },
   "types_to_exclude": [
    "module",
    "function",
    "builtin_function_or_method",
    "instance",
    "_Feature"
   ],
   "window_display": false
  }
 },
 "nbformat": 4,
 "nbformat_minor": 1
}
